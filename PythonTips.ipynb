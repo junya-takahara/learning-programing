{
 "cells": [
  {
   "attachments": {},
   "cell_type": "markdown",
   "metadata": {},
   "source": [
    "####  PythonTips"
   ]
  },
  {
   "cell_type": "code",
   "execution_count": 43,
   "metadata": {},
   "outputs": [
    {
     "name": "stdout",
     "output_type": "stream",
     "text": [
      "[0, 2, 4, 6, 8]\n",
      "[0, 2, 4, 6, 8]\n"
     ]
    }
   ],
   "source": [
    "\"\"\"リスト内包表記 クリーンで高速\"\"\"\n",
    "a = [i for i in range(10) if i % 2 == 0]\n",
    "\n",
    "events = []\n",
    "for i in range(10):\n",
    "    if i % 2 == 0:\n",
    "        events.append(i)\n",
    "print(events)\n",
    "print(a)"
   ]
  },
  {
   "cell_type": "code",
   "execution_count": 44,
   "metadata": {},
   "outputs": [
    {
     "name": "stdout",
     "output_type": "stream",
     "text": [
      "0 one\n",
      "1 two\n",
      "2 three\n"
     ]
    }
   ],
   "source": [
    "\"\"\"enumrate()関数\"\"\"\n",
    "for i, element in enumerate(['one', 'two', 'three']):\n",
    "    print(i, element)"
   ]
  },
  {
   "cell_type": "code",
   "execution_count": 11,
   "metadata": {},
   "outputs": [
    {
     "name": "stdout",
     "output_type": "stream",
     "text": [
      "[2, 6, 10, 14, 18]\n",
      "[4, 7, 10, 13, 16]\n",
      "(2, 4)\n",
      "(6, 7)\n",
      "(10, 10)\n",
      "(14, 13)\n",
      "(18, 16)\n"
     ]
    }
   ],
   "source": [
    "\"\"\"zip()関数\"\"\"\n",
    "A = [1,2,3,4,5,6,7,8,9,10,11,12,13,14,15,16,17,18]\n",
    "\n",
    "# [start:stop:step] のstopを省略\n",
    "print(A[1::4])\n",
    "print(A[3::3])\n",
    "\n",
    "for items in zip(A[1::4], A[3::3]):\n",
    "    print(items)"
   ]
  },
  {
   "cell_type": "code",
   "execution_count": 13,
   "metadata": {},
   "outputs": [
    {
     "name": "stdout",
     "output_type": "stream",
     "text": [
      "return_oneの実行\n",
      "開始: 2022-11-19 15:00:16.091101\n",
      "終了: 2022-11-19 15:00:16.091101\n",
      "実行結果: 1\n"
     ]
    },
    {
     "data": {
      "text/plain": [
       "1"
      ]
     },
     "execution_count": 13,
     "metadata": {},
     "output_type": "execute_result"
    }
   ],
   "source": [
    "\"\"\"デコレータの勉強\n",
    "要するに関数を受け取り関数を返す関数\n",
    "\"\"\"\n",
    "import datetime\n",
    "\n",
    "# デコレータ定義\n",
    "def my_logger(f):\n",
    "    def _wrapper(*args, **keywords):\n",
    "        # 前処理\n",
    "        print(f'{f.__name__}の実行')\n",
    "        print(f'開始: {datetime.datetime.now()}')\n",
    "\n",
    "        # デコレート対象の関数の実行\n",
    "        v = f(*args, **keywords)\n",
    "\n",
    "        # 後処理\n",
    "        print(f'終了: {datetime.datetime.now()}')\n",
    "        print(f'実行結果: {v}')\n",
    "\n",
    "        return v\n",
    "    return _wrapper\n",
    "\n",
    "# 実行\n",
    "@my_logger\n",
    "def return_one():\n",
    "    return 1\n",
    "\n",
    "return_one()"
   ]
  },
  {
   "cell_type": "code",
   "execution_count": 11,
   "metadata": {},
   "outputs": [
    {
     "name": "stdout",
     "output_type": "stream",
     "text": [
      "{'k1': 1, 'k2': 2, 'k3': 3}\n",
      "None\n",
      "2\n"
     ]
    }
   ],
   "source": [
    "\"\"\"辞書型の勉強\"\"\"\n",
    "d = dict(k1=1, k2=2, k3=3)\n",
    "print(d)\n",
    "print(d.get('存在しないキー'))\n",
    "print(d.get('k2'))"
   ]
  },
  {
   "cell_type": "code",
   "execution_count": 26,
   "metadata": {},
   "outputs": [
    {
     "data": {
      "text/plain": [
       "5000000000000001"
      ]
     },
     "execution_count": 26,
     "metadata": {},
     "output_type": "execute_result"
    }
   ],
   "source": [
    "\"\"\"typingの勉強\"\"\"\n",
    "from typing import Final\n",
    "\n",
    "HOSHII_YEN: Final = 5000_0000_0000_0000\n",
    "HOSHII_YEN += 1\n",
    "# errorとなるはずが。。。\n",
    "HOSHII_YEN"
   ]
  },
  {
   "cell_type": "code",
   "execution_count": 3,
   "metadata": {},
   "outputs": [
    {
     "name": "stdout",
     "output_type": "stream",
     "text": [
      "         5 function calls in 1.013 seconds\n",
      "\n",
      "   Ordered by: standard name\n",
      "\n",
      "   ncalls  tottime  percall  cumtime  percall filename:lineno(function)\n",
      "        1    0.000    0.000    1.013    1.013 3502286995.py:4(func)\n",
      "        1    0.000    0.000    1.013    1.013 <string>:1(<module>)\n",
      "        1    0.000    0.000    1.013    1.013 {built-in method builtins.exec}\n",
      "        1    1.013    1.013    1.013    1.013 {built-in method time.sleep}\n",
      "        1    0.000    0.000    0.000    0.000 {method 'disable' of '_lsprof.Profiler' objects}\n",
      "\n",
      "\n"
     ]
    }
   ],
   "source": [
    "\"\"\"cProfileの勉強\"\"\"\n",
    "import time\n",
    "import cProfile\n",
    "\n",
    "def func(sec):\n",
    "    time.sleep(sec)\n",
    "\n",
    "\n",
    "cProfile.run('func(1)')\n"
   ]
  },
  {
   "cell_type": "markdown",
   "metadata": {},
   "source": [
    "#### enumの勉強"
   ]
  },
  {
   "cell_type": "code",
   "execution_count": 17,
   "metadata": {},
   "outputs": [
    {
     "name": "stdout",
     "output_type": "stream",
     "text": [
      "Animal.CAT\n",
      "<Animal.CAT: 1>\n",
      "<enum 'Animal'>\n",
      "True\n",
      "Animal.CAT\n",
      "Animal.DOG\n",
      "Animal.BIRD\n"
     ]
    }
   ],
   "source": [
    "\"\"\"enumeration:列挙\"\"\"\n",
    "\n",
    "from enum import Enum\n",
    "\n",
    "class Animal(Enum):\n",
    "    CAT = 1\n",
    "    DOG = 2\n",
    "    BIRD = 3\n",
    "\n",
    "print(Animal.CAT)\n",
    "print(repr(Animal.CAT))\n",
    "print(type(Animal.CAT))\n",
    "print(isinstance(Animal.CAT, Animal))\n",
    "\n",
    "for n in Animal:\n",
    "    print(n)"
   ]
  },
  {
   "cell_type": "code",
   "execution_count": 14,
   "metadata": {},
   "outputs": [
    {
     "ename": "ValueError",
     "evalue": "duplicate values found in <enum 'Animal'>: BIRD -> CAT",
     "output_type": "error",
     "traceback": [
      "\u001b[1;31m---------------------------------------------------------------------------\u001b[0m",
      "\u001b[1;31mValueError\u001b[0m                                Traceback (most recent call last)",
      "Cell \u001b[1;32mIn [14], line 5\u001b[0m\n\u001b[0;32m      1\u001b[0m \u001b[39mfrom\u001b[39;00m \u001b[39menum\u001b[39;00m \u001b[39mimport\u001b[39;00m Enum, unique\n\u001b[0;32m      4\u001b[0m \u001b[39m@unique\u001b[39;49m\n\u001b[1;32m----> 5\u001b[0m \u001b[39mclass\u001b[39;49;00m \u001b[39mAnimal\u001b[39;49;00m(Enum):\n\u001b[0;32m      6\u001b[0m     CAT \u001b[39m=\u001b[39;49m \u001b[39m1\u001b[39;49m\n\u001b[0;32m      7\u001b[0m     DOG \u001b[39m=\u001b[39;49m \u001b[39m2\u001b[39;49m\n",
      "File \u001b[1;32mc:\\Users\\DIST\\AppData\\Local\\Programs\\Python\\Python38\\lib\\enum.py:974\u001b[0m, in \u001b[0;36munique\u001b[1;34m(enumeration)\u001b[0m\n\u001b[0;32m    971\u001b[0m \u001b[39mif\u001b[39;00m duplicates:\n\u001b[0;32m    972\u001b[0m     alias_details \u001b[39m=\u001b[39m \u001b[39m'\u001b[39m\u001b[39m, \u001b[39m\u001b[39m'\u001b[39m\u001b[39m.\u001b[39mjoin(\n\u001b[0;32m    973\u001b[0m             [\u001b[39m\"\u001b[39m\u001b[39m%s\u001b[39;00m\u001b[39m -> \u001b[39m\u001b[39m%s\u001b[39;00m\u001b[39m\"\u001b[39m \u001b[39m%\u001b[39m (alias, name) \u001b[39mfor\u001b[39;00m (alias, name) \u001b[39min\u001b[39;00m duplicates])\n\u001b[1;32m--> 974\u001b[0m     \u001b[39mraise\u001b[39;00m \u001b[39mValueError\u001b[39;00m(\u001b[39m'\u001b[39m\u001b[39mduplicate values found in \u001b[39m\u001b[39m%r\u001b[39;00m\u001b[39m: \u001b[39m\u001b[39m%s\u001b[39;00m\u001b[39m'\u001b[39m \u001b[39m%\u001b[39m\n\u001b[0;32m    975\u001b[0m             (enumeration, alias_details))\n\u001b[0;32m    976\u001b[0m \u001b[39mreturn\u001b[39;00m enumeration\n",
      "\u001b[1;31mValueError\u001b[0m: duplicate values found in <enum 'Animal'>: BIRD -> CAT"
     ]
    }
   ],
   "source": [
    "\"\"\"列挙型内で重複した定数を許したくない場合は、uniqueデコレーターを使う\"\"\"\n",
    "from enum import Enum, unique\n",
    "\n",
    "@unique\n",
    "class Animal(Enum):\n",
    "    CAT = 1\n",
    "    DOG = 2\n",
    "    BIRD = 1"
   ]
  },
  {
   "cell_type": "code",
   "execution_count": 15,
   "metadata": {},
   "outputs": [
    {
     "name": "stdout",
     "output_type": "stream",
     "text": [
      "<Animal.CAT: 1>\n",
      "<Animal.DOG: 2>\n",
      "<Animal.BIRD: 3>\n"
     ]
    }
   ],
   "source": [
    "\"\"\"定数の値を自動で割り振りたい場合\"\"\"\n",
    "from enum import Enum, auto\n",
    "\n",
    "class Animal(Enum):\n",
    "    CAT = auto()\n",
    "    DOG = auto()\n",
    "    BIRD = auto()\n",
    "\n",
    "for n in Animal:\n",
    "    print(repr(n))"
   ]
  },
  {
   "cell_type": "code",
   "execution_count": 18,
   "metadata": {},
   "outputs": [
    {
     "name": "stdout",
     "output_type": "stream",
     "text": [
      "{<Animal.CAT: 0>: 'cat', <Animal.DOG: 1>: 'dog'}\n"
     ]
    }
   ],
   "source": [
    "\"\"\"定数はハッシュ化可能なため、辞書や集合のキーとして使うことが出来ます。\"\"\"\n",
    "from enum import Enum\n",
    "\n",
    "class Animal(Enum):\n",
    "    CAT = 0\n",
    "    DOG = 1\n",
    "    BIRD = 2\n",
    "\n",
    "d = {}\n",
    "\n",
    "d[Animal.CAT] = 'cat'\n",
    "d[Animal.DOG] = 'dog'\n",
    "\n",
    "print(d)"
   ]
  },
  {
   "cell_type": "code",
   "execution_count": 32,
   "metadata": {},
   "outputs": [
    {
     "data": {
      "text/plain": [
       "[1, 2, 3, 4, 5, 6]"
      ]
     },
     "execution_count": 32,
     "metadata": {},
     "output_type": "execute_result"
    }
   ],
   "source": [
    "\"\"\"\"アンパックしリスト作成\"\"\"\n",
    "a = [1,2,3]\n",
    "b = [4,5,6,]\n",
    "[*a,*b]"
   ]
  },
  {
   "cell_type": "code",
   "execution_count": 34,
   "metadata": {},
   "outputs": [
    {
     "data": {
      "text/plain": [
       "[1, 1, 2, 3, 5, 8, 13, 21, 34, 55]"
      ]
     },
     "execution_count": 34,
     "metadata": {},
     "output_type": "execute_result"
    }
   ],
   "source": [
    "def fibonacci():\n",
    "    a, b = 0,1\n",
    "    while True:\n",
    "        yield b\n",
    "        a, b = b, a + b\n",
    "\n",
    "fib = fibonacci()\n",
    "[next(fib) for i in range(10)]"
   ]
  }
 ],
 "metadata": {
  "kernelspec": {
   "display_name": "Python 3.8.10 64-bit",
   "language": "python",
   "name": "python3"
  },
  "language_info": {
   "codemirror_mode": {
    "name": "ipython",
    "version": 3
   },
   "file_extension": ".py",
   "mimetype": "text/x-python",
   "name": "python",
   "nbconvert_exporter": "python",
   "pygments_lexer": "ipython3",
   "version": "3.8.10 (tags/v3.8.10:3d8993a, May  3 2021, 11:48:03) [MSC v.1928 64 bit (AMD64)]"
  },
  "orig_nbformat": 4,
  "vscode": {
   "interpreter": {
    "hash": "54428d496bfb46da9f3478728626945b1bc5948453d30e53d8a44d3564d165b4"
   }
  }
 },
 "nbformat": 4,
 "nbformat_minor": 2
}
