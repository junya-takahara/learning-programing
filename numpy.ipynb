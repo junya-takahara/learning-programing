{
 "cells": [
  {
   "cell_type": "code",
   "execution_count": 18,
   "metadata": {},
   "outputs": [
    {
     "name": "stdout",
     "output_type": "stream",
     "text": [
      "[[1. 4.]\n",
      " [3. 3.]]\n",
      "<class 'numpy.ndarray'>\n",
      "(2, 2)\n",
      "4\n",
      "2\n",
      "int32\n",
      "16\n"
     ]
    }
   ],
   "source": [
    "import numpy as np\n",
    "\n",
    "x = np.array([[1,4],[3,3]])\n",
    "x_t = np.linalg.inv(x) # 逆行列を求める\n",
    "i = x.dot(x_t) # 行列とその逆行列の積は単位行列となる\n",
    "print(x.dot(i)) # 行列ｘに単位行列を掛けると結果はｘに等しくなる\n",
    "print(type(x))\n",
    "print(x.shape) # 次元をタプルで返す\n",
    "print(x.size) # 全要素数\n",
    "print(x.ndim) # 配列の次元数\n",
    "print(x.dtype) # 配列のデータ型\n",
    "print(x.nbytes) # 消費バイト数\n"
   ]
  },
  {
   "cell_type": "code",
   "execution_count": null,
   "metadata": {},
   "outputs": [],
   "source": []
  }
 ],
 "metadata": {
  "kernelspec": {
   "display_name": "Python 3.8.2 32-bit",
   "language": "python",
   "name": "python3"
  },
  "language_info": {
   "codemirror_mode": {
    "name": "ipython",
    "version": 3
   },
   "file_extension": ".py",
   "mimetype": "text/x-python",
   "name": "python",
   "nbconvert_exporter": "python",
   "pygments_lexer": "ipython3",
   "version": "3.8.2"
  },
  "orig_nbformat": 4,
  "vscode": {
   "interpreter": {
    "hash": "ab346aeb941d3eb22c315bdddbcd7a9399296d9e3feea520812b7600ca0cd9c8"
   }
  }
 },
 "nbformat": 4,
 "nbformat_minor": 2
}
