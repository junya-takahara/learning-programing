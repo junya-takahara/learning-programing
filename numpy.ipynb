{
 "cells": [
  {
   "cell_type": "markdown",
   "metadata": {},
   "source": [
    "#### 機械学習のための numpy"
   ]
  },
  {
   "cell_type": "code",
   "execution_count": null,
   "metadata": {},
   "outputs": [],
   "source": [
    "\"\"\" int32 int64 の違いって何？\n",
    "整数のタイプごとに、異なる範囲のストレージ容量がある\n",
    "Int16 -- 2バイト-- (-32,768 to +32,767)\n",
    "Int32 -- 4バイト-- (-2,147,483,648 to +2,147,483,647)\n",
    "Int64 -- 8バイト-- (-9,223,372,036,854,775,808 to +9,223,372,036,854,775,807)\n",
    "\"\"\"\n",
    "\n",
    "\"\"\"パーセンタイルって何？\n",
    "パーセンタイルは、データを大きさ順でならべて100個に区切り、\n",
    "小さいほうからのどの位置にあるかを見るものです。\n",
    "50パーセンタイルは、小さいほうから50/100のところにあるデータです。\n",
    "\"\"\""
   ]
  },
  {
   "cell_type": "code",
   "execution_count": 56,
   "metadata": {},
   "outputs": [
    {
     "name": "stdout",
     "output_type": "stream",
     "text": [
      "[[1 4]\n",
      " [3 3]]\n",
      "<class 'numpy.ndarray'>\n",
      "(2, 2)\n",
      "4\n",
      "2\n",
      "int32\n",
      "16\n"
     ]
    }
   ],
   "source": [
    "\"\"\"基本情報\"\"\"\n",
    "import numpy as np\n",
    "x = np.array([[1,4],[3,3]])\n",
    "print(x)\n",
    "print(type(x)) # \n",
    "print(x.shape) # 次元をタプルで返す\n",
    "print(x.size) # 全要素数\n",
    "print(x.ndim) # 配列の次元数\n",
    "print(x.dtype) # 配列のデータ型\n",
    "print(x.nbytes) # 消費バイト数"
   ]
  },
  {
   "cell_type": "code",
   "execution_count": 57,
   "metadata": {},
   "outputs": [
    {
     "data": {
      "text/plain": [
       "array([[-0.33333333,  0.44444444],\n",
       "       [ 0.33333333, -0.11111111]])"
      ]
     },
     "execution_count": 57,
     "metadata": {},
     "output_type": "execute_result"
    }
   ],
   "source": [
    "\"\"\"逆行列\"\"\"\n",
    "x_t = np.linalg.inv(x) \n",
    "x_t"
   ]
  },
  {
   "cell_type": "code",
   "execution_count": 58,
   "metadata": {},
   "outputs": [
    {
     "data": {
      "text/plain": [
       "array([[1., 0.],\n",
       "       [0., 1.]])"
      ]
     },
     "execution_count": 58,
     "metadata": {},
     "output_type": "execute_result"
    }
   ],
   "source": [
    "\"\"\"行列とその逆行列の積は単位行列となる\"\"\"\n",
    "i = x.dot(x_t)\n",
    "i"
   ]
  },
  {
   "cell_type": "code",
   "execution_count": 59,
   "metadata": {},
   "outputs": [
    {
     "data": {
      "text/plain": [
       "array([[1., 0.],\n",
       "       [0., 1.]])"
      ]
     },
     "execution_count": 59,
     "metadata": {},
     "output_type": "execute_result"
    }
   ],
   "source": [
    "\"\"\"単位行列はこのようにも作れる\"\"\"\n",
    "i = np.identity(2)\n",
    "i"
   ]
  },
  {
   "cell_type": "code",
   "execution_count": 60,
   "metadata": {},
   "outputs": [
    {
     "data": {
      "text/plain": [
       "array([[1., 4.],\n",
       "       [3., 3.]])"
      ]
     },
     "execution_count": 60,
     "metadata": {},
     "output_type": "execute_result"
    }
   ],
   "source": [
    "\"\"\"行列ｘに単位行列を掛けると結果はｘに等しくなる\"\"\"\n",
    "x.dot(i)"
   ]
  },
  {
   "cell_type": "code",
   "execution_count": 61,
   "metadata": {},
   "outputs": [
    {
     "name": "stdout",
     "output_type": "stream",
     "text": [
      "24\n",
      "48\n",
      "96\n",
      "48\n"
     ]
    }
   ],
   "source": [
    "\"\"\"消費バイト数比較  (-2147483647 < 扱う数字 < 2147483648) なら int32で十分でしょう\"\"\"\n",
    "x = np.array([[1,2,3],[4,5,6]], dtype = np.uint32) # uint（符号なし整数）\n",
    "print(x.nbytes)\n",
    "x = np.array([[1,2,3],[4,5,6]], dtype = np.float)\n",
    "print(x.nbytes)\n",
    "x = np.array([[1,2,3],[4,5,6]], dtype = np.complex)\n",
    "print(x.nbytes)\n",
    "x = np.array([[1,2,3],[4,5,6]], dtype = np.int64)\n",
    "print(x.nbytes)"
   ]
  },
  {
   "cell_type": "code",
   "execution_count": 62,
   "metadata": {},
   "outputs": [
    {
     "name": "stdout",
     "output_type": "stream",
     "text": [
      "[[1. 2. 3.]\n",
      " [4. 5. 6.]]\n"
     ]
    },
    {
     "data": {
      "text/plain": [
       "array([[1, 2, 3],\n",
       "       [4, 5, 6]], dtype=uint32)"
      ]
     },
     "execution_count": 62,
     "metadata": {},
     "output_type": "execute_result"
    }
   ],
   "source": [
    "\"\"\"astype属性を使い新たなdtypeの配列にコピー\"\"\"\n",
    "x = np.array([[1,2,3],[4,5,6]], dtype = np.uint32) \n",
    "x_copy_int = x.astype(np.float)\n",
    "print(x_copy_int)\n",
    "x # 元の配列のdtypeは変わらない"
   ]
  },
  {
   "cell_type": "code",
   "execution_count": 63,
   "metadata": {},
   "outputs": [
    {
     "name": "stdout",
     "output_type": "stream",
     "text": [
      "80000000\n",
      "40000000\n"
     ]
    }
   ],
   "source": [
    "\"\"\"\n",
    "dtypeを変えるだけで配列の大きさが80MBから40MBに縮小する。\n",
    "その代わり、小数点以下の精度は低くなる。小数点以下16桁から7桁に。\n",
    "\"\"\"\n",
    "big_data = np.random.rand(100000,100)\n",
    "print(big_data.nbytes)\n",
    "big_data_new = big_data.astype(np.float32)\n",
    "print(big_data_new.nbytes)"
   ]
  },
  {
   "cell_type": "code",
   "execution_count": 64,
   "metadata": {},
   "outputs": [
    {
     "data": {
      "text/plain": [
       "array([ 4, 16,  8, 10])"
      ]
     },
     "execution_count": 64,
     "metadata": {},
     "output_type": "execute_result"
    }
   ],
   "source": [
    "\"\"\"リストではこんな簡単に計算出来なくて、要素を反復する必要が\"\"\"\n",
    "my_list = [2, 14, 6, 8]\n",
    "my_array = np.asarray(my_list)\n",
    "my_array + 2 #  "
   ]
  },
  {
   "cell_type": "code",
   "execution_count": 65,
   "metadata": {},
   "outputs": [
    {
     "data": {
      "text/plain": [
       "array([3. , 3.5, 4. , 4.5, 5. , 5.5, 6. , 6.5])"
      ]
     },
     "execution_count": 65,
     "metadata": {},
     "output_type": "execute_result"
    }
   ],
   "source": [
    "\"\"\"配列作成の便利方法（開始、終了、間隔）\"\"\"\n",
    "x = np.arange(3,7,0.5)\n",
    "x"
   ]
  },
  {
   "cell_type": "code",
   "execution_count": 66,
   "metadata": {},
   "outputs": [
    {
     "data": {
      "text/plain": [
       "array([ 1.2       ,  3.26842105,  5.33684211,  7.40526316,  9.47368421,\n",
       "       11.54210526, 13.61052632, 15.67894737, 17.74736842, 19.81578947,\n",
       "       21.88421053, 23.95263158, 26.02105263, 28.08947368, 30.15789474,\n",
       "       32.22631579, 34.29473684, 36.36315789, 38.43157895, 40.5       ])"
      ]
     },
     "execution_count": 66,
     "metadata": {},
     "output_type": "execute_result"
    }
   ],
   "source": [
    "\"\"\"いくつに分割したいかわかっている場合\"\"\"\n",
    "x = np.linspace(1.2, 40.5, num=20)\n",
    "x"
   ]
  },
  {
   "cell_type": "code",
   "execution_count": 67,
   "metadata": {},
   "outputs": [
    {
     "data": {
      "text/plain": [
       "array([  1.,   5.,  25., 125., 625.])"
      ]
     },
     "execution_count": 67,
     "metadata": {},
     "output_type": "execute_result"
    }
   ],
   "source": [
    "\"\"\"対数スケールの等比等比数列を返す\"\"\"\n",
    "np.geomspace(1, 625, num=5)"
   ]
  },
  {
   "cell_type": "code",
   "execution_count": 68,
   "metadata": {},
   "outputs": [
    {
     "data": {
      "text/plain": [
       "array([ 1000.        ,  1778.27941004,  3162.27766017,  5623.4132519 ,\n",
       "       10000.        ])"
      ]
     },
     "execution_count": 68,
     "metadata": {},
     "output_type": "execute_result"
    }
   ],
   "source": [
    "\"\"\"\n",
    "開始値と終了値の間を対数スケールで均等に値を並べた配列を返す\n",
    "下の場合、開始値が10**3で終了値が10**4\n",
    "\"\"\"\n",
    "np.logspace(3, 4, num=5)"
   ]
  },
  {
   "cell_type": "code",
   "execution_count": 69,
   "metadata": {},
   "outputs": [
    {
     "data": {
      "text/plain": [
       "array([3.        , 3.2237098 , 3.46410162, 3.72241944, 4.        ])"
      ]
     },
     "execution_count": 69,
     "metadata": {},
     "output_type": "execute_result"
    }
   ],
   "source": [
    "\"\"\"上記例のような大きな値を避けるには常用対数を用いる\"\"\"\n",
    "np.logspace(np.log10(3), np.log10(4), num=5)"
   ]
  },
  {
   "cell_type": "code",
   "execution_count": 73,
   "metadata": {},
   "outputs": [
    {
     "data": {
      "text/plain": [
       "array([ True,  True,  True, False])"
      ]
     },
     "execution_count": 73,
     "metadata": {},
     "output_type": "execute_result"
    }
   ],
   "source": [
    "\"\"\"配列同士を高速に比較\"\"\"\n",
    "x = np.array([1,2,3,4])\n",
    "y = np.array([1,2,3,3])\n",
    "x == y"
   ]
  },
  {
   "cell_type": "code",
   "execution_count": 75,
   "metadata": {},
   "outputs": [
    {
     "data": {
      "text/plain": [
       "False"
      ]
     },
     "execution_count": 75,
     "metadata": {},
     "output_type": "execute_result"
    }
   ],
   "source": [
    "\"\"\"2つの配列の全要素同士が一致するか否かを1つの値で返す\"\"\"\n",
    "x = np.array([1,2,3,4,5,6,7,8,1,2,3,4,5,6,7,8,1,2,3,4,5,6,7,8,9,9,9,9])\n",
    "y = np.array([1,2,3,4,5,6,7,8,1,2,3,4,5,6,7,8,1,2,3,4,5,6,7,8,9,9,8,9])\n",
    "np.array_equal(x,y)"
   ]
  },
  {
   "cell_type": "code",
   "execution_count": 77,
   "metadata": {},
   "outputs": [
    {
     "data": {
      "text/plain": [
       "array([False, False, False, False, False, False, False, False, False,\n",
       "       False, False, False, False, False, False, False, False, False,\n",
       "       False, False, False, False, False, False, False, False,  True,\n",
       "       False])"
      ]
     },
     "execution_count": 77,
     "metadata": {},
     "output_type": "execute_result"
    }
   ],
   "source": [
    "x > y"
   ]
  },
  {
   "cell_type": "code",
   "execution_count": 80,
   "metadata": {},
   "outputs": [
    {
     "data": {
      "text/plain": [
       "array([False,  True, False, False])"
      ]
     },
     "execution_count": 80,
     "metadata": {},
     "output_type": "execute_result"
    }
   ],
   "source": [
    "\"\"\"論理比較（AND）\"\"\"\n",
    "x = np.array([0, 1, 0, 0], dtype=bool)\n",
    "y = np.array([1, 1, 0, 1], dtype=bool)\n",
    "np.logical_and(x,y)"
   ]
  },
  {
   "cell_type": "code",
   "execution_count": 81,
   "metadata": {},
   "outputs": [
    {
     "data": {
      "text/plain": [
       "array([ True, False,  True,  True])"
      ]
     },
     "execution_count": 81,
     "metadata": {},
     "output_type": "execute_result"
    }
   ],
   "source": [
    "\"\"\"論理比較（OR）\"\"\"\n",
    "x = np.array([12,16,57,11])\n",
    "np.logical_or(x < 13, x > 50)"
   ]
  },
  {
   "cell_type": "code",
   "execution_count": 82,
   "metadata": {},
   "outputs": [
    {
     "name": "stdout",
     "output_type": "stream",
     "text": [
      "[1.62754791e+05 8.88611052e+06 5.68572000e+24 5.98741417e+04]\n",
      "[-0.53657292 -0.28790332  0.43616476 -0.99999021]\n"
     ]
    }
   ],
   "source": [
    "\"\"\"指数、三角関数\"\"\"\n",
    "print(np.exp(x))\n",
    "print(np.sin(x))"
   ]
  },
  {
   "cell_type": "code",
   "execution_count": 86,
   "metadata": {},
   "outputs": [
    {
     "name": "stdout",
     "output_type": "stream",
     "text": [
      "[0 1 2 3 4 5 6 7 8]\n"
     ]
    },
    {
     "data": {
      "text/plain": [
       "array([[0, 1, 2],\n",
       "       [3, 4, 5],\n",
       "       [6, 7, 8]])"
      ]
     },
     "execution_count": 86,
     "metadata": {},
     "output_type": "execute_result"
    }
   ],
   "source": [
    "\"\"\"行列を希望の形状に\"\"\"\n",
    "x = np.arange(9)\n",
    "print(x)\n",
    "y = x.reshape((3, 3))\n",
    "y"
   ]
  },
  {
   "cell_type": "code",
   "execution_count": 90,
   "metadata": {},
   "outputs": [
    {
     "data": {
      "text/plain": [
       "array([[0, 3, 6],\n",
       "       [1, 4, 7],\n",
       "       [2, 5, 8]])"
      ]
     },
     "execution_count": 90,
     "metadata": {},
     "output_type": "execute_result"
    }
   ],
   "source": [
    "\"\"\"行列の転置\"\"\"\n",
    "y.T"
   ]
  },
  {
   "cell_type": "code",
   "execution_count": null,
   "metadata": {},
   "outputs": [],
   "source": []
  }
 ],
 "metadata": {
  "kernelspec": {
   "display_name": "Python 3.8.2 32-bit",
   "language": "python",
   "name": "python3"
  },
  "language_info": {
   "codemirror_mode": {
    "name": "ipython",
    "version": 3
   },
   "file_extension": ".py",
   "mimetype": "text/x-python",
   "name": "python",
   "nbconvert_exporter": "python",
   "pygments_lexer": "ipython3",
   "version": "3.8.2"
  },
  "orig_nbformat": 4,
  "vscode": {
   "interpreter": {
    "hash": "ab346aeb941d3eb22c315bdddbcd7a9399296d9e3feea520812b7600ca0cd9c8"
   }
  }
 },
 "nbformat": 4,
 "nbformat_minor": 2
}
