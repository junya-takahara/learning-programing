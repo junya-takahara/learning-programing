{
 "cells": [
  {
   "cell_type": "markdown",
   "metadata": {},
   "source": [
    "#### 機械学習のための Numpy"
   ]
  },
  {
   "cell_type": "code",
   "execution_count": 71,
   "metadata": {},
   "outputs": [
    {
     "name": "stdout",
     "output_type": "stream",
     "text": [
      "[[1 4]\n",
      " [3 3]]\n",
      "<class 'numpy.ndarray'>\n",
      "(2, 2)\n",
      "4\n",
      "2\n",
      "int32\n",
      "16\n"
     ]
    }
   ],
   "source": [
    "import numpy as np\n",
    "\n",
    "\"\"\"基本情報\"\"\"\n",
    "x = np.array([[1,4],[3,3]])\n",
    "print(x)\n",
    "print(type(x))  \n",
    "print(x.shape) # 次元をタプルで返す\n",
    "print(x.size) # 全要素数\n",
    "print(x.ndim) # 配列の次元数\n",
    "print(x.dtype) # 配列のデータ型\n",
    "print(x.nbytes) # 消費バイト数"
   ]
  },
  {
   "cell_type": "code",
   "execution_count": 72,
   "metadata": {},
   "outputs": [
    {
     "data": {
      "text/plain": [
       "-9.000000000000002"
      ]
     },
     "execution_count": 72,
     "metadata": {},
     "output_type": "execute_result"
    }
   ],
   "source": [
    "\"\"\"行列式で判定　結果が0の場合は逆行列を持たない ※xは正方行列（行数と列数が等しい行列）の必要がある\"\"\"\n",
    "np.linalg.det(x)"
   ]
  },
  {
   "cell_type": "code",
   "execution_count": 73,
   "metadata": {},
   "outputs": [
    {
     "data": {
      "text/plain": [
       "array([[-0.33333333,  0.44444444],\n",
       "       [ 0.33333333, -0.11111111]])"
      ]
     },
     "execution_count": 73,
     "metadata": {},
     "output_type": "execute_result"
    }
   ],
   "source": [
    "\"\"\"逆行列\n",
    "※xは正方行列（行数と列数が等しい行列）の必要がある\n",
    "※回帰分析で使われる\n",
    "\"\"\"\n",
    "x_t = np.linalg.inv(x) \n",
    "x_t"
   ]
  },
  {
   "cell_type": "code",
   "execution_count": 58,
   "metadata": {},
   "outputs": [
    {
     "data": {
      "text/plain": [
       "array([[1., 0.],\n",
       "       [0., 1.]])"
      ]
     },
     "execution_count": 58,
     "metadata": {},
     "output_type": "execute_result"
    }
   ],
   "source": [
    "\"\"\"行列とその逆行列の積は単位行列となる\"\"\"\n",
    "i = x.dot(x_t)\n",
    "i"
   ]
  },
  {
   "cell_type": "code",
   "execution_count": 59,
   "metadata": {},
   "outputs": [
    {
     "data": {
      "text/plain": [
       "array([[1., 0.],\n",
       "       [0., 1.]])"
      ]
     },
     "execution_count": 59,
     "metadata": {},
     "output_type": "execute_result"
    }
   ],
   "source": [
    "\"\"\"単位行列はこのようにも作れる\"\"\"\n",
    "i = np.identity(2)\n",
    "i"
   ]
  },
  {
   "cell_type": "code",
   "execution_count": 60,
   "metadata": {},
   "outputs": [
    {
     "data": {
      "text/plain": [
       "array([[1., 4.],\n",
       "       [3., 3.]])"
      ]
     },
     "execution_count": 60,
     "metadata": {},
     "output_type": "execute_result"
    }
   ],
   "source": [
    "\"\"\"行列ｘに単位行列を掛けると結果はｘに等しくなる\"\"\"\n",
    "x.dot(i)"
   ]
  },
  {
   "cell_type": "code",
   "execution_count": 61,
   "metadata": {},
   "outputs": [
    {
     "name": "stdout",
     "output_type": "stream",
     "text": [
      "24\n",
      "48\n",
      "96\n",
      "48\n"
     ]
    }
   ],
   "source": [
    "\"\"\"消費バイト数比較  (-2147483647 < 扱う数字 < 2147483648) なら int32で十分でしょう\"\"\"\n",
    "x = np.array([[1,2,3],[4,5,6]], dtype = np.uint32) # uint（符号なし整数）\n",
    "print(x.nbytes)\n",
    "x = np.array([[1,2,3],[4,5,6]], dtype = np.float)\n",
    "print(x.nbytes)\n",
    "x = np.array([[1,2,3],[4,5,6]], dtype = np.complex)\n",
    "print(x.nbytes)\n",
    "x = np.array([[1,2,3],[4,5,6]], dtype = np.int64)\n",
    "print(x.nbytes)\n",
    "\n",
    "\"\"\" int32 int64 の違いって何？\n",
    "整数のタイプごとに、異なる範囲のストレージ容量がある\n",
    "Int16 -- 2バイト-- (-32,768 to +32,767)\n",
    "Int32 -- 4バイト-- (-2,147,483,648 to +2,147,483,647)\n",
    "Int64 -- 8バイト-- (-9,223,372,036,854,775,808 to +9,223,372,036,854,775,807)\n",
    "\"\"\""
   ]
  },
  {
   "cell_type": "code",
   "execution_count": 62,
   "metadata": {},
   "outputs": [
    {
     "name": "stdout",
     "output_type": "stream",
     "text": [
      "[[1. 2. 3.]\n",
      " [4. 5. 6.]]\n"
     ]
    },
    {
     "data": {
      "text/plain": [
       "array([[1, 2, 3],\n",
       "       [4, 5, 6]], dtype=uint32)"
      ]
     },
     "execution_count": 62,
     "metadata": {},
     "output_type": "execute_result"
    }
   ],
   "source": [
    "\"\"\"astype属性を使い新たなdtypeの配列にコピー\"\"\"\n",
    "x = np.array([[1,2,3],[4,5,6]], dtype = np.uint32) \n",
    "x_copy_int = x.astype(np.float)\n",
    "print(x_copy_int)\n",
    "x # 元の配列のdtypeは変わらない"
   ]
  },
  {
   "cell_type": "code",
   "execution_count": 63,
   "metadata": {},
   "outputs": [
    {
     "name": "stdout",
     "output_type": "stream",
     "text": [
      "80000000\n",
      "40000000\n"
     ]
    }
   ],
   "source": [
    "\"\"\"\n",
    "dtypeを変えるだけで配列の大きさが80MBから40MBに縮小する。\n",
    "その代わり、小数点以下の精度は低くなる。小数点以下16桁から7桁に。\n",
    "\"\"\"\n",
    "big_data = np.random.rand(100000,100)\n",
    "print(big_data.nbytes)\n",
    "big_data_new = big_data.astype(np.float32)\n",
    "print(big_data_new.nbytes)"
   ]
  },
  {
   "cell_type": "code",
   "execution_count": 64,
   "metadata": {},
   "outputs": [
    {
     "data": {
      "text/plain": [
       "array([ 4, 16,  8, 10])"
      ]
     },
     "execution_count": 64,
     "metadata": {},
     "output_type": "execute_result"
    }
   ],
   "source": [
    "\"\"\"リストではこんな簡単に計算出来なくて、要素を反復する必要が\"\"\"\n",
    "my_list = [2, 14, 6, 8]\n",
    "my_array = np.asarray(my_list)\n",
    "my_array + 2 #  "
   ]
  },
  {
   "cell_type": "code",
   "execution_count": 65,
   "metadata": {},
   "outputs": [
    {
     "data": {
      "text/plain": [
       "array([3. , 3.5, 4. , 4.5, 5. , 5.5, 6. , 6.5])"
      ]
     },
     "execution_count": 65,
     "metadata": {},
     "output_type": "execute_result"
    }
   ],
   "source": [
    "\"\"\"配列作成の便利方法（開始、終了、間隔）\"\"\"\n",
    "x = np.arange(3,7,0.5)\n",
    "x"
   ]
  },
  {
   "cell_type": "code",
   "execution_count": 66,
   "metadata": {},
   "outputs": [
    {
     "data": {
      "text/plain": [
       "array([ 1.2       ,  3.26842105,  5.33684211,  7.40526316,  9.47368421,\n",
       "       11.54210526, 13.61052632, 15.67894737, 17.74736842, 19.81578947,\n",
       "       21.88421053, 23.95263158, 26.02105263, 28.08947368, 30.15789474,\n",
       "       32.22631579, 34.29473684, 36.36315789, 38.43157895, 40.5       ])"
      ]
     },
     "execution_count": 66,
     "metadata": {},
     "output_type": "execute_result"
    }
   ],
   "source": [
    "\"\"\"いくつに分割したいかわかっている場合\"\"\"\n",
    "x = np.linspace(1.2, 40.5, num=20)\n",
    "x"
   ]
  },
  {
   "cell_type": "code",
   "execution_count": 67,
   "metadata": {},
   "outputs": [
    {
     "data": {
      "text/plain": [
       "array([  1.,   5.,  25., 125., 625.])"
      ]
     },
     "execution_count": 67,
     "metadata": {},
     "output_type": "execute_result"
    }
   ],
   "source": [
    "\"\"\"対数スケールの等比等比数列を返す\"\"\"\n",
    "np.geomspace(1, 625, num=5)"
   ]
  },
  {
   "cell_type": "code",
   "execution_count": 68,
   "metadata": {},
   "outputs": [
    {
     "data": {
      "text/plain": [
       "array([ 1000.        ,  1778.27941004,  3162.27766017,  5623.4132519 ,\n",
       "       10000.        ])"
      ]
     },
     "execution_count": 68,
     "metadata": {},
     "output_type": "execute_result"
    }
   ],
   "source": [
    "\"\"\"\n",
    "開始値と終了値の間を対数スケールで均等に値を並べた配列を返す\n",
    "下の場合、開始値が10**3で終了値が10**4\n",
    "\"\"\"\n",
    "np.logspace(3, 4, num=5)"
   ]
  },
  {
   "cell_type": "code",
   "execution_count": 69,
   "metadata": {},
   "outputs": [
    {
     "data": {
      "text/plain": [
       "array([3.        , 3.2237098 , 3.46410162, 3.72241944, 4.        ])"
      ]
     },
     "execution_count": 69,
     "metadata": {},
     "output_type": "execute_result"
    }
   ],
   "source": [
    "\"\"\"上記例のような大きな値を避けるには常用対数を用いる\"\"\"\n",
    "np.logspace(np.log10(3), np.log10(4), num=5)"
   ]
  },
  {
   "cell_type": "code",
   "execution_count": 73,
   "metadata": {},
   "outputs": [
    {
     "data": {
      "text/plain": [
       "array([ True,  True,  True, False])"
      ]
     },
     "execution_count": 73,
     "metadata": {},
     "output_type": "execute_result"
    }
   ],
   "source": [
    "\"\"\"配列同士を高速に比較\"\"\"\n",
    "x = np.array([1,2,3,4])\n",
    "y = np.array([1,2,3,3])\n",
    "x == y"
   ]
  },
  {
   "cell_type": "code",
   "execution_count": 75,
   "metadata": {},
   "outputs": [
    {
     "data": {
      "text/plain": [
       "False"
      ]
     },
     "execution_count": 75,
     "metadata": {},
     "output_type": "execute_result"
    }
   ],
   "source": [
    "\"\"\"2つの配列の全要素同士が一致するか否かを1つの値で返す\"\"\"\n",
    "x = np.array([1,2,3,4,5,6,7,8,1,2,3,4,5,6,7,8,1,2,3,4,5,6,7,8,9,9,9,9])\n",
    "y = np.array([1,2,3,4,5,6,7,8,1,2,3,4,5,6,7,8,1,2,3,4,5,6,7,8,9,9,8,9])\n",
    "np.array_equal(x,y)"
   ]
  },
  {
   "cell_type": "code",
   "execution_count": 77,
   "metadata": {},
   "outputs": [
    {
     "data": {
      "text/plain": [
       "array([False, False, False, False, False, False, False, False, False,\n",
       "       False, False, False, False, False, False, False, False, False,\n",
       "       False, False, False, False, False, False, False, False,  True,\n",
       "       False])"
      ]
     },
     "execution_count": 77,
     "metadata": {},
     "output_type": "execute_result"
    }
   ],
   "source": [
    "x > y"
   ]
  },
  {
   "cell_type": "code",
   "execution_count": 80,
   "metadata": {},
   "outputs": [
    {
     "data": {
      "text/plain": [
       "array([False,  True, False, False])"
      ]
     },
     "execution_count": 80,
     "metadata": {},
     "output_type": "execute_result"
    }
   ],
   "source": [
    "\"\"\"論理比較（AND）\"\"\"\n",
    "x = np.array([0, 1, 0, 0], dtype=bool)\n",
    "y = np.array([1, 1, 0, 1], dtype=bool)\n",
    "np.logical_and(x,y)"
   ]
  },
  {
   "cell_type": "code",
   "execution_count": 81,
   "metadata": {},
   "outputs": [
    {
     "data": {
      "text/plain": [
       "array([ True, False,  True,  True])"
      ]
     },
     "execution_count": 81,
     "metadata": {},
     "output_type": "execute_result"
    }
   ],
   "source": [
    "\"\"\"論理比較（OR）\"\"\"\n",
    "x = np.array([12,16,57,11])\n",
    "np.logical_or(x < 13, x > 50)"
   ]
  },
  {
   "cell_type": "code",
   "execution_count": 82,
   "metadata": {},
   "outputs": [
    {
     "name": "stdout",
     "output_type": "stream",
     "text": [
      "[1.62754791e+05 8.88611052e+06 5.68572000e+24 5.98741417e+04]\n",
      "[-0.53657292 -0.28790332  0.43616476 -0.99999021]\n"
     ]
    }
   ],
   "source": [
    "\"\"\"指数、三角関数\"\"\"\n",
    "print(np.exp(x))\n",
    "print(np.sin(x))"
   ]
  },
  {
   "cell_type": "code",
   "execution_count": 86,
   "metadata": {},
   "outputs": [
    {
     "name": "stdout",
     "output_type": "stream",
     "text": [
      "[0 1 2 3 4 5 6 7 8]\n"
     ]
    },
    {
     "data": {
      "text/plain": [
       "array([[0, 1, 2],\n",
       "       [3, 4, 5],\n",
       "       [6, 7, 8]])"
      ]
     },
     "execution_count": 86,
     "metadata": {},
     "output_type": "execute_result"
    }
   ],
   "source": [
    "\"\"\"行列を希望の形状に\"\"\"\n",
    "x = np.arange(9)\n",
    "print(x)\n",
    "y = x.reshape((3, 3))\n",
    "y"
   ]
  },
  {
   "cell_type": "code",
   "execution_count": 90,
   "metadata": {},
   "outputs": [
    {
     "data": {
      "text/plain": [
       "array([[0, 3, 6],\n",
       "       [1, 4, 7],\n",
       "       [2, 5, 8]])"
      ]
     },
     "execution_count": 90,
     "metadata": {},
     "output_type": "execute_result"
    }
   ],
   "source": [
    "\"\"\"行列の転置\"\"\"\n",
    "y.T"
   ]
  },
  {
   "cell_type": "code",
   "execution_count": 94,
   "metadata": {},
   "outputs": [
    {
     "name": "stdout",
     "output_type": "stream",
     "text": [
      "[[0 1 2]\n",
      " [3 4 5]\n",
      " [6 7 8]]\n",
      "36\n"
     ]
    },
    {
     "data": {
      "text/plain": [
       "array([ 9, 12, 15])"
      ]
     },
     "execution_count": 94,
     "metadata": {},
     "output_type": "execute_result"
    }
   ],
   "source": [
    "\"\"\"配列全体あるいは指定した軸沿いの和を返す\n",
    "axisは作用させる次元を指定する\n",
    "x軸:axis=0\n",
    "y軸:axis=1\n",
    "\"\"\"\n",
    "x = np.arange(9).reshape((3,3))\n",
    "print(x)\n",
    "print(np.sum(x))\n",
    "np.sum(x, axis=0)"
   ]
  },
  {
   "cell_type": "code",
   "execution_count": 95,
   "metadata": {},
   "outputs": [
    {
     "data": {
      "text/plain": [
       "0"
      ]
     },
     "execution_count": 95,
     "metadata": {},
     "output_type": "execute_result"
    }
   ],
   "source": [
    "\"\"\"配列全体あるいは指定した軸沿いの最小値を返す\"\"\"\n",
    "np.amin(x)"
   ]
  },
  {
   "cell_type": "code",
   "execution_count": 97,
   "metadata": {},
   "outputs": [
    {
     "data": {
      "text/plain": [
       "8"
      ]
     },
     "execution_count": 97,
     "metadata": {},
     "output_type": "execute_result"
    }
   ],
   "source": [
    "\"\"\"配列全体あるいは指定した軸沿いの最大値を返す（NAN値を無視する）\"\"\"\n",
    "np.nanmax(x)"
   ]
  },
  {
   "cell_type": "code",
   "execution_count": 96,
   "metadata": {},
   "outputs": [
    {
     "data": {
      "text/plain": [
       "6.4"
      ]
     },
     "execution_count": 96,
     "metadata": {},
     "output_type": "execute_result"
    }
   ],
   "source": [
    "\"\"\"配列全体あるいは指定した軸沿いのパーセンタイルを返す\"\"\"\n",
    "np.percentile(x, 80)\n",
    "\n",
    "\"\"\"パーセンタイルって何？\n",
    "パーセンタイルは、データを大きさ順でならべて100個に区切り、  ⇒　いつも100個？\n",
    "小さいほうからのどの位置にあるかを見るものです。\n",
    "50パーセンタイルは、小さいほうから50/100のところにあるデータです。\n",
    "\"\"\""
   ]
  },
  {
   "cell_type": "code",
   "execution_count": 99,
   "metadata": {},
   "outputs": [
    {
     "data": {
      "text/plain": [
       "2"
      ]
     },
     "execution_count": 99,
     "metadata": {},
     "output_type": "execute_result"
    }
   ],
   "source": [
    "\"\"\"最大値のインデックスを取得\"\"\"\n",
    "x = np.array([1,-21,3,-3])\n",
    "np.argmax(x)"
   ]
  },
  {
   "cell_type": "code",
   "execution_count": 101,
   "metadata": {},
   "outputs": [
    {
     "data": {
      "text/plain": [
       "array([11. ,  7.5,  4.5])"
      ]
     },
     "execution_count": 101,
     "metadata": {},
     "output_type": "execute_result"
    }
   ],
   "source": [
    "\"\"\"配列全体、あるいは指定した軸沿いの平均値を返す\"\"\"\n",
    "x = np.array([[2,3,5],[20,12,4]])\n",
    "np.mean(x, axis=0)"
   ]
  },
  {
   "cell_type": "code",
   "execution_count": 103,
   "metadata": {},
   "outputs": [
    {
     "data": {
      "text/plain": [
       "4.5"
      ]
     },
     "execution_count": 103,
     "metadata": {},
     "output_type": "execute_result"
    }
   ],
   "source": [
    "\"\"\"配列全体、あるいは指定した軸沿いの中央値を返す\"\"\"\n",
    "np.median(x)\n",
    "\n",
    "\"\"\"中央値って何？\n",
    "中央値あるいはメジアン、メディアンとは、データや集合の代表値の一つで、\n",
    "順位が中央である値のこと。ただし、データの大きさが偶数の場合は、中央順位2個の値の算術平均をとる。\n",
    "例えば5人の年齢10歳、32歳、96歳、100歳、105歳からなるデータの中央値は、順位が上からも下からも3である96（歳）となる。\n",
    "0歳の子供が2人増えて7人になると、中央値は32歳となる。\n",
    "\"\"\""
   ]
  },
  {
   "cell_type": "code",
   "execution_count": 105,
   "metadata": {},
   "outputs": [
    {
     "data": {
      "text/plain": [
       "6.394442031083626"
      ]
     },
     "execution_count": 105,
     "metadata": {},
     "output_type": "execute_result"
    }
   ],
   "source": [
    "\"\"\"配列全体、あるいは指定した軸沿いの標準偏差を返す\"\"\"\n",
    "np.std(x)"
   ]
  },
  {
   "cell_type": "code",
   "execution_count": 8,
   "metadata": {},
   "outputs": [
    {
     "name": "stdout",
     "output_type": "stream",
     "text": [
      "[[1. 1. 1. 1.]\n",
      " [1. 1. 1. 1.]\n",
      " [1. 1. 1. 1.]\n",
      " [1. 1. 1. 1.]]\n"
     ]
    },
    {
     "data": {
      "text/plain": [
       "array([[4., 4., 4., 4.],\n",
       "       [4., 4., 4., 4.],\n",
       "       [4., 4., 4., 4.],\n",
       "       [4., 4., 4., 4.]])"
      ]
     },
     "execution_count": 8,
     "metadata": {},
     "output_type": "execute_result"
    }
   ],
   "source": [
    "\"\"\"行列の掛け算はdot()を使う\"\"\"\n",
    "c = np.ones((4, 4))\n",
    "print(c)\n",
    "c.dot(c)"
   ]
  },
  {
   "cell_type": "code",
   "execution_count": 11,
   "metadata": {},
   "outputs": [
    {
     "data": {
      "text/plain": [
       "array([[ 0,  1,  2,  3,  4],\n",
       "       [ 5,  6,  7,  8,  9],\n",
       "       [10, 11, 12, 13, 14],\n",
       "       [ 0,  1,  2,  3,  4],\n",
       "       [ 5,  6,  7,  8,  9]])"
      ]
     },
     "execution_count": 11,
     "metadata": {},
     "output_type": "execute_result"
    }
   ],
   "source": [
    "\"\"\"配列を垂直方向にスタックするvstack、水平方向はhstack、分割はvsplitとhsplit\"\"\"\n",
    "y = np.arange(15).reshape(3,5)\n",
    "x = np.arange(10).reshape(2,5)\n",
    "new_array = np.vstack((y,x))\n",
    "new_array"
   ]
  },
  {
   "cell_type": "code",
   "execution_count": 25,
   "metadata": {},
   "outputs": [
    {
     "data": {
      "text/plain": [
       "DescribeResult(nobs=5, minmax=(1.2, 5.7), mean=3.3599999999999994, variance=3.2729999999999997, skewness=0.14460191499270095, kurtosis=-1.3684571122281206)"
      ]
     },
     "execution_count": 25,
     "metadata": {},
     "output_type": "execute_result"
    }
   ],
   "source": [
    "\"\"\"各特徴の記述統計量を簡単に得る方法\n",
    "サンプルサイズ，最小値，最大値，平均値，分散，歪度，尖度を求める\n",
    "表示される variance は，デフォルトで ddof=1, numpy.var(x, ddof=1) すなわち，不偏分散\n",
    "ddof=0 を指定すれば，不偏でない分散を表示\n",
    "\"\"\"\n",
    "from scipy.stats import describe\n",
    "x = [1.2, 3.1, 4.6, 2.2, 5.7]\n",
    "describe(x)"
   ]
  },
  {
   "cell_type": "code",
   "execution_count": 24,
   "metadata": {},
   "outputs": [
    {
     "data": {
      "text/plain": [
       "array([[ 0.53940477,  0.08765163, -0.0127855 , -1.30140606,  0.0262327 ,\n",
       "         0.9918206 ],\n",
       "       [ 0.49527034,  0.08463585, -0.05020535, -1.29965711,  0.0071916 ,\n",
       "         0.99815204],\n",
       "       [ 0.52020961,  0.08138131, -0.11252271, -1.19548597,  0.00337193,\n",
       "         0.99565851],\n",
       "       [ 0.51641973,  0.07636803, -0.04280076, -1.0448318 ,  0.00203595,\n",
       "         0.99569915],\n",
       "       [ 0.50571968,  0.08741635, -0.01652783, -1.27578067,  0.01665709,\n",
       "         0.99511069],\n",
       "       [ 0.46263657,  0.10099383,  0.17023862, -1.39752425,  0.01858615,\n",
       "         0.99391715],\n",
       "       [ 0.51773774,  0.08553457, -0.09834773, -1.33141603,  0.01878073,\n",
       "         0.99070543],\n",
       "       [ 0.47727274,  0.07847052,  0.20258956, -1.16546062,  0.00322962,\n",
       "         0.99840007],\n",
       "       [ 0.50702992,  0.07662201, -0.02919445, -1.24405648,  0.01353699,\n",
       "         0.98311133],\n",
       "       [ 0.49267839,  0.07219836,  0.01351953, -1.08354985,  0.01694832,\n",
       "         0.97836142]])"
      ]
     },
     "execution_count": 24,
     "metadata": {},
     "output_type": "execute_result"
    }
   ],
   "source": [
    "\"\"\"各特徴の記述統計量を簡単に得る方法続き\"\"\"\n",
    "x = np.random.rand(100,10)\n",
    "n, min_max, mean, var, skew, kurt = stats.describe(x)\n",
    "new_array = np.vstack((mean,var,skew,kurt,min_max[0],min_max[1]))\n",
    "new_array.T"
   ]
  },
  {
   "cell_type": "code",
   "execution_count": 30,
   "metadata": {},
   "outputs": [
    {
     "name": "stdout",
     "output_type": "stream",
     "text": [
      "[[nan nan nan nan nan]\n",
      " [ 5.  6.  7.  8.  9.]\n",
      " [10. 11. 12. 13. 14.]\n",
      " [15. 16. 17. 18. 19.]\n",
      " [20. 21. 22. 23. 24.]]\n"
     ]
    },
    {
     "data": {
      "text/plain": [
       "array([[12.5, 13.5, 14.5, 15.5, 16.5],\n",
       "       [ 5. ,  6. ,  7. ,  8. ,  9. ],\n",
       "       [10. , 11. , 12. , 13. , 14. ],\n",
       "       [15. , 16. , 17. , 18. , 19. ],\n",
       "       [20. , 21. , 22. , 23. , 24. ]])"
      ]
     },
     "execution_count": 30,
     "metadata": {},
     "output_type": "execute_result"
    }
   ],
   "source": [
    "\"\"\"NaN値を置換する際にとても便利\"\"\"\n",
    "x = np.arange(25, dtype = float).reshape(5,5)\n",
    "x[x<5] = np.nan\n",
    "print(x)\n",
    "# nanを各列の平均値で上書き\n",
    "np.where(np.isnan(x), ma.array(x, mask=np.isnan(x)).mean(axis=0), x)"
   ]
  },
  {
   "cell_type": "code",
   "execution_count": 42,
   "metadata": {},
   "outputs": [
    {
     "name": "stdout",
     "output_type": "stream",
     "text": [
      "[[ 0  1  2  3]\n",
      " [ 4  5  6  7]\n",
      " [ 8  9 10 11]\n",
      " [12 13 14 15]]\n",
      "[[ 5  6]\n",
      " [ 9 10]]\n"
     ]
    },
    {
     "data": {
      "text/plain": [
       "array([ 0,  5, 11])"
      ]
     },
     "execution_count": 42,
     "metadata": {},
     "output_type": "execute_result"
    }
   ],
   "source": [
    "\"\"\"多次元配列のインデックス付けとスライス\"\"\"\n",
    "x = np.reshape(np.arange(16),(4,4))\n",
    "print(x)\n",
    "print(x[1:3,1:3])\n",
    "x[[0,1,2],[0,1,3]]"
   ]
  },
  {
   "cell_type": "code",
   "execution_count": 46,
   "metadata": {},
   "outputs": [
    {
     "name": "stdout",
     "output_type": "stream",
     "text": [
      "Multi_dot tooks 0.292816162109375 seconds.\n",
      "Chain dot tooks 0.306809663772583 seconds.\n"
     ]
    }
   ],
   "source": [
    "\"\"\"linalg.multi_dot() ２つ以上の配列の掛け算を１つの関数で実行したい場合に最適化で速い\n",
    "以下のコードで、実行時間を比較\n",
    "\"\"\"\n",
    "from numpy.linalg import multi_dot\n",
    "import time\n",
    "\n",
    "a = np.arange(120000).reshape(400,300)\n",
    "b = np.arange(150000).reshape(300,500)\n",
    "c = np.arange(200000).reshape(500,400)\n",
    "\n",
    "start = time.time()\n",
    "multi_dot([a,b,c])\n",
    "ft = time.time()-start\n",
    "print('Multi_dot tooks', time.time()-start,'seconds.')\n",
    "\n",
    "start_ft = time.time()\n",
    "a.dot(b).dot(c)\n",
    "print('Chain dot tooks', time.time()-start_ft,'seconds.')"
   ]
  },
  {
   "cell_type": "code",
   "execution_count": 55,
   "metadata": {},
   "outputs": [
    {
     "name": "stdout",
     "output_type": "stream",
     "text": [
      "[[[ 0  1  2  3  4]\n",
      "  [ 5  6  7  8  9]\n",
      "  [10 11 12 13 14]\n",
      "  [15 16 17 18 19]]\n",
      "\n",
      " [[20 21 22 23 24]\n",
      "  [25 26 27 28 29]\n",
      "  [30 31 32 33 34]\n",
      "  [35 36 37 38 39]]\n",
      "\n",
      " [[40 41 42 43 44]\n",
      "  [45 46 47 48 49]\n",
      "  [50 51 52 53 54]\n",
      "  [55 56 57 58 59]]]\n",
      "[[[ 0  1]\n",
      "  [ 2  3]\n",
      "  [ 4  5]]\n",
      "\n",
      " [[ 6  7]\n",
      "  [ 8  9]\n",
      "  [10 11]]\n",
      "\n",
      " [[12 13]\n",
      "  [14 15]\n",
      "  [16 17]]\n",
      "\n",
      " [[18 19]\n",
      "  [20 21]\n",
      "  [22 23]]]\n"
     ]
    },
    {
     "data": {
      "text/plain": [
       "array([[4400, 4730],\n",
       "       [4532, 4874],\n",
       "       [4664, 5018],\n",
       "       [4796, 5162],\n",
       "       [4928, 5306]])"
      ]
     },
     "execution_count": 55,
     "metadata": {},
     "output_type": "execute_result"
    }
   ],
   "source": [
    "\"\"\"tensordot()メソッドは、２つのテンソルの縮約に使う。\n",
    "指定した軸上で２つのテンソルの積の和をとることで、次元を削減する。\n",
    "\n",
    "\"\"\"\n",
    "a = np.arange(60).reshape(3,4,5)\n",
    "b = np.arange(24).reshape(4,3,2)\n",
    "c = np.tensordot(a,b, axes=([1,0],[0,1]))\n",
    "print(a)\n",
    "print(b)\n",
    "c"
   ]
  },
  {
   "cell_type": "code",
   "execution_count": 56,
   "metadata": {},
   "outputs": [
    {
     "data": {
      "text/plain": [
       "array([[4400., 4730.],\n",
       "       [4532., 4874.],\n",
       "       [4664., 5018.],\n",
       "       [4796., 5162.],\n",
       "       [4928., 5306.]])"
      ]
     },
     "execution_count": 56,
     "metadata": {},
     "output_type": "execute_result"
    }
   ],
   "source": [
    "\"\"\"上記ブロックは以下のコードを計算しているのと同じ\"\"\"\n",
    "d = np.zeros((5, 2))\n",
    "for i in range(5):\n",
    "    for j in range(2):\n",
    "        for k in range(3):\n",
    "            for l in range(4):\n",
    "                d[i,j] += a[k,l,i] * b[l,k,j]\n",
    "d"
   ]
  },
  {
   "cell_type": "code",
   "execution_count": 64,
   "metadata": {},
   "outputs": [
    {
     "data": {
      "text/plain": [
       "array([[ 1.        , -0.70710678],\n",
       "       [ 0.        ,  0.70710678]])"
      ]
     },
     "execution_count": 64,
     "metadata": {},
     "output_type": "execute_result"
    }
   ],
   "source": [
    "\"\"\"固有値・固有ベクトルを計算する np.linalg.eig()\n",
    "固有値・固有ベクトルって何？\n",
    "https://atarimae.biz/archives/24166\n",
    "\"\"\"\n",
    "a = np.array([[3,1],[0,2]])\n",
    "# 固有値をv、固有ベクトルをwに代入\n",
    "v, w = np.linalg.eig(a)\n",
    "w"
   ]
  },
  {
   "cell_type": "code",
   "execution_count": 66,
   "metadata": {},
   "outputs": [
    {
     "data": {
      "text/plain": [
       "(569, 30)"
      ]
     },
     "execution_count": 66,
     "metadata": {},
     "output_type": "execute_result"
    }
   ],
   "source": [
    "\"\"\"PCA:principal component analysis を実行！\n",
    "「変数が3つ以上ある高次元のデータに対して、より低い次元でデータのばらつきを説明する」手法\n",
    "\"\"\"\n",
    "from sklearn import decomposition, datasets\n",
    "from sklearn.preprocessing import StandardScaler\n",
    "\n",
    "data = datasets.load_breast_cancer()\n",
    "cancer = data.data\n",
    "# fit_transformメソッドで、平均が０、標準偏差が１の分布になるようにする\n",
    "cancer = StandardScaler().fit_transform(cancer)\n",
    "cancer.shape"
   ]
  },
  {
   "cell_type": "code",
   "execution_count": 69,
   "metadata": {},
   "outputs": [
    {
     "name": "stdout",
     "output_type": "stream",
     "text": [
      "[[17.99]\n",
      " [20.57]\n",
      " [19.69]\n",
      " [11.42]\n",
      " [20.29]\n",
      " [12.45]\n",
      " [18.25]\n",
      " [13.71]\n",
      " [13.  ]\n",
      " [12.46]]\n"
     ]
    },
    {
     "data": {
      "text/plain": [
       "array([[ 1.09706398],\n",
       "       [ 1.82982061],\n",
       "       [ 1.57988811],\n",
       "       [-0.76890929],\n",
       "       [ 1.75029663],\n",
       "       [-0.47637467],\n",
       "       [ 1.17090767],\n",
       "       [-0.11851678],\n",
       "       [-0.32016686],\n",
       "       [-0.47353452]])"
      ]
     },
     "execution_count": 69,
     "metadata": {},
     "output_type": "execute_result"
    }
   ],
   "source": [
    "\"\"\"データがどう変換されたか確認\"\"\"\n",
    "before_transformation = data.data\n",
    "print(before_transformation[:10,:1])\n",
    "\n",
    "cancer[:10,:1]"
   ]
  },
  {
   "attachments": {},
   "cell_type": "markdown",
   "metadata": {},
   "source": [
    "##### 標準化の計算式\n",
    "$$\n",
    "Z = \\frac{x-\\mu}{\\sigma}\\\\ \n",
    "\\quad\\\\\n",
    "$$\n",
    "###### Z：標準化された値   　x：標準化される値（元データにある値）  　 $\\mu$：分布の平均  　　$\\sigma$：分布の標準偏差\n"
   ]
  },
  {
   "cell_type": "code",
   "execution_count": 74,
   "metadata": {},
   "outputs": [
    {
     "data": {
      "text/plain": [
       "(30, 30)"
      ]
     },
     "execution_count": 74,
     "metadata": {},
     "output_type": "execute_result"
    }
   ],
   "source": [
    "\"\"\"データを変換したら、np.linalg.eig()で固有値と固有ベクトルを計算するために\n",
    "共分散行列を計算し、続いてそれらを分解に用いる\n",
    "\"\"\" \n",
    "convariance_matrix = np.cov(cancer,rowvar=False)\n",
    "# データセットには30の特徴があるので共分散行列の形状は」(30, 30)になる。\n",
    "convariance_matrix.shape"
   ]
  },
  {
   "cell_type": "code",
   "execution_count": 75,
   "metadata": {},
   "outputs": [],
   "source": [
    "eig_val_cov, eig_vec_cov = np.linalg.eig(convariance_matrix)\n",
    "eig_pairs = [(np.abs(eig_val_cov[i]), eig_vec_cov[:,i]) for i in range(len(eig_val_cov))]"
   ]
  },
  {
   "cell_type": "code",
   "execution_count": 77,
   "metadata": {},
   "outputs": [
    {
     "name": "stdout",
     "output_type": "stream",
     "text": [
      "13.304990794374568\n",
      "5.701374603726145\n",
      "2.8229101550062334\n",
      "1.9841275177302\n",
      "1.65163324233012\n",
      "1.2094822398029712\n",
      "0.676408881700906\n",
      "0.4774562546895071\n",
      "0.41762878210781723\n",
      "0.3513108748817337\n",
      "0.29443315349116456\n",
      "0.2616211613661211\n",
      "0.24178242132831346\n",
      "0.1572861492175933\n",
      "0.09430069560105563\n",
      "0.08000340447737676\n",
      "0.05950361353043194\n",
      "0.05271142221014812\n",
      "0.04956470021298179\n",
      "0.031214260553066572\n",
      "0.030025663090428794\n",
      "0.02748771133890438\n",
      "0.024383691354590887\n",
      "0.01808679398430555\n",
      "0.015508527134418791\n",
      "0.008192037117606663\n",
      "0.006912612579184416\n",
      "0.0015921360011975463\n",
      "0.0007501214127190039\n",
      "0.0001332790566640968\n"
     ]
    }
   ],
   "source": [
    "\"\"\"除去する固有ベクトルを決定するために、固有値を降べきの順にソート　※「べき」とは指数のこと\n",
    "結果、大きな固有値を持つ最初の２つの固有ベクトルが、データの分布に関する\n",
    "情報を最も多く含んでいる\n",
    "\"\"\"\n",
    "sorted_pairs = eig_pairs.sort(key=lambda x: x[0], reverse=True)\n",
    "for i in eig_pairs:\n",
    "    print(i[0])"
   ]
  },
  {
   "cell_type": "code",
   "execution_count": 81,
   "metadata": {},
   "outputs": [
    {
     "name": "stdout",
     "output_type": "stream",
     "text": [
      "(30, 2)\n",
      "[9.19283683 1.94858307]\n"
     ]
    },
    {
     "data": {
      "text/plain": [
       "(569, 2)"
      ]
     },
     "execution_count": 81,
     "metadata": {},
     "output_type": "execute_result"
    }
   ],
   "source": [
    "\"\"\"より低い次元作業空間を得るために残りを除去する。\n",
    "最初の2つの固有ベクトルを水平にスタック、この行列と元データの掛け算を行って、\n",
    "元データを新しい次元数の部分空間へ射影する。\n",
    "結果、(569,30)から(569,2)へ変換された。これはPCAの処理で28個の特徴が除去されたことを意味する。\n",
    "\"\"\"\n",
    "matrix_w = np.hstack((eig_pairs[0][1].reshape(30,1), eig_pairs[1][1].reshape(30,1)))\n",
    "print(matrix_w.shape)\n",
    "transformed = matrix_w.T.dot(cancer.T)\n",
    "transformed = transformed.T\n",
    "print(transformed[0])\n",
    "transformed.shape"
   ]
  },
  {
   "cell_type": "code",
   "execution_count": null,
   "metadata": {},
   "outputs": [],
   "source": []
  }
 ],
 "metadata": {
  "kernelspec": {
   "display_name": "Python 3.8.2 32-bit",
   "language": "python",
   "name": "python3"
  },
  "language_info": {
   "codemirror_mode": {
    "name": "ipython",
    "version": 3
   },
   "file_extension": ".py",
   "mimetype": "text/x-python",
   "name": "python",
   "nbconvert_exporter": "python",
   "pygments_lexer": "ipython3",
   "version": "3.8.2"
  },
  "orig_nbformat": 4,
  "vscode": {
   "interpreter": {
    "hash": "ab346aeb941d3eb22c315bdddbcd7a9399296d9e3feea520812b7600ca0cd9c8"
   }
  }
 },
 "nbformat": 4,
 "nbformat_minor": 2
}
