{
 "cells": [
  {
   "attachments": {},
   "cell_type": "markdown",
   "metadata": {},
   "source": [
    "#### 機械学習のための Numpy, Scipy"
   ]
  },
  {
   "cell_type": "code",
   "execution_count": 2,
   "metadata": {},
   "outputs": [
    {
     "name": "stdout",
     "output_type": "stream",
     "text": [
      "[[1 4]\n",
      " [3 3]]\n",
      "<class 'numpy.ndarray'>\n",
      "(2, 2)\n",
      "4\n",
      "2\n",
      "int32\n",
      "16\n"
     ]
    }
   ],
   "source": [
    "import numpy as np\n",
    "\n",
    "\"\"\"基本情報\"\"\"\n",
    "x = np.array([[1,4],[3,3]])\n",
    "print(x)\n",
    "print(type(x))  \n",
    "print(x.shape) # 次元をタプルで返す\n",
    "print(x.size) # 全要素数\n",
    "print(x.ndim) # 配列の次元数\n",
    "print(x.dtype) # 配列のデータ型\n",
    "print(x.nbytes) # 消費バイト数"
   ]
  },
  {
   "cell_type": "code",
   "execution_count": 39,
   "metadata": {},
   "outputs": [
    {
     "data": {
      "text/plain": [
       "-9.000000000000002"
      ]
     },
     "execution_count": 39,
     "metadata": {},
     "output_type": "execute_result"
    }
   ],
   "source": [
    "\"\"\"行列式で判定　結果が0の場合は逆行列を持たない ※xは正方行列（行数と列数が等しい行列）の必要がある\"\"\"\n",
    "np.linalg.det(x)"
   ]
  },
  {
   "cell_type": "code",
   "execution_count": 40,
   "metadata": {},
   "outputs": [
    {
     "data": {
      "text/plain": [
       "array([[-0.33333333,  0.44444444],\n",
       "       [ 0.33333333, -0.11111111]])"
      ]
     },
     "execution_count": 40,
     "metadata": {},
     "output_type": "execute_result"
    }
   ],
   "source": [
    "\"\"\"\n",
    "逆行列\n",
    "※xは正方行列（行数と列数が等しい行列）の必要がある\n",
    "※回帰分析で使われる\n",
    "\"\"\"\n",
    "x_t = np.linalg.inv(x) \n",
    "x_t"
   ]
  },
  {
   "cell_type": "code",
   "execution_count": 41,
   "metadata": {},
   "outputs": [
    {
     "data": {
      "text/plain": [
       "array([[1., 0.],\n",
       "       [0., 1.]])"
      ]
     },
     "execution_count": 41,
     "metadata": {},
     "output_type": "execute_result"
    }
   ],
   "source": [
    "\"\"\"行列とその逆行列の積は単位行列となる\"\"\"\n",
    "i = x.dot(x_t)\n",
    "i"
   ]
  },
  {
   "cell_type": "code",
   "execution_count": 42,
   "metadata": {},
   "outputs": [
    {
     "data": {
      "text/plain": [
       "array([[1., 0.],\n",
       "       [0., 1.]])"
      ]
     },
     "execution_count": 42,
     "metadata": {},
     "output_type": "execute_result"
    }
   ],
   "source": [
    "\"\"\"単位行列はこのようにも作れる\"\"\"\n",
    "i = np.identity(2)\n",
    "i"
   ]
  },
  {
   "cell_type": "code",
   "execution_count": 43,
   "metadata": {},
   "outputs": [
    {
     "data": {
      "text/plain": [
       "array([[1., 4.],\n",
       "       [3., 3.]])"
      ]
     },
     "execution_count": 43,
     "metadata": {},
     "output_type": "execute_result"
    }
   ],
   "source": [
    "\"\"\"行列ｘに単位行列を掛けると結果はｘに等しくなる\"\"\"\n",
    "x.dot(i)"
   ]
  },
  {
   "cell_type": "code",
   "execution_count": 44,
   "metadata": {},
   "outputs": [
    {
     "name": "stdout",
     "output_type": "stream",
     "text": [
      "24\n",
      "48\n",
      "96\n",
      "48\n"
     ]
    },
    {
     "data": {
      "text/plain": [
       "' int32 int64 の違いって何？\\n整数のタイプごとに、異なる範囲のストレージ容量がある\\nInt16 -- 2バイト-- (-32,768 to +32,767)\\nInt32 -- 4バイト-- (-2,147,483,648 to +2,147,483,647)\\nInt64 -- 8バイト-- (-9,223,372,036,854,775,808 to +9,223,372,036,854,775,807)\\n'"
      ]
     },
     "execution_count": 44,
     "metadata": {},
     "output_type": "execute_result"
    }
   ],
   "source": [
    "\"\"\"消費バイト数比較  (-2147483647 < 扱う数字 < 2147483648) なら int32で十分でしょう\"\"\"\n",
    "x = np.array([[1,2,3],[4,5,6]], dtype = np.uint32) # uint（符号なし整数）\n",
    "print(x.nbytes)\n",
    "x = np.array([[1,2,3],[4,5,6]], dtype = np.float)\n",
    "print(x.nbytes)\n",
    "x = np.array([[1,2,3],[4,5,6]], dtype = np.complex)\n",
    "print(x.nbytes)\n",
    "x = np.array([[1,2,3],[4,5,6]], dtype = np.int64)\n",
    "print(x.nbytes)\n",
    "\n",
    "\"\"\" \n",
    "int32 int64 の違いって何？\n",
    "整数のタイプごとに、異なる範囲のストレージ容量がある\n",
    "Int16 -- 2バイト-- (-32,768 to +32,767)\n",
    "Int32 -- 4バイト-- (-2,147,483,648 to +2,147,483,647)\n",
    "Int64 -- 8バイト-- (-9,223,372,036,854,775,808 to +9,223,372,036,854,775,807)\n",
    "\"\"\""
   ]
  },
  {
   "cell_type": "code",
   "execution_count": 45,
   "metadata": {},
   "outputs": [
    {
     "name": "stdout",
     "output_type": "stream",
     "text": [
      "[[1. 2. 3.]\n",
      " [4. 5. 6.]]\n"
     ]
    },
    {
     "data": {
      "text/plain": [
       "array([[1, 2, 3],\n",
       "       [4, 5, 6]], dtype=uint32)"
      ]
     },
     "execution_count": 45,
     "metadata": {},
     "output_type": "execute_result"
    }
   ],
   "source": [
    "\"\"\"astype属性を使い新たなdtypeの配列にコピー\"\"\"\n",
    "x = np.array([[1,2,3],[4,5,6]], dtype = np.uint32) \n",
    "x_copy_int = x.astype(np.float)\n",
    "print(x_copy_int)\n",
    "x # 元の配列のdtypeは変わらない"
   ]
  },
  {
   "cell_type": "code",
   "execution_count": 46,
   "metadata": {},
   "outputs": [
    {
     "name": "stdout",
     "output_type": "stream",
     "text": [
      "80000000\n",
      "40000000\n"
     ]
    }
   ],
   "source": [
    "\"\"\"\n",
    "dtypeを変えるだけで配列の大きさが80MBから40MBに縮小する。\n",
    "その代わり、小数点以下の精度は低くなる。小数点以下16桁から7桁に。\n",
    "\"\"\"\n",
    "big_data = np.random.rand(100000,100)\n",
    "print(big_data.nbytes)\n",
    "big_data_new = big_data.astype(np.float32)\n",
    "print(big_data_new.nbytes)"
   ]
  },
  {
   "cell_type": "code",
   "execution_count": 47,
   "metadata": {},
   "outputs": [
    {
     "data": {
      "text/plain": [
       "array([ 4, 16,  8, 10])"
      ]
     },
     "execution_count": 47,
     "metadata": {},
     "output_type": "execute_result"
    }
   ],
   "source": [
    "\"\"\"リストではこんな簡単に計算出来なくて、要素を反復する必要が\"\"\"\n",
    "my_list = [2, 14, 6, 8]\n",
    "my_array = np.asarray(my_list)\n",
    "my_array + 2 #  "
   ]
  },
  {
   "cell_type": "code",
   "execution_count": 48,
   "metadata": {},
   "outputs": [
    {
     "data": {
      "text/plain": [
       "array([3. , 3.5, 4. , 4.5, 5. , 5.5, 6. , 6.5])"
      ]
     },
     "execution_count": 48,
     "metadata": {},
     "output_type": "execute_result"
    }
   ],
   "source": [
    "\"\"\"配列作成の便利方法（開始、終了、間隔）\"\"\"\n",
    "x = np.arange(3,7,0.5)\n",
    "x"
   ]
  },
  {
   "cell_type": "code",
   "execution_count": 49,
   "metadata": {},
   "outputs": [
    {
     "data": {
      "text/plain": [
       "array([ 1.2       ,  3.26842105,  5.33684211,  7.40526316,  9.47368421,\n",
       "       11.54210526, 13.61052632, 15.67894737, 17.74736842, 19.81578947,\n",
       "       21.88421053, 23.95263158, 26.02105263, 28.08947368, 30.15789474,\n",
       "       32.22631579, 34.29473684, 36.36315789, 38.43157895, 40.5       ])"
      ]
     },
     "execution_count": 49,
     "metadata": {},
     "output_type": "execute_result"
    }
   ],
   "source": [
    "\"\"\"いくつに分割したいかわかっている場合\"\"\"\n",
    "x = np.linspace(1.2, 40.5, num=20)\n",
    "x"
   ]
  },
  {
   "cell_type": "code",
   "execution_count": 50,
   "metadata": {},
   "outputs": [
    {
     "data": {
      "text/plain": [
       "array([  1.,   5.,  25., 125., 625.])"
      ]
     },
     "execution_count": 50,
     "metadata": {},
     "output_type": "execute_result"
    }
   ],
   "source": [
    "\"\"\"対数スケールの等比等比数列を返す\"\"\"\n",
    "np.geomspace(1, 625, num=5)"
   ]
  },
  {
   "cell_type": "code",
   "execution_count": 51,
   "metadata": {},
   "outputs": [
    {
     "data": {
      "text/plain": [
       "array([ 1000.        ,  1778.27941004,  3162.27766017,  5623.4132519 ,\n",
       "       10000.        ])"
      ]
     },
     "execution_count": 51,
     "metadata": {},
     "output_type": "execute_result"
    }
   ],
   "source": [
    "\"\"\"\n",
    "開始値と終了値の間を対数スケールで均等に値を並べた配列を返す\n",
    "下の場合、開始値が10**3で終了値が10**4\n",
    "\"\"\"\n",
    "np.logspace(3, 4, num=5)"
   ]
  },
  {
   "cell_type": "code",
   "execution_count": 52,
   "metadata": {},
   "outputs": [
    {
     "data": {
      "text/plain": [
       "array([3.        , 3.2237098 , 3.46410162, 3.72241944, 4.        ])"
      ]
     },
     "execution_count": 52,
     "metadata": {},
     "output_type": "execute_result"
    }
   ],
   "source": [
    "\"\"\"上記例のような大きな値を避けるには常用対数を用いる\"\"\"\n",
    "np.logspace(np.log10(3), np.log10(4), num=5)"
   ]
  },
  {
   "cell_type": "code",
   "execution_count": 53,
   "metadata": {},
   "outputs": [
    {
     "data": {
      "text/plain": [
       "array([ True,  True,  True, False])"
      ]
     },
     "execution_count": 53,
     "metadata": {},
     "output_type": "execute_result"
    }
   ],
   "source": [
    "\"\"\"配列同士を高速に比較\"\"\"\n",
    "x = np.array([1,2,3,4])\n",
    "y = np.array([1,2,3,3])\n",
    "x == y"
   ]
  },
  {
   "cell_type": "code",
   "execution_count": 54,
   "metadata": {},
   "outputs": [
    {
     "data": {
      "text/plain": [
       "False"
      ]
     },
     "execution_count": 54,
     "metadata": {},
     "output_type": "execute_result"
    }
   ],
   "source": [
    "\"\"\"2つの配列の全要素同士が一致するか否かを1つの値で返す\"\"\"\n",
    "x = np.array([1,2,3,4,5,6,7,8,1,2,3,4,5,6,7,8,1,2,3,4,5,6,7,8,9,9,9,9])\n",
    "y = np.array([1,2,3,4,5,6,7,8,1,2,3,4,5,6,7,8,1,2,3,4,5,6,7,8,9,9,8,9])\n",
    "np.array_equal(x,y)"
   ]
  },
  {
   "cell_type": "code",
   "execution_count": 55,
   "metadata": {},
   "outputs": [
    {
     "data": {
      "text/plain": [
       "array([False, False, False, False, False, False, False, False, False,\n",
       "       False, False, False, False, False, False, False, False, False,\n",
       "       False, False, False, False, False, False, False, False,  True,\n",
       "       False])"
      ]
     },
     "execution_count": 55,
     "metadata": {},
     "output_type": "execute_result"
    }
   ],
   "source": [
    "x > y"
   ]
  },
  {
   "cell_type": "code",
   "execution_count": 56,
   "metadata": {},
   "outputs": [
    {
     "data": {
      "text/plain": [
       "array([False,  True, False, False])"
      ]
     },
     "execution_count": 56,
     "metadata": {},
     "output_type": "execute_result"
    }
   ],
   "source": [
    "\"\"\"論理比較（AND）\"\"\"\n",
    "x = np.array([0, 1, 0, 0], dtype=bool)\n",
    "y = np.array([1, 1, 0, 1], dtype=bool)\n",
    "np.logical_and(x,y)"
   ]
  },
  {
   "cell_type": "code",
   "execution_count": 57,
   "metadata": {},
   "outputs": [
    {
     "data": {
      "text/plain": [
       "array([ True, False,  True,  True])"
      ]
     },
     "execution_count": 57,
     "metadata": {},
     "output_type": "execute_result"
    }
   ],
   "source": [
    "\"\"\"論理比較（OR）\"\"\"\n",
    "x = np.array([12,16,57,11])\n",
    "np.logical_or(x < 13, x > 50)"
   ]
  },
  {
   "cell_type": "code",
   "execution_count": 58,
   "metadata": {},
   "outputs": [
    {
     "name": "stdout",
     "output_type": "stream",
     "text": [
      "[1.62754791e+05 8.88611052e+06 5.68572000e+24 5.98741417e+04]\n",
      "[-0.53657292 -0.28790332  0.43616476 -0.99999021]\n"
     ]
    }
   ],
   "source": [
    "\"\"\"指数、三角関数\"\"\"\n",
    "print(np.exp(x))\n",
    "print(np.sin(x))"
   ]
  },
  {
   "cell_type": "code",
   "execution_count": 59,
   "metadata": {},
   "outputs": [
    {
     "name": "stdout",
     "output_type": "stream",
     "text": [
      "[0 1 2 3 4 5 6 7 8]\n"
     ]
    },
    {
     "data": {
      "text/plain": [
       "array([[0, 1, 2],\n",
       "       [3, 4, 5],\n",
       "       [6, 7, 8]])"
      ]
     },
     "execution_count": 59,
     "metadata": {},
     "output_type": "execute_result"
    }
   ],
   "source": [
    "\"\"\"行列を希望の形状に\"\"\"\n",
    "x = np.arange(9)\n",
    "print(x)\n",
    "y = x.reshape((3, 3))\n",
    "y"
   ]
  },
  {
   "cell_type": "code",
   "execution_count": 60,
   "metadata": {},
   "outputs": [
    {
     "data": {
      "text/plain": [
       "array([[0, 3, 6],\n",
       "       [1, 4, 7],\n",
       "       [2, 5, 8]])"
      ]
     },
     "execution_count": 60,
     "metadata": {},
     "output_type": "execute_result"
    }
   ],
   "source": [
    "\"\"\"行列の転置\"\"\"\n",
    "y.T"
   ]
  },
  {
   "cell_type": "code",
   "execution_count": 61,
   "metadata": {},
   "outputs": [
    {
     "name": "stdout",
     "output_type": "stream",
     "text": [
      "[[0 1 2]\n",
      " [3 4 5]\n",
      " [6 7 8]]\n",
      "36\n"
     ]
    },
    {
     "data": {
      "text/plain": [
       "array([ 9, 12, 15])"
      ]
     },
     "execution_count": 61,
     "metadata": {},
     "output_type": "execute_result"
    }
   ],
   "source": [
    "\"\"\"\n",
    "配列全体あるいは指定した軸沿いの和を返す\n",
    "axisは作用させる次元を指定する\n",
    "x軸:axis=0\n",
    "y軸:axis=1\n",
    "\"\"\"\n",
    "x = np.arange(9).reshape((3,3))\n",
    "print(x)\n",
    "print(np.sum(x))\n",
    "np.sum(x, axis=0)"
   ]
  },
  {
   "cell_type": "code",
   "execution_count": 62,
   "metadata": {},
   "outputs": [
    {
     "data": {
      "text/plain": [
       "0"
      ]
     },
     "execution_count": 62,
     "metadata": {},
     "output_type": "execute_result"
    }
   ],
   "source": [
    "\"\"\"配列全体あるいは指定した軸沿いの最小値を返す\"\"\"\n",
    "np.amin(x)"
   ]
  },
  {
   "cell_type": "code",
   "execution_count": 63,
   "metadata": {},
   "outputs": [
    {
     "data": {
      "text/plain": [
       "8"
      ]
     },
     "execution_count": 63,
     "metadata": {},
     "output_type": "execute_result"
    }
   ],
   "source": [
    "\"\"\"配列全体あるいは指定した軸沿いの最大値を返す（NAN値を無視する）\"\"\"\n",
    "np.nanmax(x)"
   ]
  },
  {
   "cell_type": "code",
   "execution_count": 64,
   "metadata": {},
   "outputs": [
    {
     "name": "stdout",
     "output_type": "stream",
     "text": [
      "[[0 1 2]\n",
      " [3 4 5]\n",
      " [6 7 8]]\n",
      "6.4\n",
      "4.0\n"
     ]
    }
   ],
   "source": [
    "\"\"\"\n",
    "配列全体あるいは指定した軸沿いのパーセンタイルを返す\n",
    "パーセンタイルって何？\n",
    "パーセンタイルは、データを大きさ順でならべて100個に区切り、\n",
    "小さいほうからのどの位置にあるかを見るものです。\n",
    "50パーセンタイルは、小さいほうから50/100のところにあるデータです。\n",
    "\"\"\"\n",
    "print(x)\n",
    "print(np.percentile(x, 80))\n",
    "print(np.percentile(x, 50))"
   ]
  },
  {
   "cell_type": "code",
   "execution_count": 65,
   "metadata": {},
   "outputs": [
    {
     "data": {
      "text/plain": [
       "2"
      ]
     },
     "execution_count": 65,
     "metadata": {},
     "output_type": "execute_result"
    }
   ],
   "source": [
    "\"\"\"最大値のインデックスを取得\"\"\"\n",
    "x = np.array([1,-21,3,-3])\n",
    "np.argmax(x)"
   ]
  },
  {
   "cell_type": "code",
   "execution_count": 66,
   "metadata": {},
   "outputs": [
    {
     "data": {
      "text/plain": [
       "array([11. ,  7.5,  4.5])"
      ]
     },
     "execution_count": 66,
     "metadata": {},
     "output_type": "execute_result"
    }
   ],
   "source": [
    "\"\"\"配列全体、あるいは指定した軸沿いの平均値を返す\"\"\"\n",
    "x = np.array([[2,3,5],[20,12,4]])\n",
    "np.mean(x, axis=0)"
   ]
  },
  {
   "cell_type": "code",
   "execution_count": 67,
   "metadata": {},
   "outputs": [
    {
     "data": {
      "text/plain": [
       "'中央値って何？\\n中央値あるいはメジアン、メディアンとは、データや集合の代表値の一つで、\\n順位が中央である値のこと。ただし、データの大きさが偶数の場合は、中央順位2個の値の算術平均をとる。\\n例えば5人の年齢10歳、32歳、96歳、100歳、105歳からなるデータの中央値は、順位が上からも下からも3である96（歳）となる。\\n0歳の子供が2人増えて7人になると、中央値は32歳となる。\\n'"
      ]
     },
     "execution_count": 67,
     "metadata": {},
     "output_type": "execute_result"
    }
   ],
   "source": [
    "\"\"\"配列全体、あるいは指定した軸沿いの中央値を返す\"\"\"\n",
    "np.median(x)\n",
    "\n",
    "\"\"\"\n",
    "中央値って何？\n",
    "中央値あるいはメジアン、メディアンとは、データや集合の代表値の一つで、\n",
    "順位が中央である値のこと。ただし、データの大きさが偶数の場合は、中央順位2個の値の算術平均をとる。\n",
    "例えば5人の年齢10歳、32歳、96歳、100歳、105歳からなるデータの中央値は、順位が上からも下からも3である96（歳）となる。\n",
    "0歳の子供が2人増えて7人になると、中央値は32歳となる。\n",
    "\"\"\""
   ]
  },
  {
   "cell_type": "code",
   "execution_count": 68,
   "metadata": {},
   "outputs": [
    {
     "data": {
      "text/plain": [
       "6.394442031083626"
      ]
     },
     "execution_count": 68,
     "metadata": {},
     "output_type": "execute_result"
    }
   ],
   "source": [
    "\"\"\"配列全体、あるいは指定した軸沿いの標準偏差を返す\"\"\"\n",
    "np.std(x)"
   ]
  },
  {
   "cell_type": "code",
   "execution_count": 69,
   "metadata": {},
   "outputs": [
    {
     "name": "stdout",
     "output_type": "stream",
     "text": [
      "[[1. 1. 1. 1.]\n",
      " [1. 1. 1. 1.]\n",
      " [1. 1. 1. 1.]\n",
      " [1. 1. 1. 1.]]\n"
     ]
    },
    {
     "data": {
      "text/plain": [
       "array([[4., 4., 4., 4.],\n",
       "       [4., 4., 4., 4.],\n",
       "       [4., 4., 4., 4.],\n",
       "       [4., 4., 4., 4.]])"
      ]
     },
     "execution_count": 69,
     "metadata": {},
     "output_type": "execute_result"
    }
   ],
   "source": [
    "\"\"\"行列の掛け算はdot()を使う\"\"\"\n",
    "c = np.ones((4, 4))\n",
    "print(c)\n",
    "c.dot(c)"
   ]
  },
  {
   "cell_type": "code",
   "execution_count": 70,
   "metadata": {},
   "outputs": [
    {
     "data": {
      "text/plain": [
       "array([[ 0,  1,  2,  3,  4],\n",
       "       [ 5,  6,  7,  8,  9],\n",
       "       [10, 11, 12, 13, 14],\n",
       "       [ 0,  1,  2,  3,  4],\n",
       "       [ 5,  6,  7,  8,  9]])"
      ]
     },
     "execution_count": 70,
     "metadata": {},
     "output_type": "execute_result"
    }
   ],
   "source": [
    "\"\"\"配列を垂直方向にスタックするvstack、水平方向はhstack、分割はvsplitとhsplit\"\"\"\n",
    "y = np.arange(15).reshape(3,5)\n",
    "x = np.arange(10).reshape(2,5)\n",
    "new_array = np.vstack((y,x))\n",
    "new_array"
   ]
  },
  {
   "cell_type": "code",
   "execution_count": 90,
   "metadata": {},
   "outputs": [
    {
     "data": {
      "text/plain": [
       "DescribeResult(nobs=5, minmax=(1.2, 5.7), mean=3.3599999999999994, variance=3.2729999999999997, skewness=0.14460191499270095, kurtosis=-1.3684571122281206)"
      ]
     },
     "execution_count": 90,
     "metadata": {},
     "output_type": "execute_result"
    }
   ],
   "source": [
    "\"\"\"\n",
    "各特徴の記述統計量を簡単に得る方法\n",
    "サンプルサイズ，最小値，最大値，平均値，分散(variance)，歪度，尖度を求める\n",
    "表示される variance は，デフォルトで ddof=1, numpy.var(x, ddof=1) すなわち，不偏分散\n",
    "ddof=0 を指定すれば，不偏でない分散を表示\n",
    "\"\"\"\n",
    "from scipy.stats import describe\n",
    "x = [1.2, 3.1, 4.6, 2.2, 5.7]\n",
    "describe(x)"
   ]
  },
  {
   "cell_type": "code",
   "execution_count": 91,
   "metadata": {},
   "outputs": [
    {
     "data": {
      "text/plain": [
       "array([[ 0.50838521,  0.08528404,  0.02206259, -1.18439937,  0.00793173,  0.99992674],\n",
       "       [ 0.4934906 ,  0.08807178,  0.04800103, -1.14976898,  0.00027947,  0.99860328],\n",
       "       [ 0.5092604 ,  0.08740689,  0.06279139, -1.16450348,  0.0053322 ,  0.99976035],\n",
       "       [ 0.52931209,  0.08589447, -0.09795941, -1.27761931,  0.00149871,  0.99612777],\n",
       "       [ 0.48847782,  0.09018815,  0.01627828, -1.27982877,  0.00058608,  0.99843037],\n",
       "       [ 0.53792041,  0.07520766, -0.204393  , -1.02232411,  0.00918171,  0.99982914],\n",
       "       [ 0.50790137,  0.0902882 , -0.11966018, -1.27772171,  0.0205152 ,  0.98869762],\n",
       "       [ 0.48458937,  0.08244721,  0.04598342, -1.12676268,  0.0014284 ,  0.99432622],\n",
       "       [ 0.50512398,  0.07146684, -0.00492895, -1.09462277,  0.00816359,  0.99947163],\n",
       "       [ 0.4586212 ,  0.08498302,  0.1604814 , -1.2271011 ,  0.00741144,  0.98605144]])"
      ]
     },
     "execution_count": 91,
     "metadata": {},
     "output_type": "execute_result"
    }
   ],
   "source": [
    "\"\"\"各特徴の記述統計量を簡単に得る方法続き\"\"\"\n",
    "x = np.random.rand(100,10)\n",
    "n, min_max, mean, var, skew, kurt = stats.describe(x)\n",
    "new_array = np.vstack((mean,var,skew,kurt,min_max[0],min_max[1]))\n",
    "new_array.T"
   ]
  },
  {
   "cell_type": "code",
   "execution_count": null,
   "metadata": {},
   "outputs": [
    {
     "name": "stdout",
     "output_type": "stream",
     "text": [
      "[[nan nan nan nan nan]\n",
      " [ 5.  6.  7.  8.  9.]\n",
      " [10. 11. 12. 13. 14.]\n",
      " [15. 16. 17. 18. 19.]\n",
      " [20. 21. 22. 23. 24.]]\n"
     ]
    },
    {
     "data": {
      "text/plain": [
       "array([[12.5, 13.5, 14.5, 15.5, 16.5],\n",
       "       [ 5. ,  6. ,  7. ,  8. ,  9. ],\n",
       "       [10. , 11. , 12. , 13. , 14. ],\n",
       "       [15. , 16. , 17. , 18. , 19. ],\n",
       "       [20. , 21. , 22. , 23. , 24. ]])"
      ]
     },
     "execution_count": 137,
     "metadata": {},
     "output_type": "execute_result"
    }
   ],
   "source": [
    "\"\"\"NaN値を置換する際にとても便利\"\"\"\n",
    "import numpy.ma as ma\n",
    "\n",
    "x = np.arange(25, dtype = float).reshape(5,5)\n",
    "x[x<5] = np.nan\n",
    "print(x)\n",
    "# nanを各列の平均値で上書き\n",
    "np.where(np.isnan(x), ma.array(x, mask=np.isnan(x)).mean(axis=0), x)"
   ]
  },
  {
   "cell_type": "code",
   "execution_count": null,
   "metadata": {},
   "outputs": [
    {
     "name": "stdout",
     "output_type": "stream",
     "text": [
      "[[ 0  1  2  3]\n",
      " [ 4  5  6  7]\n",
      " [ 8  9 10 11]\n",
      " [12 13 14 15]]\n",
      "[[ 5  6]\n",
      " [ 9 10]]\n"
     ]
    },
    {
     "data": {
      "text/plain": [
       "array([ 0,  5, 11])"
      ]
     },
     "execution_count": 42,
     "metadata": {},
     "output_type": "execute_result"
    }
   ],
   "source": [
    "\"\"\"多次元配列のインデックス付けとスライス\"\"\"\n",
    "x = np.reshape(np.arange(16),(4,4))\n",
    "print(x)\n",
    "print(x[1:3,1:3])\n",
    "x[[0,1,2],[0,1,3]]"
   ]
  },
  {
   "cell_type": "code",
   "execution_count": 92,
   "metadata": {},
   "outputs": [
    {
     "name": "stdout",
     "output_type": "stream",
     "text": [
      "Multi_dot tooks 0.17888450622558594 seconds.\n",
      "Chain dot tooks 0.2568364143371582 seconds.\n"
     ]
    }
   ],
   "source": [
    "\"\"\"\n",
    "linalg.multi_dot() ２つ以上の配列の掛け算を１つの関数で実行したい場合に最適化で速い\n",
    "以下のコードで、実行時間を比較\n",
    "\"\"\"\n",
    "from numpy.linalg import multi_dot\n",
    "import time\n",
    "\n",
    "a = np.arange(120000).reshape(400,300)\n",
    "b = np.arange(150000).reshape(300,500)\n",
    "c = np.arange(200000).reshape(500,400)\n",
    "\n",
    "start = time.time()\n",
    "multi_dot([a,b,c])\n",
    "ft = time.time()-start\n",
    "print('Multi_dot tooks', time.time()-start,'seconds.')\n",
    "\n",
    "start_ft = time.time()\n",
    "a.dot(b).dot(c)\n",
    "print('Chain dot tooks', time.time()-start_ft,'seconds.')"
   ]
  },
  {
   "cell_type": "code",
   "execution_count": null,
   "metadata": {},
   "outputs": [
    {
     "name": "stdout",
     "output_type": "stream",
     "text": [
      "[[[ 0  1  2  3  4]\n",
      "  [ 5  6  7  8  9]\n",
      "  [10 11 12 13 14]\n",
      "  [15 16 17 18 19]]\n",
      "\n",
      " [[20 21 22 23 24]\n",
      "  [25 26 27 28 29]\n",
      "  [30 31 32 33 34]\n",
      "  [35 36 37 38 39]]\n",
      "\n",
      " [[40 41 42 43 44]\n",
      "  [45 46 47 48 49]\n",
      "  [50 51 52 53 54]\n",
      "  [55 56 57 58 59]]]\n",
      "[[[ 0  1]\n",
      "  [ 2  3]\n",
      "  [ 4  5]]\n",
      "\n",
      " [[ 6  7]\n",
      "  [ 8  9]\n",
      "  [10 11]]\n",
      "\n",
      " [[12 13]\n",
      "  [14 15]\n",
      "  [16 17]]\n",
      "\n",
      " [[18 19]\n",
      "  [20 21]\n",
      "  [22 23]]]\n"
     ]
    },
    {
     "data": {
      "text/plain": [
       "array([[4400, 4730],\n",
       "       [4532, 4874],\n",
       "       [4664, 5018],\n",
       "       [4796, 5162],\n",
       "       [4928, 5306]])"
      ]
     },
     "execution_count": 55,
     "metadata": {},
     "output_type": "execute_result"
    }
   ],
   "source": [
    "\"\"\"\n",
    "tensordot()メソッドは、２つのテンソルの縮約に使う。\n",
    "指定した軸上で２つのテンソルの積の和をとることで、次元を削減する。\n",
    "\n",
    "\"\"\"\n",
    "a = np.arange(60).reshape(3,4,5)\n",
    "b = np.arange(24).reshape(4,3,2)\n",
    "c = np.tensordot(a,b, axes=([1,0],[0,1]))\n",
    "print(a)\n",
    "print(b)\n",
    "c"
   ]
  },
  {
   "cell_type": "code",
   "execution_count": null,
   "metadata": {},
   "outputs": [
    {
     "data": {
      "text/plain": [
       "array([[4400., 4730.],\n",
       "       [4532., 4874.],\n",
       "       [4664., 5018.],\n",
       "       [4796., 5162.],\n",
       "       [4928., 5306.]])"
      ]
     },
     "execution_count": 56,
     "metadata": {},
     "output_type": "execute_result"
    }
   ],
   "source": [
    "\"\"\"上記ブロックは以下のコードを計算しているのと同じ\"\"\"\n",
    "d = np.zeros((5, 2))\n",
    "for i in range(5):\n",
    "    for j in range(2):\n",
    "        for k in range(3):\n",
    "            for l in range(4):\n",
    "                d[i,j] += a[k,l,i] * b[l,k,j]\n",
    "d"
   ]
  },
  {
   "cell_type": "code",
   "execution_count": null,
   "metadata": {},
   "outputs": [
    {
     "data": {
      "text/plain": [
       "array([[ 1.        , -0.70710678],\n",
       "       [ 0.        ,  0.70710678]])"
      ]
     },
     "execution_count": 64,
     "metadata": {},
     "output_type": "execute_result"
    }
   ],
   "source": [
    "\"\"\"\n",
    "固有値・固有ベクトルを計算する np.linalg.eig()\n",
    "固有値・固有ベクトルって何？\n",
    "https://atarimae.biz/archives/24166\n",
    "\"\"\"\n",
    "a = np.array([[3,1],[0,2]])\n",
    "# 固有値をv、固有ベクトルをwに代入\n",
    "v, w = np.linalg.eig(a)\n",
    "w"
   ]
  },
  {
   "cell_type": "code",
   "execution_count": null,
   "metadata": {},
   "outputs": [
    {
     "data": {
      "text/plain": [
       "(569, 30)"
      ]
     },
     "execution_count": 66,
     "metadata": {},
     "output_type": "execute_result"
    }
   ],
   "source": [
    "\"\"\"\n",
    "PCA:principal component analysis を実行！\n",
    "「変数が3つ以上ある高次元のデータに対して、より低い次元でデータのばらつきを説明する」手法\n",
    "\"\"\"\n",
    "from sklearn import decomposition, datasets\n",
    "from sklearn.preprocessing import StandardScaler\n",
    "\n",
    "data = datasets.load_breast_cancer()\n",
    "cancer = data.data\n",
    "# fit_transformメソッドで、平均が０、標準偏差が１の分布になるようにする\n",
    "cancer = StandardScaler().fit_transform(cancer)\n",
    "cancer.shape"
   ]
  },
  {
   "cell_type": "code",
   "execution_count": null,
   "metadata": {},
   "outputs": [
    {
     "name": "stdout",
     "output_type": "stream",
     "text": [
      "[[17.99]\n",
      " [20.57]\n",
      " [19.69]\n",
      " [11.42]\n",
      " [20.29]\n",
      " [12.45]\n",
      " [18.25]\n",
      " [13.71]\n",
      " [13.  ]\n",
      " [12.46]]\n"
     ]
    },
    {
     "data": {
      "text/plain": [
       "array([[ 1.09706398],\n",
       "       [ 1.82982061],\n",
       "       [ 1.57988811],\n",
       "       [-0.76890929],\n",
       "       [ 1.75029663],\n",
       "       [-0.47637467],\n",
       "       [ 1.17090767],\n",
       "       [-0.11851678],\n",
       "       [-0.32016686],\n",
       "       [-0.47353452]])"
      ]
     },
     "execution_count": 69,
     "metadata": {},
     "output_type": "execute_result"
    }
   ],
   "source": [
    "\"\"\"データがどう変換されたか確認\"\"\"\n",
    "before_transformation = data.data\n",
    "print(before_transformation[:10,:1])\n",
    "\n",
    "cancer[:10,:1]"
   ]
  },
  {
   "attachments": {},
   "cell_type": "markdown",
   "metadata": {},
   "source": [
    "##### 標準化の計算式\n",
    "$$\n",
    "Z = \\frac{x-\\mu}{\\sigma}\\\\ \n",
    "\\quad\\\\\n",
    "$$\n",
    "###### Z：標準化された値   　x：標準化される値（元データにある値）  　 $\\mu$：分布の平均  　　$\\sigma$：分布の標準偏差\n"
   ]
  },
  {
   "cell_type": "code",
   "execution_count": null,
   "metadata": {},
   "outputs": [
    {
     "data": {
      "text/plain": [
       "(30, 30)"
      ]
     },
     "execution_count": 74,
     "metadata": {},
     "output_type": "execute_result"
    }
   ],
   "source": [
    "\"\"\"\n",
    "データを変換したら、np.linalg.eig()で固有値と固有ベクトルを計算するために\n",
    "共分散行列を計算し、続いてそれらを分解に用いる\n",
    "\"\"\" \n",
    "convariance_matrix = np.cov(cancer,rowvar=False)\n",
    "# データセットには30の特徴があるので共分散行列の形状は」(30, 30)になる。\n",
    "convariance_matrix.shape"
   ]
  },
  {
   "cell_type": "code",
   "execution_count": null,
   "metadata": {},
   "outputs": [],
   "source": [
    "eig_val_cov, eig_vec_cov = np.linalg.eig(convariance_matrix)\n",
    "eig_pairs = [(np.abs(eig_val_cov[i]), eig_vec_cov[:,i]) for i in range(len(eig_val_cov))]"
   ]
  },
  {
   "cell_type": "code",
   "execution_count": null,
   "metadata": {},
   "outputs": [
    {
     "name": "stdout",
     "output_type": "stream",
     "text": [
      "13.304990794374568\n",
      "5.701374603726145\n",
      "2.8229101550062334\n",
      "1.9841275177302\n",
      "1.65163324233012\n",
      "1.2094822398029712\n",
      "0.676408881700906\n",
      "0.4774562546895071\n",
      "0.41762878210781723\n",
      "0.3513108748817337\n",
      "0.29443315349116456\n",
      "0.2616211613661211\n",
      "0.24178242132831346\n",
      "0.1572861492175933\n",
      "0.09430069560105563\n",
      "0.08000340447737676\n",
      "0.05950361353043194\n",
      "0.05271142221014812\n",
      "0.04956470021298179\n",
      "0.031214260553066572\n",
      "0.030025663090428794\n",
      "0.02748771133890438\n",
      "0.024383691354590887\n",
      "0.01808679398430555\n",
      "0.015508527134418791\n",
      "0.008192037117606663\n",
      "0.006912612579184416\n",
      "0.0015921360011975463\n",
      "0.0007501214127190039\n",
      "0.0001332790566640968\n"
     ]
    }
   ],
   "source": [
    "\"\"\"\n",
    "除去する固有ベクトルを決定するために、固有値を降べきの順にソート　※「べき」とは指数のこと\n",
    "結果、大きな固有値を持つ最初の２つの固有ベクトルが、データの分布に関する\n",
    "情報を最も多く含んでいる\n",
    "\"\"\"\n",
    "sorted_pairs = eig_pairs.sort(key=lambda x: x[0], reverse=True)\n",
    "for i in eig_pairs:\n",
    "    print(i[0])"
   ]
  },
  {
   "cell_type": "code",
   "execution_count": null,
   "metadata": {},
   "outputs": [
    {
     "name": "stdout",
     "output_type": "stream",
     "text": [
      "(30, 2)\n",
      "[9.19283683 1.94858307]\n"
     ]
    },
    {
     "data": {
      "text/plain": [
       "(569, 2)"
      ]
     },
     "execution_count": 81,
     "metadata": {},
     "output_type": "execute_result"
    }
   ],
   "source": [
    "\"\"\"\n",
    "より低い次元作業空間を得るために残りを除去する。\n",
    "最初の2つの固有ベクトルを水平にスタック、この行列と元データの掛け算を行って、\n",
    "元データを新しい次元数の部分空間へ射影する。\n",
    "結果、(569,30)から(569,2)へ変換された。これはPCAの処理で28個の特徴が除去されたことを意味する。\n",
    "\"\"\"\n",
    "matrix_w = np.hstack((eig_pairs[0][1].reshape(30,1), eig_pairs[1][1].reshape(30,1)))\n",
    "print(matrix_w.shape)\n",
    "transformed = matrix_w.T.dot(cancer.T)\n",
    "transformed = transformed.T\n",
    "print(transformed[0])\n",
    "transformed.shape"
   ]
  },
  {
   "cell_type": "code",
   "execution_count": null,
   "metadata": {},
   "outputs": [
    {
     "data": {
      "text/plain": [
       "array([9.19283683, 1.94858307])"
      ]
     },
     "execution_count": 85,
     "metadata": {},
     "output_type": "execute_result"
    }
   ],
   "source": [
    "\"\"\"上記まで行っていたPCAをscikit-learnを用い、短いコードで行う\"\"\"\n",
    "from sklearn import decomposition\n",
    "from sklearn import datasets\n",
    "from sklearn.preprocessing import StandardScaler\n",
    "\n",
    "pca = decomposition.PCA(n_components=2)\n",
    "x_std = StandardScaler().fit_transform(cancer)\n",
    "pca.fit_transform(x_std)[0]"
   ]
  },
  {
   "cell_type": "code",
   "execution_count": null,
   "metadata": {},
   "outputs": [
    {
     "name": "stdout",
     "output_type": "stream",
     "text": [
      "3.0\n",
      "16.0\n",
      "10.488088481701515\n"
     ]
    }
   ],
   "source": [
    "\"\"\"\n",
    "ノルム：端的にはベクトルの長さ　※機械学習アルゴリズムでは特徴空間の距離の計算に用いられる\n",
    "linalgnorm()メソッドで取得できる。　ordパラメータにはノルムの次数を指定\n",
    "\"\"\"\n",
    "x = np.array([2,5,9,0])\n",
    "\n",
    "\"\"\"L^0-ノルム　ベクトルの非零要素の個数\"\"\"\n",
    "print(np.linalg.norm(x,ord=0))\n",
    "\n",
    "\"\"\"L^1-ノルム（マンハッタンノルム）用途の一つは平均絶対誤差(MAE:mean-absolute-error)\"\"\"\n",
    "print(np.linalg.norm(x,ord=1))\n",
    "\n",
    "\"\"\"L^2-ノルム（ユークリッドノルム） 用途の一つは平均二乗誤差(MSE:mean-squared-error)\"\"\"\n",
    "print(np.linalg.norm(x,ord=2))\n"
   ]
  },
  {
   "cell_type": "code",
   "execution_count": null,
   "metadata": {},
   "outputs": [],
   "source": [
    "\"\"\"\n",
    "線形変換：行列によって空間（線形空間）を変形させること・・・面白い！\n",
    "https://www.headboost.jp/what-is-linear-transformation/\n",
    "\n",
    "１．変換前も変換後も直線は直線のまま\n",
    "２．変換前も変換後も原点は変わらず固定\n",
    "３．すべての直線は平行かつ等間隔\n",
    "\"\"\"\n",
    "\n"
   ]
  },
  {
   "cell_type": "code",
   "execution_count": null,
   "metadata": {},
   "outputs": [
    {
     "name": "stdout",
     "output_type": "stream",
     "text": [
      "[[2 3]\n",
      " [1 4]]\n"
     ]
    },
    {
     "data": {
      "text/plain": [
       "5.000000000000001"
      ]
     },
     "execution_count": 93,
     "metadata": {},
     "output_type": "execute_result"
    }
   ],
   "source": [
    "\"\"\"\n",
    "行列式：与えられた行列が表す線形変換の変化率\n",
    "行列式は正方行列に対してのみ定義されます。\n",
    "\"\"\"\n",
    "A = np.array([2,3,1,4]).reshape(2,2)\n",
    "print(A)\n",
    "np.linalg.det(A)"
   ]
  },
  {
   "cell_type": "code",
   "execution_count": null,
   "metadata": {},
   "outputs": [
    {
     "name": "stdout",
     "output_type": "stream",
     "text": [
      "[[[ 0  1  2]\n",
      "  [ 3  4  5]\n",
      "  [ 6  7  8]]\n",
      "\n",
      " [[ 9 10 11]\n",
      "  [12 13 14]\n",
      "  [15 16 17]]\n",
      "\n",
      " [[18 19 20]\n",
      "  [21 22 23]\n",
      "  [24 25 26]]]\n"
     ]
    },
    {
     "data": {
      "text/plain": [
       "array([36, 39, 42])"
      ]
     },
     "execution_count": 94,
     "metadata": {},
     "output_type": "execute_result"
    }
   ],
   "source": [
    "\"\"\"\n",
    "トレース：行列の対角成分の和\n",
    "何に使うか、また、3次元以上の場合計算過程わからん!! 必要になったら調査\n",
    "https://www.headboost.jp/numpy-trace/\n",
    "\"\"\"\n",
    "\n",
    "\"\"\"\n",
    "3次元配列の場合、axis=0は「奥行き」、axis=1は「行」、axis=2は「列」です。\n",
    "そのため、デフォルトのaxis1=0, axis2=1では奥行き方向の要素を1つの軸に、行方向の要素を1つの軸にした\n",
    "2次元配列の対角線の要素を合計しています。\n",
    "\"\"\"\n",
    "b = np.arange(27).reshape(3,3,3)\n",
    "print(b)\n",
    "np.trace(b)"
   ]
  },
  {
   "cell_type": "code",
   "execution_count": null,
   "metadata": {},
   "outputs": [
    {
     "data": {
      "text/plain": [
       "array([-0.2, -0.4,  4.4])"
      ]
     },
     "execution_count": 97,
     "metadata": {},
     "output_type": "execute_result"
    }
   ],
   "source": [
    "\"\"\"線形方程式を解く\"\"\"\n",
    "A = np.array([[2,1,2],[3,2,1],[0,1,1]])\n",
    "B = np.array([8,3,4])\n",
    "x = np.linalg.solve(A, B)\n",
    "x"
   ]
  },
  {
   "cell_type": "code",
   "execution_count": null,
   "metadata": {},
   "outputs": [
    {
     "data": {
      "text/plain": [
       "True"
      ]
     },
     "execution_count": 98,
     "metadata": {},
     "output_type": "execute_result"
    }
   ],
   "source": [
    "\"\"\"2つの配列を要素ごとに比較する関数で上記線形方程式の結果確認\"\"\"\n",
    "np.allclose(np.dot(A, x), B)"
   ]
  },
  {
   "cell_type": "code",
   "execution_count": 102,
   "metadata": {},
   "outputs": [
    {
     "name": "stdout",
     "output_type": "stream",
     "text": [
      "[ 1  2  3  4  5  6  7  8  9 10]\n",
      "[[ 1.  2.  3.  4.  5.  6.  7.  8.  9. 10.]\n",
      " [ 1.  1.  1.  1.  1.  1.  1.  1.  1.  1.]]\n",
      "[[ 1.  1.]\n",
      " [ 2.  1.]\n",
      " [ 3.  1.]\n",
      " [ 4.  1.]\n",
      " [ 5.  1.]\n",
      " [ 6.  1.]\n",
      " [ 7.  1.]\n",
      " [ 8.  1.]\n",
      " [ 9.  1.]\n",
      " [10.  1.]]\n"
     ]
    },
    {
     "data": {
      "image/png": "[encoded data removed]",
      "text/plain": [
       "<Figure size 640x480 with 1 Axes>"
      ]
     },
     "metadata": {},
     "output_type": "display_data"
    }
   ],
   "source": [
    "\"\"\"\n",
    "線形回帰モデルの可視化\n",
    "回帰直線：各データ点からの距離の和が最小になる直線\n",
    "最小二乗解を返すlinalg.lstsq()を用い\n",
    "重みとバイアス\n",
    "\"\"\"\n",
    "from numpy import arange,array,ones,linalg\n",
    "from pylab import plot,show\n",
    "\n",
    "x = np.arange(1,11)\n",
    "A = np.vstack([x,np.ones(len(x))])\n",
    "print(x)\n",
    "print(A)\n",
    "A = A.T\n",
    "print(A)\n",
    "y = [5, 6, 6.5, 7, 8, 9.5, 10, 10.4, 13.1, 15.5]\n",
    "\n",
    "w = linalg.lstsq(A,y, rcond=-1)[0]\n",
    "w\n",
    "\n",
    "line = w[0]*x + w[1]\n",
    "plot(x,line,'r-',x,y,'o')\n",
    "show()"
   ]
  },
  {
   "attachments": {},
   "cell_type": "markdown",
   "metadata": {},
   "source": [
    "#### 探索的データ分析"
   ]
  },
  {
   "cell_type": "code",
   "execution_count": 5,
   "metadata": {},
   "outputs": [
    {
     "data": {
      "text/plain": [
       "(506, 13)"
      ]
     },
     "execution_count": 5,
     "metadata": {},
     "output_type": "execute_result"
    }
   ],
   "source": [
    "\"\"\"ボストン市の住宅価格データセット\"\"\"\n",
    "from sklearn.datasets import load_boston\n",
    "dataset = load_boston()\n",
    "samples, label, feature_names = dataset.data, dataset.target, dataset.feature_names\n",
    "samples.shape"
   ]
  },
  {
   "cell_type": "code",
   "execution_count": 78,
   "metadata": {},
   "outputs": [
    {
     "data": {
      "text/plain": [
       "DescribeResult(nobs=506, minmax=(array([6.3200e-03, 0.0000e+00, 4.6000e-01, 0.0000e+00, 3.8500e-01,\n",
       "       3.5610e+00, 2.9000e+00, 1.1296e+00, 1.0000e+00, 1.8700e+02,\n",
       "       1.2600e+01, 3.2000e-01, 1.7300e+00]), array([ 88.9762, 100.    ,  27.74  ,   1.    ,   0.871 ,   8.78  ,\n",
       "       100.    ,  12.1265,  24.    , 711.    ,  22.    , 396.9   ,\n",
       "        37.97  ])), mean=array([3.61352356e+00, 1.13636364e+01, 1.11367787e+01, 6.91699605e-02,\n",
       "       5.54695059e-01, 6.28463439e+00, 6.85749012e+01, 3.79504269e+00,\n",
       "       9.54940711e+00, 4.08237154e+02, 1.84555336e+01, 3.56674032e+02,\n",
       "       1.26530632e+01]), variance=array([7.39865782e+01, 5.43936814e+02, 4.70644425e+01, 6.45129730e-02,\n",
       "       1.34276357e-02, 4.93670850e-01, 7.92358399e+02, 4.43401514e+00,\n",
       "       7.58163660e+01, 2.84047595e+04, 4.68698912e+00, 8.33475226e+03,\n",
       "       5.09947595e+01]), skewness=array([ 5.20765239,  2.21906306,  0.29414628,  3.39579929,  0.72714416,\n",
       "        0.40241467, -0.59718559,  1.00877876,  1.00183349,  0.66796827,\n",
       "       -0.79994453, -2.88179835,  0.90377074]), kurtosis=array([36.75278626,  3.97994877, -1.23321847,  9.53145284, -0.07586422,\n",
       "        1.86102697, -0.97001393,  0.47129857, -0.8705205 , -1.14298488,\n",
       "       -0.29411638,  7.14376929,  0.47654476]))"
      ]
     },
     "execution_count": 78,
     "metadata": {},
     "output_type": "execute_result"
    }
   ],
   "source": [
    "\"\"\"\n",
    "Scipyの統計関数で基本統計量の計算\n",
    "Scipyのescribe()関数は与えられた配列の記述統計量をいくつも返す。\n",
    "観測数、最小、最大、平均、分散、歪度、尖度\n",
    "stats(統計)\n",
    "\"\"\"\n",
    "from scipy import stats\n",
    "arr = stats.describe(samples, axis=0)\n",
    "arr"
   ]
  },
  {
   "cell_type": "code",
   "execution_count": 79,
   "metadata": {},
   "outputs": [
    {
     "data": {
      "text/plain": [
       "(8, 13)"
      ]
     },
     "execution_count": 79,
     "metadata": {},
     "output_type": "execute_result"
    }
   ],
   "source": [
    "\"\"\"上記から基本統計量を個別に計算し、出力する行列にスタックする。\"\"\"\n",
    "minimum = arr.minmax[0]\n",
    "maximum = arr.minmax[1]\n",
    "mean = arr.mean\n",
    "median = np.round(np.median(samples, axis=0), decimals=1)\n",
    "variance = arr.variance\n",
    "tenth_percentile = stats.scoreatpercentile(samples, per=10, axis=0)\n",
    "ninety_percentile = stats.scoreatpercentile(samples, per=90, axis=0)\n",
    "\n",
    "\"\"\"\n",
    "範囲を求めるiqr()関数　データの指定した軸と範囲(rngパラメータを使用)の\n",
    "四分位範囲を計算します。デフォルトはrng=(25,75)で、関数がデータの\n",
    "75パーセンタイルと25パーセンタイルの差を計算するという意味\"\"\"\n",
    "rng = stats.iqr(samples, rng=(20,8), axis=0)\n",
    "\n",
    "\"\"\"\n",
    "numpy.get_printoptions() は現在設定されている配列の表示形式を取得する。\n",
    "この設定は numpy.set_printoptions() を使って変更できる。\n",
    "デフォルト設定 (suppress=False) では、0.0001 より小さな値は指数表記となる。\n",
    "suppress=True に設定すると、常に小数表記となる。\n",
    "linewidth は一行に表示する文字数。\n",
    "\"\"\"\n",
    "np.set_printoptions(suppress=True, linewidth=125)\n",
    "\n",
    "\n",
    "\"\"\"\n",
    "np.round関数は四捨五入を行う関数 ※「0.5が0になる」のような落とし穴もある\n",
    "decimals=1で小数点第2位を四捨五入する\n",
    "\"\"\"\n",
    "Basic_Statistics = np.round(np.vstack((minimum,maximum,rng,mean,median,variance,tenth_percentile,ninety_percentile)), decimals=1)\n",
    "\n",
    "Basic_Statistics.shape"
   ]
  },
  {
   "cell_type": "code",
   "execution_count": 80,
   "metadata": {},
   "outputs": [
    {
     "name": "stdout",
     "output_type": "stream",
     "text": [
      "           F1     F2     F3     F4     F5     F6     F7     F8     F9     F10     F11     F12     F13\n",
      "minm [    0.0    0.0    0.5    0.0    0.4    3.6    2.9    1.1    1.0  187.0   12.6    0.3    1.7]\n",
      "maxm [   89.0  100.0   27.7    1.0    0.9    8.8  100.0   12.1   24.0  711.0   22.0  396.9   38.0]\n",
      "rang [    0.0    0.0    1.9    0.0    0.0    0.4   16.2    0.4    2.0   49.0    1.9  134.7    1.8]\n",
      "mean [    3.6   11.4   11.1    0.1    0.6    6.3   68.6    3.8    9.5  408.2   18.5  356.7   12.7]\n",
      "medi [    0.3    0.0    9.7    0.0    0.5    6.2   77.5    3.2    5.0  330.0   19.0  391.4   11.4]\n",
      "vari [   74.0  543.9   47.1    0.1    0.0    0.5  792.4    4.4   75.828404.8    4.7 8334.8   51.0]\n",
      "10%t [    0.0    0.0    2.9    0.0    0.4    5.6   27.0    1.6    3.0  233.0   14.8  290.3    4.7]\n",
      "90%t [   10.8   42.5   19.6    0.0    0.7    7.2   98.8    6.8   24.0  666.0   20.9  396.9   23.0]\n"
     ]
    }
   ],
   "source": [
    "stat_labels = ['minm', 'maxm', 'rang', 'mean', 'medi', 'vari', '10%t', '90%t']\n",
    "print(\"           F1     F2     F3     F4     F5     F6     F7     F8     F9     F10     F11     F12     F13\")\n",
    "for stat_labels , row in zip(stat_labels, Basic_Statistics):\n",
    "    print('%s [%s]' % (stat_labels, ''.join('%07s' % i for i in row)))"
   ]
  },
  {
   "cell_type": "code",
   "execution_count": 101,
   "metadata": {},
   "outputs": [
    {
     "data": {
      "image/png": "[encoded data removed]",
      "text/plain": [
       "<Figure size 640x480 with 1 Axes>"
      ]
     },
     "metadata": {},
     "output_type": "display_data"
    }
   ],
   "source": [
    "\n",
    "import matplotlib.pyplot as plt\n",
    "%matplotlib inline\n",
    "\n",
    "NOX = samples[:,5:6]\n",
    "plt.hist(NOX,bins ='auto')\n",
    "plt.title(\"Distribution nitric oxides concentration (parts per 10 million)\")\n",
    "plt.show()"
   ]
  },
  {
   "cell_type": "code",
   "execution_count": 110,
   "metadata": {},
   "outputs": [
    {
     "data": {
      "image/png": "[encoded data removed]",
      "text/plain": [
       "<Figure size 640x480 with 1 Axes>"
      ]
     },
     "metadata": {},
     "output_type": "display_data"
    }
   ],
   "source": [
    "\"\"\"dednsity(密度)=True を設定し、ビンに含まれる値の個数の全体に対する割合を表示\"\"\"\n",
    "plt.hist(NOX,bins ='auto', density = True)\n",
    "plt.title(\"Distribution nitric oxides concentration (parts per 10 million)\")\n",
    "plt.show()"
   ]
  },
  {
   "cell_type": "code",
   "execution_count": 107,
   "metadata": {},
   "outputs": [
    {
     "name": "stdout",
     "output_type": "stream",
     "text": [
      "Bin Sizes\n",
      "[ 1.  1.  0.  2.  1.  2.  1.  8.  5.  7. 17. 34. 56. 65. 75. 62. 42. 35. 26. 16. 15.  9.  4.  7.  4.  1.  7.  0.  3.]\n",
      "Bin Edges\n",
      "[3.561      3.74096552 3.92093103 4.10089655 4.28086207 4.46082759 4.6407931  4.82075862 5.00072414 5.18068966 5.36065517\n",
      " 5.54062069 5.72058621 5.90055172 6.08051724 6.26048276 6.44044828 6.62041379 6.80037931 6.98034483 7.16031034 7.34027586\n",
      " 7.52024138 7.7002069  7.88017241 8.06013793 8.24010345 8.42006897 8.60003448 8.78      ]\n"
     ]
    },
    {
     "data": {
      "image/png": "[encoded data removed]",
      "text/plain": [
       "<Figure size 640x480 with 1 Axes>"
      ]
     },
     "metadata": {},
     "output_type": "display_data"
    }
   ],
   "source": [
    "\"\"\"\n",
    "ビンのサイズと境界値の表示\n",
    "1番目の便のサイズは1、つまりこのビンに含まれる値が1個\n",
    "区間は3.561から3.74096552まで。\n",
    "このままでは見づらいので、下で改善。\n",
    "\"\"\"\n",
    "n, bins, paches = plt.hist(NOX,bins ='auto')\n",
    "print('Bin Sizes')\n",
    "print(n)\n",
    "print('Bin Edges')\n",
    "print(bins)"
   ]
  },
  {
   "cell_type": "code",
   "execution_count": 112,
   "metadata": {},
   "outputs": [
    {
     "data": {
      "text/plain": [
       "array([['3.561-3.740965517241379', '1.0'],\n",
       "       ['3.740965517241379-3.9209310344827584', '1.0'],\n",
       "       ['3.9209310344827584-4.100896551724138', '0.0'],\n",
       "       ['4.100896551724138-4.280862068965517', '2.0'],\n",
       "       ['4.280862068965517-4.4608275862068965', '1.0'],\n",
       "       ['4.4608275862068965-4.640793103448276', '2.0'],\n",
       "       ['4.640793103448276-4.820758620689655', '1.0'],\n",
       "       ['4.820758620689655-5.0007241379310345', '8.0'],\n",
       "       ['5.0007241379310345-5.180689655172413', '5.0'],\n",
       "       ['5.180689655172413-5.360655172413793', '7.0'],\n",
       "       ['5.360655172413793-5.540620689655173', '17.0'],\n",
       "       ['5.540620689655173-5.720586206896551', '34.0'],\n",
       "       ['5.720586206896551-5.90055172413793', '56.0'],\n",
       "       ['5.90055172413793-6.08051724137931', '65.0'],\n",
       "       ['6.08051724137931-6.2604827586206895', '75.0'],\n",
       "       ['6.2604827586206895-6.440448275862069', '62.0'],\n",
       "       ['6.440448275862069-6.620413793103448', '42.0'],\n",
       "       ['6.620413793103448-6.800379310344827', '35.0'],\n",
       "       ['6.800379310344827-6.980344827586206', '26.0'],\n",
       "       ['6.980344827586206-7.160310344827586', '16.0'],\n",
       "       ['7.160310344827586-7.340275862068966', '15.0'],\n",
       "       ['7.340275862068966-7.520241379310344', '9.0'],\n",
       "       ['7.520241379310344-7.700206896551724', '4.0'],\n",
       "       ['7.700206896551724-7.880172413793103', '7.0'],\n",
       "       ['7.880172413793103-8.060137931034483', '4.0'],\n",
       "       ['8.060137931034483-8.24010344827586', '1.0'],\n",
       "       ['8.24010344827586-8.420068965517242', '7.0'],\n",
       "       ['8.420068965517242-8.60003448275862', '0.0'],\n",
       "       ['8.60003448275862-8.78', '3.0']], dtype='<U36')"
      ]
     },
     "execution_count": 112,
     "metadata": {},
     "output_type": "execute_result"
    }
   ],
   "source": [
    "\"\"\"上を見やすく改善\"\"\"\n",
    "bins_string = bins.astype(np.str)\n",
    "n_string = n.astype(np.str)\n",
    "lists = []\n",
    "for i in range(0, len(bins_string)-1):\n",
    "    c = bins_string[i]+ \"-\" + bins_string[i+1]\n",
    "    lists.append(c)\n",
    "new_bins = np.asarray(lists)\n",
    "Stacked_Bins = np.vstack((new_bins, n_string)).T\n",
    "Stacked_Bins\n"
   ]
  },
  {
   "cell_type": "code",
   "execution_count": 114,
   "metadata": {},
   "outputs": [
    {
     "data": {
      "text/plain": [
       "(506, 12)"
      ]
     },
     "execution_count": 114,
     "metadata": {},
     "output_type": "execute_result"
    }
   ],
   "source": [
    "\"\"\"\n",
    "データセットを分析する際は、列が数値かカテゴリかを意識！\n",
    "ここではバイナリ値(0,1)にエンコードされた特徴列を削除\n",
    "\"\"\"\n",
    "samples_new = np.delete(samples, 3, axis=1)\n",
    "samples_new.shape"
   ]
  },
  {
   "cell_type": "code",
   "execution_count": 119,
   "metadata": {},
   "outputs": [
    {
     "data": {
      "image/png": "[encoded data removed]",
      "text/plain": [
       "<Figure size 500x800 with 12 Axes>"
      ]
     },
     "metadata": {},
     "output_type": "display_data"
    }
   ],
   "source": [
    "\"\"\"全ての特徴のヒストグラムを1枚の図にまとめ、比較を容易にする\"\"\"\n",
    "\n",
    "import matplotlib.pyplot as plt\n",
    "%matplotlib inline\n",
    "\n",
    "flg,((ax1, ax2, ax3),(ax4, ax5, ax6),(ax7, ax8, ax9),(ax10, ax11, ax12)) = plt.subplots(4,3, figsize=(5,8)) #元はfigsize=(10,15)\n",
    "axs = [ax1, ax2, ax3, ax4, ax5, ax6, ax7, ax8, ax9, ax10, ax11, ax12]\n",
    "feature_names_new = np.delete(feature_names,3)\n",
    "for n in range(0, len(axs)):\n",
    "    axs[n].hist(samples_new[:,n:n+1], bins='auto', density=True)\n",
    "    axs[n].set_title('{}'.format(feature_names[n]))"
   ]
  },
  {
   "cell_type": "code",
   "execution_count": 9,
   "metadata": {},
   "outputs": [
    {
     "data": {
      "text/plain": [
       "Text(0.5, 1.0, 'Right Skew')"
      ]
     },
     "execution_count": 9,
     "metadata": {},
     "output_type": "execute_result"
    },
    {
     "data": {
      "image/png": "[encoded data removed]",
      "text/plain": [
       "<Figure size 1000x250 with 3 Axes>"
      ]
     },
     "metadata": {},
     "output_type": "display_data"
    }
   ],
   "source": [
    "\"\"\"\n",
    "統計解析におけるモーメントとは、\n",
    "基準点からの距離の期待値を定量的に表す指標\n",
    "1次モーメント:平均値、2次モーメント:分散、3次モーメント:歪度（わいど）、平均に関する4次中央モーメント:尖度（せんど）\n",
    "左に歪んでいる分布：分布の裾（外れ値）が左側にあるものを指す\n",
    "\"\"\"\n",
    "import matplotlib.pyplot as plt\n",
    "%matplotlib inline\n",
    "import numpy as np\n",
    "from scipy.stats import skewnorm\n",
    "\n",
    "fig, (ax1, ax2, ax3) = plt.subplots(1,3, figsize=(10,2.5))\n",
    "x1 = np.linspace(skewnorm.ppf(0.01,-3), skewnorm.ppf(0.99,-3),100)\n",
    "x2 = np.linspace(skewnorm.ppf(0.01,0), skewnorm.ppf(0.99,0),100)\n",
    "x3 = np.linspace(skewnorm.ppf(0.01,3), skewnorm.ppf(0.99,3),100)\n",
    "ax1.plot(skewnorm(-3).pdf(x1), 'k-', lw=4)\n",
    "ax2.plot(skewnorm(0).pdf(x2), 'k-', lw=4)\n",
    "# 正の歪度があり右に歪んでいる\n",
    "ax3.plot(skewnorm(3).pdf(x3), 'k-', lw=4)\n",
    "ax1.set_title('Left Skew')\n",
    "ax2.set_title('Normal Dist')\n",
    "ax3.set_title('Right Skew')"
   ]
  },
  {
   "cell_type": "code",
   "execution_count": 10,
   "metadata": {},
   "outputs": [
    {
     "name": "stdout",
     "output_type": "stream",
     "text": [
      "kurtosis ofMesokurtic\n",
      "-0.03523016383555788\n",
      "kurtosis ofLeptokurtic\n",
      "2.537967709326093\n",
      "kurtosis ofPlatykurtic\n",
      "-0.5931026935580088\n"
     ]
    },
    {
     "data": {
      "image/png": "[encoded data removed]",
      "text/plain": [
       "<Figure size 1000x200 with 3 Axes>"
      ]
     },
     "metadata": {},
     "output_type": "display_data"
    }
   ],
   "source": [
    "import scipy\n",
    "from scipy import stats\n",
    "import matplotlib.pyplot as plt\n",
    "\n",
    "fig, (ax1, ax2, ax3) = plt.subplots(1, 3, figsize=(10,2))\n",
    "axs = [ax1, ax2, ax3]\n",
    "Titles = ['Mesokurtic', 'Leptokurtic', 'Platykurtic']\n",
    "dist = scipy.stats.norm(loc=100, scale=5)\n",
    "sample_norm = dist.rvs(size=10000)\n",
    "dist2 = scipy.stats.laplace(loc=100, scale=5)\n",
    "sample_laplace = dist2.rvs(size=10000)\n",
    "dist3 = scipy.stats.cosine(loc=100, scale=5)\n",
    "sample_cosine = dist3.rvs(size=10000)\n",
    "samples = [sample_norm, sample_laplace, sample_cosine]\n",
    "\n",
    "for n in range(0, len(axs)):\n",
    "    axs[n].hist(samples[n], bins='auto', density=True)\n",
    "    axs[n].set_title('{}'.format(Titles[n]))\n",
    "    print(\"kurtosis of\" + Titles[n])\n",
    "    print(scipy.stats.describe(samples[n])[5])"
   ]
  },
  {
   "cell_type": "code",
   "execution_count": 15,
   "metadata": {},
   "outputs": [
    {
     "name": "stdout",
     "output_type": "stream",
     "text": [
      "CRIM-Kurtosis: 2.102090573040533 Skewness: 1.9534138515494224\n",
      "ZN-Kurtosis: 2.8706349006925134 Skewness: 2.0753333576721893\n",
      "INDUS-Kurtosis: 2.9386308786131767 Skewness: 2.1061627843164086\n",
      "CHAS-Kurtosis: 3.47131446484547 Skewness: 2.2172838215060517\n",
      "NOX-Kurtosis: 3.461596258869246 Skewness: 2.2086627738768234\n",
      "RM-Kurtosis: 3.395079726813978 Skewness: 2.1917520072643533\n",
      "AGE-Kurtosis: 1.9313625761956317 Skewness: 1.924572804475305\n",
      "DIS-Kurtosis: 1.7633603556547106 Skewness: 1.8601991629604233\n",
      "RAD-Kurtosis: 1.637076772210217 Skewness: 1.8266096199819994\n",
      "TAX-Kurtosis: 1.7459544645159752 Skewness: 1.8679592455694167\n",
      "PTRATIO-Kurtosis: 1.7375702020429316 Skewness: 1.8566444885400044\n",
      "B-Kurtosis: 1.8522036606250456 Skewness: 1.892802610207445\n",
      "LSTAT-Kurtosis: 1.9922400699409053 Skewness: 1.958159486723356\n"
     ]
    }
   ],
   "source": [
    "\"\"\"\n",
    "特徴の歪度と尖度の値を確認\n",
    "どの特徴も歪度が正で右に歪んでいることがわかる\n",
    "\n",
    "\"\"\"\n",
    "samples, label, feature_names_new = dataset.data, dataset.target, dataset.feature_names\n",
    "for n in range(0, len(feature_names_new)):\n",
    "    kurt = scipy.stats.describe(samples[n])[5]\n",
    "    skew = scipy.stats.describe(samples[n])[4]\n",
    "    print(feature_names_new[n] + \"-Kurtosis: {} Skewness: {}\".format(kurt, skew))"
   ]
  },
  {
   "cell_type": "code",
   "execution_count": 15,
   "metadata": {},
   "outputs": [
    {
     "name": "stdout",
     "output_type": "stream",
     "text": [
      "       Before   After\n",
      "minm [    0.0    1.0]\n",
      "maxm [   89.0   38.4]\n",
      "vari [   73.8   47.8]\n",
      "mean [    3.6    8.3]\n"
     ]
    }
   ],
   "source": [
    "\"\"\"\n",
    "データの刈込で統計量の計算に及ぼす影響を減らす\n",
    "関数tmin(),tmax(),tvar(),tmean()は第二引数に制限値を取る\n",
    "\"\"\"\n",
    "np.set_printoptions(suppress=True, linewidth=125)\n",
    "samples = dataset.data\n",
    "CRIM = samples[:,0:1]\n",
    "minimum = np.round(np.amin(CRIM), decimals=1)\n",
    "maximum = np.round(np.amax(CRIM), decimals=1)\n",
    "variance = np.round(np.var(CRIM), decimals=1)\n",
    "mean = np.round(np.mean(CRIM), decimals=1)\n",
    "Before_Trim = np.vstack((minimum, maximum, variance, mean))\n",
    "minimum_trim = stats.tmin(CRIM, 1)\n",
    "maximum_trim = stats.tmax(CRIM, 40)\n",
    "variance_trim = stats.tvar(CRIM, (1,40))\n",
    "mean_trim = stats.tmean(CRIM, (1,40))\n",
    "After_Trim = np.round(np.vstack((minimum_trim, maximum_trim, variance_trim, mean_trim)), decimals=1)\n",
    "stat_labels1 = ['minm', 'maxm', 'vari', 'mean']\n",
    "Basic_Statistics1 = np.hstack((Before_Trim, After_Trim)) \n",
    "print(\"       Before   After\")\n",
    "for stat_labels1, row1 in zip(stat_labels1, Basic_Statistics1):\n",
    "    print('%s [%s]' % (stat_labels1, ''.join('%07s' % a for a in row1)))"
   ]
  },
  {
   "cell_type": "code",
   "execution_count": 16,
   "metadata": {},
   "outputs": [
    {
     "data": {
      "image/png": "[encoded data removed]",
      "text/plain": [
       "<Figure size 1000x200 with 2 Axes>"
      ]
     },
     "metadata": {},
     "output_type": "display_data"
    }
   ],
   "source": [
    "CRIM_TRIMMED = stats.trimboth(CRIM, 0.2)\n",
    "fig, (ax1, ax2) = plt.subplots(1, 2, figsize=(10,2))\n",
    "axs = [ax1, ax2]\n",
    "df = [CRIM, CRIM_TRIMMED]\n",
    "list_methods = ['Before Trim', 'After Trim']\n",
    "for n in range(0, len(axs)):\n",
    "    axs[n].hist(df[n], bins = 'auto')\n",
    "    axs[n].set_title('{}'.format(list_methods[n]))"
   ]
  },
  {
   "cell_type": "code",
   "execution_count": 17,
   "metadata": {},
   "outputs": [
    {
     "data": {
      "text/plain": [
       "Text(0.5, 1.0, 'RM')"
      ]
     },
     "execution_count": 17,
     "metadata": {},
     "output_type": "execute_result"
    },
    {
     "data": {
      "image/png": "[encoded data removed]",
      "text/plain": [
       "<Figure size 800x300 with 2 Axes>"
      ]
     },
     "metadata": {},
     "output_type": "display_data"
    }
   ],
   "source": [
    "\"\"\"\n",
    "ボックスプロット（箱ひげ図）\n",
    "複数の分布を比較する場合にとても便利\n",
    "ヒストグラムの代わりになる\n",
    "\"\"\"\n",
    "fig, (ax1, ax2) = plt.subplots(1,2, figsize=(8,3))\n",
    "axs = [ax1, ax2]\n",
    "list_features = ['CRIM', 'RM']\n",
    "ax1.boxplot(stats.trimboth(samples[:,0:1], 0.2))\n",
    "ax1.set_title('{}'.format(list_features[0]))\n",
    "ax2.boxplot(stats.trimboth(samples[:,5:6], 0.2))\n",
    "ax2.set_title('{}'.format(list_features[1]))"
   ]
  },
  {
   "cell_type": "code",
   "execution_count": 19,
   "metadata": {},
   "outputs": [
    {
     "data": {
      "text/plain": [
       "array([[ 1. , -0.2,  0.4, -0.1,  0.4, -0.2,  0.4, -0.4,  0.6,  0.6,  0.3, -0.4,  0.5],\n",
       "       [-0.2,  1. , -0.5, -0. , -0.5,  0.3, -0.6,  0.7, -0.3, -0.3, -0.4,  0.2, -0.4],\n",
       "       [ 0.4, -0.5,  1. ,  0.1,  0.8, -0.4,  0.6, -0.7,  0.6,  0.7,  0.4, -0.4,  0.6],\n",
       "       [-0.1, -0. ,  0.1,  1. ,  0.1,  0.1,  0.1, -0.1, -0. , -0. , -0.1,  0. , -0.1],\n",
       "       [ 0.4, -0.5,  0.8,  0.1,  1. , -0.3,  0.7, -0.8,  0.6,  0.7,  0.2, -0.4,  0.6],\n",
       "       [-0.2,  0.3, -0.4,  0.1, -0.3,  1. , -0.2,  0.2, -0.2, -0.3, -0.4,  0.1, -0.6],\n",
       "       [ 0.4, -0.6,  0.6,  0.1,  0.7, -0.2,  1. , -0.7,  0.5,  0.5,  0.3, -0.3,  0.6],\n",
       "       [-0.4,  0.7, -0.7, -0.1, -0.8,  0.2, -0.7,  1. , -0.5, -0.5, -0.2,  0.3, -0.5],\n",
       "       [ 0.6, -0.3,  0.6, -0. ,  0.6, -0.2,  0.5, -0.5,  1. ,  0.9,  0.5, -0.4,  0.5],\n",
       "       [ 0.6, -0.3,  0.7, -0. ,  0.7, -0.3,  0.5, -0.5,  0.9,  1. ,  0.5, -0.4,  0.5],\n",
       "       [ 0.3, -0.4,  0.4, -0.1,  0.2, -0.4,  0.3, -0.2,  0.5,  0.5,  1. , -0.2,  0.4],\n",
       "       [-0.4,  0.2, -0.4,  0. , -0.4,  0.1, -0.3,  0.3, -0.4, -0.4, -0.2,  1. , -0.4],\n",
       "       [ 0.5, -0.4,  0.6, -0.1,  0.6, -0.6,  0.6, -0.5,  0.5,  0.5,  0.4, -0.4,  1. ]])"
      ]
     },
     "execution_count": 19,
     "metadata": {},
     "output_type": "execute_result"
    }
   ],
   "source": [
    "\"\"\"\n",
    "2変量解析\n",
    "Numpyではcorrcoef()メソッドを用いて相関行列を計算できる。\n",
    "ピアソンの積率相関係数 = ＸとYの共分散 / Ｘの標準偏差とＹの標準偏差との積\n",
    "定義式からわかるように、ピアソンの相関係数はXとYが完全に相関しているとき、\n",
    "すなわち直線関係にあるときに１になり、まったく相関がないときに０になります。\n",
    "XとYが逆相関しているときは-1を取ります。-1から1までの間の数をとることになります。\n",
    "\"\"\"\n",
    "np.set_printoptions(suppress=True, linewidth=125)\n",
    "CorrelationCoef_Matrix = np.round(np.corrcoef(samples, rowvar=False), decimals=1)\n",
    "CorrelationCoef_Matrix\n",
    "\"\"\"\n",
    "samples.shape : (506, 13)\n",
    "CorrelationCoef_Matrix.shape : (13, 13)\n",
    "\n",
    "API:numpuy.corrcoef(x, y=None, rowvar=True, bias=_NoValue, ddof = _NoValue)\n",
    "x:複数回の観測値が含まれている1次元か2次元の配列を指定します。\n",
    "y:(省略可能)初期値None 追加するデータを指定します。xとyがそれぞれ1次元配列で結合する手間なくその2つの相関係数を知りたいときなどによく使います。\n",
    "rowvar:(省略可能)初期値True 行ごとの相関係数を知りたいときはここをTrueにします。そうではなく、列ごとの相関係数を知りたいときはここをFalseにします。\n",
    "\"\"\""
   ]
  },
  {
   "cell_type": "code",
   "execution_count": 38,
   "metadata": {},
   "outputs": [
    {
     "data": {
      "text/plain": [
       "array([[ 1.        , -0.05640533],\n",
       "       [-0.05640533,  1.        ]])"
      ]
     },
     "execution_count": 38,
     "metadata": {},
     "output_type": "execute_result"
    }
   ],
   "source": [
    "\"\"\"\n",
    "簡単な例を示す\n",
    "1行目が数学、2行目が国語の成績\n",
    "\"\"\"\n",
    "x = np.array([\n",
    "    [1, 2, 1, 9, 10, 3, 2, 6, 7],\n",
    "    [2, 1, 8, 3, 7, 5, 10, 7, 2]])\n",
    "\n",
    "np.corrcoef(x)\n",
    "\n",
    "\"\"\"\n",
    "結果\n",
    "右上と左下の値が相関係数となっている\n",
    "ほぼ0となっているので国語と数学の成績にはほとんど相関関係がない\n",
    "\"\"\"\n"
   ]
  },
  {
   "cell_type": "code",
   "execution_count": 39,
   "metadata": {},
   "outputs": [
    {
     "data": {
      "text/plain": [
       "array([[ 1.        , -0.05640533,  0.97094584],\n",
       "       [-0.05640533,  1.        , -0.01315587],\n",
       "       [ 0.97094584, -0.01315587,  1.        ]])"
      ]
     },
     "execution_count": 39,
     "metadata": {},
     "output_type": "execute_result"
    }
   ],
   "source": [
    "\"\"\"英語の成績を追加\"\"\"\n",
    "y = np.array([2, 1, 1, 8, 9, 4, 3, 5, 7]) \n",
    "np.corrcoef(x, y)\n",
    "\"\"\"\n",
    "結果:数学と英語の成績には正の相関が認められる\n",
    "\n",
    "\t    数学\t    国語\t   英語\n",
    "数学\t数学-数学\t数学-国語\t数学-英語\n",
    "国語\t国語-数学\t国語-国語\t国語-英語\n",
    "英語\t英語-数学\t英語-国語\t英語-英語\n",
    "\"\"\""
   ]
  },
  {
   "cell_type": "code",
   "execution_count": 34,
   "metadata": {},
   "outputs": [
    {
     "data": {
      "image/png": "[encoded data removed]",
      "text/plain": [
       "<Figure size 640x480 with 2 Axes>"
      ]
     },
     "metadata": {},
     "output_type": "display_data"
    }
   ],
   "source": [
    "\"\"\"\n",
    "ヒートマップ\n",
    "何百もの特徴があるような場合に、相関の高い係数を検出するのにとても役立つ\n",
    "\"\"\"\n",
    "CorrelationCoef_Matrix1 = np.round(np.corrcoef(samples, rowvar=False), decimals=1)\n",
    "import seaborn as sns; sns.set()\n",
    "ax = sns.heatmap(CorrelationCoef_Matrix, cmap=\"YlGnBu\") # cmap:color map\n",
    "\n"
   ]
  },
  {
   "cell_type": "code",
   "execution_count": 26,
   "metadata": {},
   "outputs": [
    {
     "data": {
      "text/plain": [
       "array([[ 1.  , -0.2 ,  0.41, -0.06,  0.42, -0.22,  0.35, -0.38,  0.63,  0.58,  0.29, -0.39,  0.46, -0.39],\n",
       "       [-0.2 ,  1.  , -0.53, -0.04, -0.52,  0.31, -0.57,  0.66, -0.31, -0.31, -0.39,  0.18, -0.41,  0.36],\n",
       "       [ 0.41, -0.53,  1.  ,  0.06,  0.76, -0.39,  0.64, -0.71,  0.6 ,  0.72,  0.38, -0.36,  0.6 , -0.48],\n",
       "       [-0.06, -0.04,  0.06,  1.  ,  0.09,  0.09,  0.09, -0.1 , -0.01, -0.04, -0.12,  0.05, -0.05,  0.18],\n",
       "       [ 0.42, -0.52,  0.76,  0.09,  1.  , -0.3 ,  0.73, -0.77,  0.61,  0.67,  0.19, -0.38,  0.59, -0.43],\n",
       "       [-0.22,  0.31, -0.39,  0.09, -0.3 ,  1.  , -0.24,  0.21, -0.21, -0.29, -0.36,  0.13, -0.61,  0.7 ],\n",
       "       [ 0.35, -0.57,  0.64,  0.09,  0.73, -0.24,  1.  , -0.75,  0.46,  0.51,  0.26, -0.27,  0.6 , -0.38],\n",
       "       [-0.38,  0.66, -0.71, -0.1 , -0.77,  0.21, -0.75,  1.  , -0.49, -0.53, -0.23,  0.29, -0.5 ,  0.25],\n",
       "       [ 0.63, -0.31,  0.6 , -0.01,  0.61, -0.21,  0.46, -0.49,  1.  ,  0.91,  0.46, -0.44,  0.49, -0.38],\n",
       "       [ 0.58, -0.31,  0.72, -0.04,  0.67, -0.29,  0.51, -0.53,  0.91,  1.  ,  0.46, -0.44,  0.54, -0.47],\n",
       "       [ 0.29, -0.39,  0.38, -0.12,  0.19, -0.36,  0.26, -0.23,  0.46,  0.46,  1.  , -0.18,  0.37, -0.51],\n",
       "       [-0.39,  0.18, -0.36,  0.05, -0.38,  0.13, -0.27,  0.29, -0.44, -0.44, -0.18,  1.  , -0.37,  0.33],\n",
       "       [ 0.46, -0.41,  0.6 , -0.05,  0.59, -0.61,  0.6 , -0.5 ,  0.49,  0.54,  0.37, -0.37,  1.  , -0.74],\n",
       "       [-0.39,  0.36, -0.48,  0.18, -0.43,  0.7 , -0.38,  0.25, -0.38, -0.47, -0.51,  0.33, -0.74,  1.  ]])"
      ]
     },
     "execution_count": 26,
     "metadata": {},
     "output_type": "execute_result"
    }
   ],
   "source": [
    "\"\"\"ラベル列を追加 2番目の引数に変数のセットを追加することができ、関数はこの列を一番後ろにスタックし相関行列を計算する\"\"\"\n",
    "np.set_printoptions(suppress=True, linewidth=125)\n",
    "CorrelationCoef_Matrix2 = np.round(np.corrcoef(samples, label, rowvar=False), decimals=2)\n",
    "CorrelationCoef_Matrix2\n",
    "\"\"\"\n",
    "label.shape : (506,)\n",
    "CorrelationCoef_Matrix2.shape : (14, 14)\n",
    "\n",
    "\"\"\""
   ]
  },
  {
   "cell_type": "code",
   "execution_count": 41,
   "metadata": {},
   "outputs": [
    {
     "data": {
      "text/plain": [
       "array([[-0.39,  0.36, -0.48,  0.18, -0.43,  0.7 , -0.38,  0.25, -0.38, -0.47, -0.51,  0.33, -0.74]])"
      ]
     },
     "execution_count": 41,
     "metadata": {},
     "output_type": "execute_result"
    }
   ],
   "source": [
    "\"\"\"一番右側、縦の列を転置し抽出\"\"\"\n",
    "CorrelationCoef_Matrix2[0:13, 13:14].T"
   ]
  },
  {
   "cell_type": "code",
   "execution_count": 44,
   "metadata": {},
   "outputs": [
    {
     "data": {
      "image/png": "[encoded data removed]",
      "text/plain": [
       "<Figure size 1000x400 with 3 Axes>"
      ]
     },
     "metadata": {},
     "output_type": "display_data"
    }
   ],
   "source": [
    "\"\"\"\n",
    "相関行列から判断し、特徴(\"RM\", \"DIS\", \"LSTAT)とラベル列の3つの異なる散布図をプロットしてみる\n",
    "\"\"\"\n",
    "fig, (ax1, ax2, ax3) = plt.subplots(1, 3, figsize=(10,4))\n",
    "axs = [ax1,ax2,ax3]\n",
    "feature_list = [samples[:,5:6], samples[:,7:8], samples[:,12:13]]\n",
    "feature_names = [\"RM\", \"DIS\", \"LSTAT\"]\n",
    "for n in range(0, len(feature_list)):\n",
    "    axs[n].scatter(label, feature_list[n], edgecolors=(0, 0, 0))\n",
    "    axs[n].set_ylabel(feature_names[n])\n",
    "    axs[n].set_xlabel('label')\n",
    "\"\"\"\n",
    "結果、RMとラベルの値は、正の線形直線状のに散らばって、0.7という相関係数と合っている\n",
    "中央の散布図は相関係数が0.25のケースで明らかな関係はない\n",
    "右側の散布図は相関係数が-0.7のケースで強い線形関係\n",
    "\"\"\""
   ]
  },
  {
   "cell_type": "code",
   "execution_count": 45,
   "metadata": {},
   "outputs": [
    {
     "data": {
      "image/png": "[encoded data removed]",
      "text/plain": [
       "<Figure size 900x400 with 3 Axes>"
      ]
     },
     "metadata": {},
     "output_type": "display_data"
    }
   ],
   "source": [
    "\"\"\"\n",
    "上記の続き\n",
    "各特長とラベルのデータに両側から10%の刈り込みを実施\n",
    "\"\"\"\n",
    "fig, (ax1, ax2, ax3) = plt.subplots(1, 3, figsize=(9,4))\n",
    "axs = [ax1,ax2,ax3]\n",
    "RM_tr = stats.trimboth(samples[:,5:6], 0.1)\n",
    "DIS_tr = stats.trimboth(samples[:,7:8], 0.1)\n",
    "LSTAT_tr = stats.trimboth(samples[:,12:13], 0.1)\n",
    "label_tr = stats.trimboth(label, 0.1)\n",
    "feature_names = [\"RM\", \"DIS\", \"LSTAT\"]\n",
    "feature_list = [RM_tr, DIS_tr, LSTAT_tr]\n",
    "for n in range(0, len(feature_list)):\n",
    "    axs[n].scatter(label_tr, feature_list[n], edgecolors=(0,0,0))\n",
    "    axs[n].set_ylabel(feature_names[n])\n",
    "    axs[n].set_xlabel('label')\n",
    "    \n",
    "\"\"\"データを刈り込むと、3つの特徴のどれもラベルと強い正の線形相関を示すことがわかる‼\"\"\""
   ]
  },
  {
   "attachments": {},
   "cell_type": "markdown",
   "metadata": {},
   "source": [
    "#### 線形回帰を用いて住宅価格を予測"
   ]
  },
  {
   "cell_type": "code",
   "execution_count": 47,
   "metadata": {},
   "outputs": [
    {
     "data": {
      "text/html": [
       "<div>\n",
       "<style scoped>\n",
       "    .dataframe tbody tr th:only-of-type {\n",
       "        vertical-align: middle;\n",
       "    }\n",
       "\n",
       "    .dataframe tbody tr th {\n",
       "        vertical-align: top;\n",
       "    }\n",
       "\n",
       "    .dataframe thead th {\n",
       "        text-align: right;\n",
       "    }\n",
       "</style>\n",
       "<table border=\"1\" class=\"dataframe\">\n",
       "  <thead>\n",
       "    <tr style=\"text-align: right;\">\n",
       "      <th></th>\n",
       "      <th>CRIM</th>\n",
       "      <th>ZN</th>\n",
       "      <th>INDUS</th>\n",
       "      <th>CHAS</th>\n",
       "      <th>NOX</th>\n",
       "      <th>RM</th>\n",
       "      <th>AGE</th>\n",
       "      <th>DIS</th>\n",
       "      <th>RAD</th>\n",
       "      <th>TAX</th>\n",
       "      <th>PTRATIO</th>\n",
       "      <th>B</th>\n",
       "      <th>LSTAT</th>\n",
       "      <th>Target Price</th>\n",
       "    </tr>\n",
       "  </thead>\n",
       "  <tbody>\n",
       "    <tr>\n",
       "      <th>0</th>\n",
       "      <td>0.00632</td>\n",
       "      <td>18.0</td>\n",
       "      <td>2.31</td>\n",
       "      <td>0.0</td>\n",
       "      <td>0.538</td>\n",
       "      <td>6.575</td>\n",
       "      <td>65.2</td>\n",
       "      <td>4.0900</td>\n",
       "      <td>1.0</td>\n",
       "      <td>296.0</td>\n",
       "      <td>15.3</td>\n",
       "      <td>396.90</td>\n",
       "      <td>4.98</td>\n",
       "      <td>24.0</td>\n",
       "    </tr>\n",
       "    <tr>\n",
       "      <th>1</th>\n",
       "      <td>0.02731</td>\n",
       "      <td>0.0</td>\n",
       "      <td>7.07</td>\n",
       "      <td>0.0</td>\n",
       "      <td>0.469</td>\n",
       "      <td>6.421</td>\n",
       "      <td>78.9</td>\n",
       "      <td>4.9671</td>\n",
       "      <td>2.0</td>\n",
       "      <td>242.0</td>\n",
       "      <td>17.8</td>\n",
       "      <td>396.90</td>\n",
       "      <td>9.14</td>\n",
       "      <td>21.6</td>\n",
       "    </tr>\n",
       "    <tr>\n",
       "      <th>2</th>\n",
       "      <td>0.02729</td>\n",
       "      <td>0.0</td>\n",
       "      <td>7.07</td>\n",
       "      <td>0.0</td>\n",
       "      <td>0.469</td>\n",
       "      <td>7.185</td>\n",
       "      <td>61.1</td>\n",
       "      <td>4.9671</td>\n",
       "      <td>2.0</td>\n",
       "      <td>242.0</td>\n",
       "      <td>17.8</td>\n",
       "      <td>392.83</td>\n",
       "      <td>4.03</td>\n",
       "      <td>34.7</td>\n",
       "    </tr>\n",
       "    <tr>\n",
       "      <th>3</th>\n",
       "      <td>0.03237</td>\n",
       "      <td>0.0</td>\n",
       "      <td>2.18</td>\n",
       "      <td>0.0</td>\n",
       "      <td>0.458</td>\n",
       "      <td>6.998</td>\n",
       "      <td>45.8</td>\n",
       "      <td>6.0622</td>\n",
       "      <td>3.0</td>\n",
       "      <td>222.0</td>\n",
       "      <td>18.7</td>\n",
       "      <td>394.63</td>\n",
       "      <td>2.94</td>\n",
       "      <td>33.4</td>\n",
       "    </tr>\n",
       "    <tr>\n",
       "      <th>4</th>\n",
       "      <td>0.06905</td>\n",
       "      <td>0.0</td>\n",
       "      <td>2.18</td>\n",
       "      <td>0.0</td>\n",
       "      <td>0.458</td>\n",
       "      <td>7.147</td>\n",
       "      <td>54.2</td>\n",
       "      <td>6.0622</td>\n",
       "      <td>3.0</td>\n",
       "      <td>222.0</td>\n",
       "      <td>18.7</td>\n",
       "      <td>396.90</td>\n",
       "      <td>5.33</td>\n",
       "      <td>36.2</td>\n",
       "    </tr>\n",
       "  </tbody>\n",
       "</table>\n",
       "</div>"
      ],
      "text/plain": [
       "      CRIM    ZN  INDUS  CHAS    NOX     RM   AGE     DIS  RAD    TAX  \\\n",
       "0  0.00632  18.0   2.31   0.0  0.538  6.575  65.2  4.0900  1.0  296.0   \n",
       "1  0.02731   0.0   7.07   0.0  0.469  6.421  78.9  4.9671  2.0  242.0   \n",
       "2  0.02729   0.0   7.07   0.0  0.469  7.185  61.1  4.9671  2.0  242.0   \n",
       "3  0.03237   0.0   2.18   0.0  0.458  6.998  45.8  6.0622  3.0  222.0   \n",
       "4  0.06905   0.0   2.18   0.0  0.458  7.147  54.2  6.0622  3.0  222.0   \n",
       "\n",
       "   PTRATIO       B  LSTAT  Target Price  \n",
       "0     15.3  396.90   4.98          24.0  \n",
       "1     17.8  396.90   9.14          21.6  \n",
       "2     17.8  392.83   4.03          34.7  \n",
       "3     18.7  394.63   2.94          33.4  \n",
       "4     18.7  396.90   5.33          36.2  "
      ]
     },
     "execution_count": 47,
     "metadata": {},
     "output_type": "execute_result"
    }
   ],
   "source": [
    "import numpy as np\n",
    "import pandas as pd\n",
    "import matplotlib.pyplot as plt\n",
    "%matplotlib inline\n",
    "\n",
    "from sklearn.datasets import load_boston\n",
    "dataset = load_boston()\n",
    "samples, label, feature_names = dataset.data, dataset.target, dataset.feature_names\n",
    "\n",
    "bostondf = pd.DataFrame(dataset.data)\n",
    "bostondf.columns = dataset.feature_names\n",
    "bostondf['Target Price'] = dataset.target\n",
    "bostondf.head()"
   ]
  },
  {
   "cell_type": "code",
   "execution_count": 48,
   "metadata": {},
   "outputs": [
    {
     "data": {
      "image/png": "[encoded data removed]",
      "text/plain": [
       "<Figure size 640x480 with 1 Axes>"
      ]
     },
     "metadata": {},
     "output_type": "display_data"
    }
   ],
   "source": [
    "bostondf.plot(x='RM', y='Target Price', style='o')\n",
    "plt.title('RM vs Target Price')\n",
    "plt.ylabel('Target Price')\n",
    "plt.show()\n",
    "\"\"\"一軒当たりの部屋数(RM)と住宅価格には予想通り正の相関がある\"\"\""
   ]
  },
  {
   "cell_type": "code",
   "execution_count": null,
   "metadata": {},
   "outputs": [],
   "source": [
    "\"\"\"予測値を返す関数\"\"\"\n",
    "def prediction(X, coefficient,  intercept):\n",
    "    return X*coefficient + intercept"
   ]
  },
  {
   "cell_type": "code",
   "execution_count": 52,
   "metadata": {},
   "outputs": [],
   "source": [
    "\"\"\"損失関数:平均2乗誤差を使い、反復のたびに計算される\"\"\"\n",
    "def cost_function(X, Y, coefficient, intercept):\n",
    "    MSE = 0.0\n",
    "    for i in range(len(X)):\n",
    "        MSE += (Y[i] - (coefficient*X[i] + intercept))**2\n",
    "    return MSE / len(X)"
   ]
  },
  {
   "cell_type": "code",
   "execution_count": 53,
   "metadata": {},
   "outputs": [],
   "source": [
    "\"\"\"重み(係数と切片)の更新\"\"\"\n",
    "def update_weights(X, Y, coefficient, intercept, learning_rate):\n",
    "    coefficient_derivative = 0\n",
    "    intercept_derivative = 0\n",
    "    for i in range(len(X)):\n",
    "        coefficient_derivative += -2*X[i] * (Y[i] - (coefficient*X[i] + intercept))\n",
    "        intercept_derivative += -2*(Y[i] - (coefficient*X[i] + intercept))\n",
    "    coefficient -= (coefficient_derivative / len(X)) * learning_rate\n",
    "    intercept -= (intercept_derivative / len(X)) * learning_rate\n",
    "    return coefficient, intercept"
   ]
  },
  {
   "cell_type": "code",
   "execution_count": 54,
   "metadata": {},
   "outputs": [],
   "source": [
    "\"\"\"メイン関数\"\"\"\n",
    "def train(X, Y, cofficient, intercept, learning_rate, interation):\n",
    "    cost_hist = []\n",
    "    for i in range(interation):\n",
    "        cofficient, intercept = update_weights(X, Y, cofficient, intercept, learning_rate)\n",
    "        cost = cost_function(X, Y, cofficient, intercept)\n",
    "        cost_hist.append(cost)\n",
    "    return cofficient, intercept, cost_hist"
   ]
  },
  {
   "cell_type": "code",
   "execution_count": 55,
   "metadata": {},
   "outputs": [],
   "source": [
    "\"\"\"ハイパラと係数、切片の初期値を設定しtrain()関数を実行\"\"\"\n",
    "learning_rate = 0.01\n",
    "iteration = 10001\n",
    "coefficient = 0.3\n",
    "intercept = 2\n",
    "X = bostondf.iloc[:, 5:6].values\n",
    "Y = bostondf.iloc[:, 13:14].values\n",
    "\n",
    "coefficient, intercept, cost_history = train(X, Y, coefficient, intercept, learning_rate, iteration)"
   ]
  },
  {
   "cell_type": "code",
   "execution_count": 56,
   "metadata": {},
   "outputs": [
    {
     "data": {
      "text/plain": [
       "array([8.57526661])"
      ]
     },
     "execution_count": 56,
     "metadata": {},
     "output_type": "execute_result"
    }
   ],
   "source": [
    "coefficient"
   ]
  },
  {
   "cell_type": "code",
   "execution_count": 57,
   "metadata": {},
   "outputs": [
    {
     "data": {
      "text/plain": [
       "array([-31.31931428])"
      ]
     },
     "execution_count": 57,
     "metadata": {},
     "output_type": "execute_result"
    }
   ],
   "source": [
    "intercept"
   ]
  },
  {
   "cell_type": "code",
   "execution_count": 58,
   "metadata": {},
   "outputs": [
    {
     "data": {
      "text/plain": [
       "[array([72.59720667]),\n",
       " array([60.96727513]),\n",
       " array([60.58066489]),\n",
       " array([60.56018189]),\n",
       " array([60.55162513]),\n",
       " array([60.54346052]),\n",
       " array([60.53531248]),\n",
       " array([60.52716876]),\n",
       " array([60.51902898]),\n",
       " array([60.51089311]),\n",
       " array([60.50276115]),\n",
       " array([60.4946331]),\n",
       " array([60.48650896]),\n",
       " array([60.47838873]),\n",
       " array([60.4702724]),\n",
       " array([60.46215998]),\n",
       " array([60.45405145]),\n",
       " array([60.44594683]),\n",
       " array([60.4378461]),\n",
       " array([60.42974927]),\n",
       " array([60.42165633]),\n",
       " array([60.41356729]),\n",
       " array([60.40548213]),\n",
       " array([60.39740087]),\n",
       " array([60.38932348]),\n",
       " array([60.38124999]),\n",
       " array([60.37318037]),\n",
       " array([60.36511464]),\n",
       " array([60.35705278]),\n",
       " array([60.34899481]),\n",
       " array([60.3409407]),\n",
       " array([60.33289047]),\n",
       " array([60.32484411]),\n",
       " array([60.31680162]),\n",
       " array([60.308763]),\n",
       " array([60.30072824]),\n",
       " array([60.29269735]),\n",
       " array([60.28467032]),\n",
       " array([60.27664715]),\n",
       " array([60.26862784]),\n",
       " array([60.26061238]),\n",
       " array([60.25260078]),\n",
       " array([60.24459303]),\n",
       " array([60.23658913]),\n",
       " array([60.22858908]),\n",
       " array([60.22059288]),\n",
       " array([60.21260052]),\n",
       " array([60.20461201]),\n",
       " array([60.19662734]),\n",
       " array([60.18864651]),\n",
       " array([60.18066951]),\n",
       " array([60.17269636]),\n",
       " array([60.16472703]),\n",
       " array([60.15676154]),\n",
       " array([60.14879988]),\n",
       " array([60.14084205]),\n",
       " array([60.13288804]),\n",
       " array([60.12493786]),\n",
       " array([60.1169915]),\n",
       " array([60.10904897]),\n",
       " array([60.10111025]),\n",
       " array([60.09317535]),\n",
       " array([60.08524427]),\n",
       " array([60.077317]),\n",
       " array([60.06939354]),\n",
       " array([60.06147389]),\n",
       " array([60.05355805]),\n",
       " array([60.04564602]),\n",
       " array([60.0377378]),\n",
       " array([60.02983337]),\n",
       " array([60.02193275]),\n",
       " array([60.01403593]),\n",
       " array([60.0061429]),\n",
       " array([59.99825367]),\n",
       " array([59.99036823]),\n",
       " array([59.98248659]),\n",
       " array([59.97460873]),\n",
       " array([59.96673467]),\n",
       " array([59.95886439]),\n",
       " array([59.95099789]),\n",
       " array([59.94313518]),\n",
       " array([59.93527625]),\n",
       " array([59.9274211]),\n",
       " array([59.91956972]),\n",
       " array([59.91172212]),\n",
       " array([59.9038783]),\n",
       " array([59.89603825]),\n",
       " array([59.88820196]),\n",
       " array([59.88036945]),\n",
       " array([59.8725407]),\n",
       " array([59.86471572]),\n",
       " array([59.8568945]),\n",
       " array([59.84907704]),\n",
       " array([59.84126334]),\n",
       " array([59.8334534]),\n",
       " array([59.82564721]),\n",
       " array([59.81784478]),\n",
       " array([59.8100461]),\n",
       " array([59.80225117]),\n",
       " array([59.79445999]),\n",
       " array([59.78667255]),\n",
       " array([59.77888886]),\n",
       " array([59.77110891]),\n",
       " array([59.76333271]),\n",
       " array([59.75556024]),\n",
       " array([59.74779151]),\n",
       " array([59.74002652]),\n",
       " array([59.73226526]),\n",
       " array([59.72450773]),\n",
       " array([59.71675394]),\n",
       " array([59.70900387]),\n",
       " array([59.70125753]),\n",
       " array([59.69351491]),\n",
       " array([59.68577602]),\n",
       " array([59.67804085]),\n",
       " array([59.6703094]),\n",
       " array([59.66258167]),\n",
       " array([59.65485765]),\n",
       " array([59.64713735]),\n",
       " array([59.63942076]),\n",
       " array([59.63170788]),\n",
       " array([59.62399871]),\n",
       " array([59.61629325]),\n",
       " array([59.60859149]),\n",
       " array([59.60089344]),\n",
       " array([59.59319909]),\n",
       " array([59.58550844]),\n",
       " array([59.57782148]),\n",
       " array([59.57013823]),\n",
       " array([59.56245866]),\n",
       " array([59.5547828]),\n",
       " array([59.54711062]),\n",
       " array([59.53944213]),\n",
       " array([59.53177733]),\n",
       " array([59.52411622]),\n",
       " array([59.51645879]),\n",
       " array([59.50880504]),\n",
       " array([59.50115497]),\n",
       " array([59.49350858]),\n",
       " array([59.48586587]),\n",
       " array([59.47822683]),\n",
       " array([59.47059147]),\n",
       " array([59.46295978]),\n",
       " array([59.45533176]),\n",
       " array([59.44770741]),\n",
       " array([59.44008672]),\n",
       " array([59.4324697]),\n",
       " array([59.42485634]),\n",
       " array([59.41724664]),\n",
       " array([59.4096406]),\n",
       " array([59.40203822]),\n",
       " array([59.3944395]),\n",
       " array([59.38684443]),\n",
       " array([59.37925301]),\n",
       " array([59.37166524]),\n",
       " array([59.36408112]),\n",
       " array([59.35650065]),\n",
       " array([59.34892383]),\n",
       " array([59.34135064]),\n",
       " array([59.3337811]),\n",
       " array([59.3262152]),\n",
       " array([59.31865294]),\n",
       " array([59.31109431]),\n",
       " array([59.30353932]),\n",
       " array([59.29598796]),\n",
       " array([59.28844024]),\n",
       " array([59.28089614]),\n",
       " array([59.27335567]),\n",
       " array([59.26581883]),\n",
       " array([59.25828561]),\n",
       " array([59.25075601]),\n",
       " array([59.24323004]),\n",
       " array([59.23570768]),\n",
       " array([59.22818894]),\n",
       " array([59.22067382]),\n",
       " array([59.21316231]),\n",
       " array([59.20565442]),\n",
       " array([59.19815013]),\n",
       " array([59.19064945]),\n",
       " array([59.18315238]),\n",
       " array([59.17565892]),\n",
       " array([59.16816905]),\n",
       " array([59.16068279]),\n",
       " array([59.15320013]),\n",
       " array([59.14572107]),\n",
       " array([59.13824561]),\n",
       " array([59.13077374]),\n",
       " array([59.12330546]),\n",
       " array([59.11584077]),\n",
       " array([59.10837968]),\n",
       " array([59.10092217]),\n",
       " array([59.09346825]),\n",
       " array([59.08601791]),\n",
       " array([59.07857115]),\n",
       " array([59.07112798]),\n",
       " array([59.06368839]),\n",
       " array([59.05625237]),\n",
       " array([59.04881993]),\n",
       " array([59.04139106]),\n",
       " array([59.03396577]),\n",
       " array([59.02654404]),\n",
       " array([59.01912589]),\n",
       " array([59.0117113]),\n",
       " array([59.00430028]),\n",
       " array([58.99689282]),\n",
       " array([58.98948893]),\n",
       " array([58.98208859]),\n",
       " array([58.97469182]),\n",
       " array([58.9672986]),\n",
       " array([58.95990893]),\n",
       " array([58.95252282]),\n",
       " array([58.94514026]),\n",
       " array([58.93776125]),\n",
       " array([58.93038579]),\n",
       " array([58.92301388]),\n",
       " array([58.91564551]),\n",
       " array([58.90828069]),\n",
       " array([58.90091941]),\n",
       " array([58.89356166]),\n",
       " array([58.88620746]),\n",
       " array([58.87885679]),\n",
       " array([58.87150965]),\n",
       " array([58.86416605]),\n",
       " array([58.85682598]),\n",
       " array([58.84948945]),\n",
       " array([58.84215643]),\n",
       " array([58.83482695]),\n",
       " array([58.82750099]),\n",
       " array([58.82017855]),\n",
       " array([58.81285964]),\n",
       " array([58.80554424]),\n",
       " array([58.79823236]),\n",
       " array([58.790924]),\n",
       " array([58.78361915]),\n",
       " array([58.77631781]),\n",
       " array([58.76901999]),\n",
       " array([58.76172568]),\n",
       " array([58.75443487]),\n",
       " array([58.74714757]),\n",
       " array([58.73986377]),\n",
       " array([58.73258348]),\n",
       " array([58.72530669]),\n",
       " array([58.71803339]),\n",
       " array([58.7107636]),\n",
       " array([58.7034973]),\n",
       " array([58.69623449]),\n",
       " array([58.68897518]),\n",
       " array([58.68171936]),\n",
       " array([58.67446702]),\n",
       " array([58.66721818]),\n",
       " array([58.65997282]),\n",
       " array([58.65273094]),\n",
       " array([58.64549255]),\n",
       " array([58.63825764]),\n",
       " array([58.6310262]),\n",
       " array([58.62379825]),\n",
       " array([58.61657377]),\n",
       " array([58.60935276]),\n",
       " array([58.60213523]),\n",
       " array([58.59492117]),\n",
       " array([58.58771058]),\n",
       " array([58.58050345]),\n",
       " array([58.57329979]),\n",
       " array([58.5660996]),\n",
       " array([58.55890286]),\n",
       " array([58.55170959]),\n",
       " array([58.54451978]),\n",
       " array([58.53733342]),\n",
       " array([58.53015052]),\n",
       " array([58.52297108]),\n",
       " array([58.51579509]),\n",
       " array([58.50862254]),\n",
       " array([58.50145345]),\n",
       " array([58.4942878]),\n",
       " array([58.48712561]),\n",
       " array([58.47996685]),\n",
       " array([58.47281154]),\n",
       " array([58.46565967]),\n",
       " array([58.45851123]),\n",
       " array([58.45136624]),\n",
       " array([58.44422468]),\n",
       " array([58.43708655]),\n",
       " array([58.42995186]),\n",
       " array([58.4228206]),\n",
       " array([58.41569277]),\n",
       " array([58.40856836]),\n",
       " array([58.40144739]),\n",
       " array([58.39432983]),\n",
       " array([58.3872157]),\n",
       " array([58.38010499]),\n",
       " array([58.3729977]),\n",
       " array([58.36589383]),\n",
       " array([58.35879337]),\n",
       " array([58.35169633]),\n",
       " array([58.3446027]),\n",
       " array([58.33751248]),\n",
       " array([58.33042567]),\n",
       " array([58.32334227]),\n",
       " array([58.31626228]),\n",
       " array([58.30918569]),\n",
       " array([58.3021125]),\n",
       " array([58.29504272]),\n",
       " array([58.28797633]),\n",
       " array([58.28091334]),\n",
       " array([58.27385375]),\n",
       " array([58.26679756]),\n",
       " array([58.25974476]),\n",
       " array([58.25269534]),\n",
       " array([58.24564932]),\n",
       " array([58.23860669]),\n",
       " array([58.23156745]),\n",
       " array([58.22453158]),\n",
       " array([58.21749911]),\n",
       " array([58.21047001]),\n",
       " array([58.2034443]),\n",
       " array([58.19642196]),\n",
       " array([58.189403]),\n",
       " array([58.18238741]),\n",
       " array([58.1753752]),\n",
       " array([58.16836637]),\n",
       " array([58.1613609]),\n",
       " array([58.1543588]),\n",
       " array([58.14736007]),\n",
       " array([58.1403647]),\n",
       " array([58.1333727]),\n",
       " array([58.12638406]),\n",
       " array([58.11939878]),\n",
       " array([58.11241686]),\n",
       " array([58.10543829]),\n",
       " array([58.09846309]),\n",
       " array([58.09149123]),\n",
       " array([58.08452273]),\n",
       " array([58.07755758]),\n",
       " array([58.07059578]),\n",
       " array([58.06363733]),\n",
       " array([58.05668223]),\n",
       " array([58.04973047]),\n",
       " array([58.04278205]),\n",
       " array([58.03583697]),\n",
       " array([58.02889524]),\n",
       " array([58.02195684]),\n",
       " array([58.01502177]),\n",
       " array([58.00809005]),\n",
       " array([58.00116165]),\n",
       " array([57.99423659]),\n",
       " array([57.98731486]),\n",
       " array([57.98039646]),\n",
       " array([57.97348138]),\n",
       " array([57.96656963]),\n",
       " array([57.9596612]),\n",
       " array([57.9527561]),\n",
       " array([57.94585432]),\n",
       " array([57.93895585]),\n",
       " array([57.9320607]),\n",
       " array([57.92516887]),\n",
       " array([57.91828035]),\n",
       " array([57.91139515]),\n",
       " array([57.90451325]),\n",
       " array([57.89763467]),\n",
       " array([57.89075939]),\n",
       " array([57.88388742]),\n",
       " array([57.87701875]),\n",
       " array([57.87015339]),\n",
       " array([57.86329133]),\n",
       " array([57.85643257]),\n",
       " array([57.8495771]),\n",
       " array([57.84272494]),\n",
       " array([57.83587607]),\n",
       " array([57.82903049]),\n",
       " array([57.8221882]),\n",
       " array([57.81534921]),\n",
       " array([57.8085135]),\n",
       " array([57.80168108]),\n",
       " array([57.79485194]),\n",
       " array([57.78802609]),\n",
       " array([57.78120353]),\n",
       " array([57.77438424]),\n",
       " array([57.76756823]),\n",
       " array([57.7607555]),\n",
       " array([57.75394605]),\n",
       " array([57.74713987]),\n",
       " array([57.74033696]),\n",
       " array([57.73353733]),\n",
       " array([57.72674096]),\n",
       " array([57.71994787]),\n",
       " array([57.71315804]),\n",
       " array([57.70637147]),\n",
       " array([57.69958817]),\n",
       " array([57.69280813]),\n",
       " array([57.68603135]),\n",
       " array([57.67925783]),\n",
       " array([57.67248757]),\n",
       " array([57.66572057]),\n",
       " array([57.65895681]),\n",
       " array([57.65219631]),\n",
       " array([57.64543906]),\n",
       " array([57.63868506]),\n",
       " array([57.63193431]),\n",
       " array([57.62518681]),\n",
       " array([57.61844255]),\n",
       " array([57.61170153]),\n",
       " array([57.60496375]),\n",
       " array([57.59822922]),\n",
       " array([57.59149792]),\n",
       " array([57.58476986]),\n",
       " array([57.57804504]),\n",
       " array([57.57132345]),\n",
       " array([57.56460509]),\n",
       " array([57.55788996]),\n",
       " array([57.55117806]),\n",
       " array([57.54446939]),\n",
       " array([57.53776395]),\n",
       " array([57.53106173]),\n",
       " array([57.52436273]),\n",
       " array([57.51766696]),\n",
       " array([57.5109744]),\n",
       " array([57.50428506]),\n",
       " array([57.49759894]),\n",
       " array([57.49091604]),\n",
       " array([57.48423635]),\n",
       " array([57.47755987]),\n",
       " array([57.4708866]),\n",
       " array([57.46421654]),\n",
       " array([57.45754969]),\n",
       " array([57.45088604]),\n",
       " array([57.4442256]),\n",
       " array([57.43756836]),\n",
       " array([57.43091432]),\n",
       " array([57.42426349]),\n",
       " array([57.41761585]),\n",
       " array([57.4109714]),\n",
       " array([57.40433016]),\n",
       " array([57.3976921]),\n",
       " array([57.39105724]),\n",
       " array([57.38442557]),\n",
       " array([57.37779709]),\n",
       " array([57.3711718]),\n",
       " array([57.36454969]),\n",
       " array([57.35793076]),\n",
       " array([57.35131502]),\n",
       " array([57.34470246]),\n",
       " array([57.33809308]),\n",
       " array([57.33148688]),\n",
       " array([57.32488386]),\n",
       " array([57.31828401]),\n",
       " array([57.31168734]),\n",
       " array([57.30509383]),\n",
       " array([57.2985035]),\n",
       " array([57.29191634]),\n",
       " array([57.28533234]),\n",
       " array([57.27875151]),\n",
       " array([57.27217385]),\n",
       " array([57.26559935]),\n",
       " array([57.25902801]),\n",
       " array([57.25245983]),\n",
       " array([57.24589481]),\n",
       " array([57.23933294]),\n",
       " array([57.23277424]),\n",
       " array([57.22621868]),\n",
       " array([57.21966628]),\n",
       " array([57.21311703]),\n",
       " array([57.20657093]),\n",
       " array([57.20002797]),\n",
       " array([57.19348817]),\n",
       " array([57.1869515]),\n",
       " array([57.18041798]),\n",
       " array([57.17388761]),\n",
       " array([57.16736037]),\n",
       " array([57.16083627]),\n",
       " array([57.15431531]),\n",
       " array([57.14779749]),\n",
       " array([57.1412828]),\n",
       " array([57.13477124]),\n",
       " array([57.12826281]),\n",
       " array([57.12175752]),\n",
       " array([57.11525535]),\n",
       " array([57.10875631]),\n",
       " array([57.10226039]),\n",
       " array([57.0957676]),\n",
       " array([57.08927793]),\n",
       " array([57.08279138]),\n",
       " array([57.07630795]),\n",
       " array([57.06982764]),\n",
       " array([57.06335044]),\n",
       " array([57.05687636]),\n",
       " array([57.0504054]),\n",
       " array([57.04393754]),\n",
       " array([57.0374728]),\n",
       " array([57.03101116]),\n",
       " array([57.02455263]),\n",
       " array([57.01809721]),\n",
       " array([57.01164489]),\n",
       " array([57.00519567]),\n",
       " array([56.99874956]),\n",
       " array([56.99230654]),\n",
       " array([56.98586662]),\n",
       " array([56.9794298]),\n",
       " array([56.97299608]),\n",
       " array([56.96656545]),\n",
       " array([56.96013791]),\n",
       " array([56.95371346]),\n",
       " array([56.94729211]),\n",
       " array([56.94087384]),\n",
       " array([56.93445865]),\n",
       " array([56.92804655]),\n",
       " array([56.92163754]),\n",
       " array([56.91523161]),\n",
       " array([56.90882875]),\n",
       " array([56.90242898]),\n",
       " array([56.89603228]),\n",
       " array([56.88963866]),\n",
       " array([56.88324812]),\n",
       " array([56.87686065]),\n",
       " array([56.87047625]),\n",
       " array([56.86409492]),\n",
       " array([56.85771665]),\n",
       " array([56.85134146]),\n",
       " array([56.84496933]),\n",
       " array([56.83860027]),\n",
       " array([56.83223427]),\n",
       " array([56.82587133]),\n",
       " array([56.81951145]),\n",
       " array([56.81315462]),\n",
       " array([56.80680086]),\n",
       " array([56.80045015]),\n",
       " array([56.79410249]),\n",
       " array([56.78775789]),\n",
       " array([56.78141634]),\n",
       " array([56.77507784]),\n",
       " array([56.76874238]),\n",
       " array([56.76240997]),\n",
       " array([56.75608061]),\n",
       " array([56.74975429]),\n",
       " array([56.74343102]),\n",
       " array([56.73711078]),\n",
       " array([56.73079358]),\n",
       " array([56.72447943]),\n",
       " array([56.7181683]),\n",
       " array([56.71186022]),\n",
       " array([56.70555516]),\n",
       " array([56.69925314]),\n",
       " array([56.69295415]),\n",
       " array([56.68665819]),\n",
       " array([56.68036525]),\n",
       " array([56.67407534]),\n",
       " array([56.66778846]),\n",
       " array([56.6615046]),\n",
       " array([56.65522376]),\n",
       " array([56.64894594]),\n",
       " array([56.64267114]),\n",
       " array([56.63639936]),\n",
       " array([56.6301306]),\n",
       " array([56.62386484]),\n",
       " array([56.61760211]),\n",
       " array([56.61134238]),\n",
       " array([56.60508566]),\n",
       " array([56.59883196]),\n",
       " array([56.59258126]),\n",
       " array([56.58633356]),\n",
       " array([56.58008887]),\n",
       " array([56.57384719]),\n",
       " array([56.5676085]),\n",
       " array([56.56137282]),\n",
       " array([56.55514013]),\n",
       " array([56.54891044]),\n",
       " array([56.54268375]),\n",
       " array([56.53646005]),\n",
       " array([56.53023934]),\n",
       " array([56.52402163]),\n",
       " array([56.5178069]),\n",
       " array([56.51159517]),\n",
       " array([56.50538642]),\n",
       " array([56.49918065]),\n",
       " array([56.49297787]),\n",
       " array([56.48677808]),\n",
       " array([56.48058126]),\n",
       " array([56.47438743]),\n",
       " array([56.46819657]),\n",
       " array([56.46200869]),\n",
       " array([56.45582379]),\n",
       " array([56.44964186]),\n",
       " array([56.4434629]),\n",
       " array([56.43728692]),\n",
       " array([56.4311139]),\n",
       " array([56.42494386]),\n",
       " array([56.41877678]),\n",
       " array([56.41261266]),\n",
       " array([56.40645151]),\n",
       " array([56.40029333]),\n",
       " array([56.3941381]),\n",
       " array([56.38798583]),\n",
       " array([56.38183653]),\n",
       " array([56.37569018]),\n",
       " array([56.36954678]),\n",
       " array([56.36340634]),\n",
       " array([56.35726886]),\n",
       " array([56.35113432]),\n",
       " array([56.34500274]),\n",
       " array([56.3388741]),\n",
       " array([56.33274841]),\n",
       " array([56.32662567]),\n",
       " array([56.32050587]),\n",
       " array([56.31438901]),\n",
       " array([56.30827509]),\n",
       " array([56.30216412]),\n",
       " array([56.29605608]),\n",
       " array([56.28995098]),\n",
       " array([56.28384882]),\n",
       " array([56.27774959]),\n",
       " array([56.27165329]),\n",
       " array([56.26555993]),\n",
       " array([56.2594695]),\n",
       " array([56.25338199]),\n",
       " array([56.24729741]),\n",
       " array([56.24121576]),\n",
       " array([56.23513703]),\n",
       " array([56.22906123]),\n",
       " array([56.22298835]),\n",
       " array([56.21691839]),\n",
       " array([56.21085134]),\n",
       " array([56.20478722]),\n",
       " array([56.19872601]),\n",
       " array([56.19266771]),\n",
       " array([56.18661233]),\n",
       " array([56.18055986]),\n",
       " array([56.17451031]),\n",
       " array([56.16846366]),\n",
       " array([56.16241991]),\n",
       " array([56.15637908]),\n",
       " array([56.15034115]),\n",
       " array([56.14430612]),\n",
       " array([56.138274]),\n",
       " array([56.13224477]),\n",
       " array([56.12621845]),\n",
       " array([56.12019502]),\n",
       " array([56.11417449]),\n",
       " array([56.10815686]),\n",
       " array([56.10214212]),\n",
       " array([56.09613027]),\n",
       " array([56.09012131]),\n",
       " array([56.08411524]),\n",
       " array([56.07811206]),\n",
       " array([56.07211177]),\n",
       " array([56.06611436]),\n",
       " array([56.06011984]),\n",
       " array([56.0541282]),\n",
       " array([56.04813944]),\n",
       " array([56.04215356]),\n",
       " array([56.03617056]),\n",
       " array([56.03019044]),\n",
       " array([56.02421319]),\n",
       " array([56.01823881]),\n",
       " array([56.01226731]),\n",
       " array([56.00629869]),\n",
       " array([56.00033293]),\n",
       " array([55.99437004]),\n",
       " array([55.98841001]),\n",
       " array([55.98245286]),\n",
       " array([55.97649857]),\n",
       " array([55.97054714]),\n",
       " array([55.96459857]),\n",
       " array([55.95865287]),\n",
       " array([55.95271002]),\n",
       " array([55.94677003]),\n",
       " array([55.9408329]),\n",
       " array([55.93489862]),\n",
       " array([55.9289672]),\n",
       " array([55.92303863]),\n",
       " array([55.91711291]),\n",
       " array([55.91119004]),\n",
       " array([55.90527002]),\n",
       " array([55.89935284]),\n",
       " array([55.89343851]),\n",
       " array([55.88752702]),\n",
       " array([55.88161838]),\n",
       " array([55.87571258]),\n",
       " array([55.86980962]),\n",
       " array([55.8639095]),\n",
       " array([55.85801221]),\n",
       " array([55.85211776]),\n",
       " array([55.84622614]),\n",
       " array([55.84033736]),\n",
       " array([55.83445141]),\n",
       " array([55.82856829]),\n",
       " array([55.822688]),\n",
       " array([55.81681054]),\n",
       " array([55.8109359]),\n",
       " array([55.80506409]),\n",
       " array([55.7991951]),\n",
       " array([55.79332894]),\n",
       " array([55.78746559]),\n",
       " array([55.78160507]),\n",
       " array([55.77574736]),\n",
       " array([55.76989247]),\n",
       " array([55.7640404]),\n",
       " array([55.75819114]),\n",
       " array([55.75234469]),\n",
       " array([55.74650106]),\n",
       " array([55.74066023]),\n",
       " array([55.73482221]),\n",
       " array([55.72898701]),\n",
       " array([55.7231546]),\n",
       " array([55.717325]),\n",
       " array([55.71149821]),\n",
       " array([55.70567422]),\n",
       " array([55.69985302]),\n",
       " array([55.69403463]),\n",
       " array([55.68821904]),\n",
       " array([55.68240624]),\n",
       " array([55.67659623]),\n",
       " array([55.67078902]),\n",
       " array([55.66498461]),\n",
       " array([55.65918298]),\n",
       " array([55.65338415]),\n",
       " array([55.6475881]),\n",
       " array([55.64179484]),\n",
       " array([55.63600437]),\n",
       " array([55.63021668]),\n",
       " array([55.62443177]),\n",
       " array([55.61864965]),\n",
       " array([55.6128703]),\n",
       " array([55.60709374]),\n",
       " array([55.60131995]),\n",
       " array([55.59554894]),\n",
       " array([55.58978071]),\n",
       " array([55.58401525]),\n",
       " array([55.57825256]),\n",
       " array([55.57249264]),\n",
       " array([55.5667355]),\n",
       " array([55.56098112]),\n",
       " array([55.55522951]),\n",
       " array([55.54948066]),\n",
       " array([55.54373458]),\n",
       " array([55.53799126]),\n",
       " array([55.53225071]),\n",
       " array([55.52651291]),\n",
       " array([55.52077788]),\n",
       " array([55.5150456]),\n",
       " array([55.50931608]),\n",
       " array([55.50358931]),\n",
       " array([55.4978653]),\n",
       " array([55.49214404]),\n",
       " array([55.48642553]),\n",
       " array([55.48070977]),\n",
       " array([55.47499676]),\n",
       " array([55.4692865]),\n",
       " array([55.46357898]),\n",
       " array([55.45787421]),\n",
       " array([55.45217218]),\n",
       " array([55.44647289]),\n",
       " array([55.44077635]),\n",
       " array([55.43508254]),\n",
       " array([55.42939147]),\n",
       " array([55.42370314]),\n",
       " array([55.41801754]),\n",
       " array([55.41233468]),\n",
       " array([55.40665455]),\n",
       " array([55.40097715]),\n",
       " array([55.39530249]),\n",
       " array([55.38963055]),\n",
       " array([55.38396134]),\n",
       " array([55.37829485]),\n",
       " array([55.37263109]),\n",
       " array([55.36697006]),\n",
       " array([55.36131174]),\n",
       " array([55.35565615]),\n",
       " array([55.35000328]),\n",
       " array([55.34435312]),\n",
       " array([55.33870568]),\n",
       " array([55.33306096]),\n",
       " array([55.32741895]),\n",
       " array([55.32177966]),\n",
       " array([55.31614308]),\n",
       " array([55.3105092]),\n",
       " array([55.30487804]),\n",
       " array([55.29924959]),\n",
       " array([55.29362384]),\n",
       " array([55.2880008]),\n",
       " array([55.28238046]),\n",
       " array([55.27676282]),\n",
       " array([55.27114789]),\n",
       " array([55.26553565]),\n",
       " array([55.25992612]),\n",
       " array([55.25431928]),\n",
       " array([55.24871514]),\n",
       " array([55.24311369]),\n",
       " array([55.23751494]),\n",
       " array([55.23191887]),\n",
       " array([55.22632551]),\n",
       " array([55.22073483]),\n",
       " array([55.21514683]),\n",
       " array([55.20956153]),\n",
       " array([55.20397891]),\n",
       " array([55.19839898]),\n",
       " array([55.19282173]),\n",
       " array([55.18724716]),\n",
       " array([55.18167527]),\n",
       " array([55.17610606]),\n",
       " array([55.17053953]),\n",
       " array([55.16497568]),\n",
       " array([55.1594145]),\n",
       " array([55.153856]),\n",
       " array([55.14830017]),\n",
       " array([55.14274701]),\n",
       " array([55.13719652]),\n",
       " array([55.1316487]),\n",
       " array([55.12610355]),\n",
       " array([55.12056107]),\n",
       " array([55.11502125]),\n",
       " array([55.10948409]),\n",
       " array([55.1039496]),\n",
       " array([55.09841777]),\n",
       " array([55.0928886]),\n",
       " array([55.08736209]),\n",
       " array([55.08183823]),\n",
       " array([55.07631703]),\n",
       " array([55.07079849]),\n",
       " array([55.0652826]),\n",
       " array([55.05976936]),\n",
       " array([55.05425878]),\n",
       " array([55.04875084]),\n",
       " array([55.04324556]),\n",
       " array([55.03774292]),\n",
       " array([55.03224292]),\n",
       " array([55.02674558]),\n",
       " array([55.02125087]),\n",
       " array([55.01575881]),\n",
       " array([55.01026939]),\n",
       " array([55.00478261]),\n",
       " array([54.99929846]),\n",
       " array([54.99381696]),\n",
       " array([54.98833809]),\n",
       " array([54.98286185]),\n",
       " array([54.97738825]),\n",
       " array([54.97191728]),\n",
       " array([54.96644894]),\n",
       " array([54.96098324]),\n",
       " array([54.95552016]),\n",
       " array([54.9500597]),\n",
       " array([54.94460187]),\n",
       " array([54.93914667]),\n",
       " array([54.93369409]),\n",
       " array([54.92824413]),\n",
       " array([54.9227968]),\n",
       " array([54.91735208]),\n",
       " array([54.91190998]),\n",
       " array([54.9064705]),\n",
       " array([54.90103363]),\n",
       " array([54.89559938]),\n",
       " array([54.89016774]),\n",
       " array([54.88473872]),\n",
       " array([54.8793123]),\n",
       " array([54.8738885]),\n",
       " array([54.8684673]),\n",
       " array([54.86304871]),\n",
       " array([54.85763272]),\n",
       " array([54.85221934]),\n",
       " array([54.84680857]),\n",
       " array([54.84140039]),\n",
       " array([54.83599482]),\n",
       " array([54.83059184]),\n",
       " array([54.82519146]),\n",
       " array([54.81979368]),\n",
       " array([54.8143985]),\n",
       " array([54.80900591]),\n",
       " array([54.80361591]),\n",
       " array([54.79822851]),\n",
       " array([54.7928437]),\n",
       " array([54.78746147]),\n",
       " array([54.78208184]),\n",
       " array([54.77670479]),\n",
       " array([54.77133032]),\n",
       " array([54.76595844]),\n",
       " array([54.76058915]),\n",
       " array([54.75522243]),\n",
       " array([54.7498583]),\n",
       " array([54.74449675]),\n",
       " array([54.73913777]),\n",
       " array([54.73378138]),\n",
       " array([54.72842755]),\n",
       " array([54.72307631]),\n",
       " array([54.71772763]),\n",
       " array([54.71238153]),\n",
       " array([54.707038]),\n",
       " array([54.70169704]),\n",
       " array([54.69635864]),\n",
       " array([54.69102282]),\n",
       " array([54.68568956]),\n",
       " array([54.68035886]),\n",
       " array([54.67503073]),\n",
       " array([54.66970516]),\n",
       " array([54.66438215]),\n",
       " array([54.6590617]),\n",
       " array([54.65374381]),\n",
       " array([54.64842848]),\n",
       " array([54.6431157]),\n",
       " array([54.63780548]),\n",
       " array([54.63249781]),\n",
       " array([54.6271927]),\n",
       " array([54.62189013]),\n",
       " array([54.61659012]),\n",
       " array([54.61129265]),\n",
       " array([54.60599773]),\n",
       " array([54.60070536]),\n",
       " array([54.59541553]),\n",
       " array([54.59012825]),\n",
       " array([54.58484351]),\n",
       " array([54.57956131]),\n",
       " array([54.57428165]),\n",
       " array([54.56900453]),\n",
       " array([54.56372994]),\n",
       " array([54.5584579]),\n",
       " array([54.55318839]),\n",
       " array([54.54792141]),\n",
       " array([54.54265696]),\n",
       " array([54.53739505]),\n",
       " array([54.53213567]),\n",
       " array([54.52687882]),\n",
       " array([54.52162449]),\n",
       " array([54.51637269]),\n",
       " array([54.51112342]),\n",
       " array([54.50587667]),\n",
       " array([54.50063244]),\n",
       " array([54.49539074]),\n",
       " array([54.49015156]),\n",
       " array([54.48491489]),\n",
       " array([54.47968075]),\n",
       " array([54.47444912]),\n",
       " array([54.46922001]),\n",
       " array([54.46399341]),\n",
       " array([54.45876932]),\n",
       " array([54.45354775]),\n",
       " array([54.44832869]),\n",
       " array([54.44311214]),\n",
       " array([54.4378981]),\n",
       " array([54.43268656]),\n",
       " array([54.42747753]),\n",
       " array([54.42227101]),\n",
       " array([54.41706698]),\n",
       " array([54.41186547]),\n",
       " array([54.40666645]),\n",
       " array([54.40146993]),\n",
       " array([54.39627591]),\n",
       " array([54.39108439]),\n",
       " array([54.38589537]),\n",
       " array([54.38070884]),\n",
       " array([54.37552481]),\n",
       " array([54.37034327]),\n",
       " array([54.36516422]),\n",
       " array([54.35998766]),\n",
       " array([54.35481359]),\n",
       " array([54.34964201]),\n",
       " array([54.34447291]),\n",
       " array([54.3393063]),\n",
       " array([54.33414218]),\n",
       " array([54.32898054]),\n",
       " array([54.32382138]),\n",
       " array([54.3186647]),\n",
       " array([54.3135105]),\n",
       " array([54.30835879]),\n",
       " array([54.30320954]),\n",
       " array([54.29806278]),\n",
       " array([54.29291849]),\n",
       " array([54.28777667]),\n",
       " array([54.28263733]),\n",
       " array([54.27750045]),\n",
       " array([54.27236605]),\n",
       " array([54.26723412]),\n",
       " array([54.26210465]),\n",
       " array([54.25697765]),\n",
       " array([54.25185312]),\n",
       " array([54.24673105]),\n",
       " array([54.24161144]),\n",
       " array([54.2364943]),\n",
       " array([54.23137962]),\n",
       " array([54.22626739]),\n",
       " array([54.22115763]),\n",
       " array([54.21605032]),\n",
       " array([54.21094547]),\n",
       " array([54.20584307]),\n",
       " array([54.20074313]),\n",
       " array([54.19564563]),\n",
       " array([54.19055059]),\n",
       " array([54.18545801]),\n",
       " array([54.18036786]),\n",
       " array([54.17528017]),\n",
       " array([54.17019493]),\n",
       " array([54.16511212]),\n",
       " array([54.16003177]),\n",
       " array([54.15495385]),\n",
       " array([54.14987838]),\n",
       " array([54.14480535]),\n",
       " array([54.13973476]),\n",
       " array([54.13466661]),\n",
       " array([54.12960089]),\n",
       " array([54.12453761]),\n",
       " array([54.11947677]),\n",
       " array([54.11441836]),\n",
       " array([54.10936238]),\n",
       " array([54.10430883]),\n",
       " ...]"
      ]
     },
     "execution_count": 58,
     "metadata": {},
     "output_type": "execute_result"
    }
   ],
   "source": [
    "\"\"\"各反復の結果の損失値、すなわち平均2乗誤差のリストを返す\"\"\"\n",
    "cost_history"
   ]
  },
  {
   "cell_type": "code",
   "execution_count": 59,
   "metadata": {},
   "outputs": [
    {
     "data": {
      "image/png": "[encoded data removed]",
      "text/plain": [
       "<Figure size 640x480 with 1 Axes>"
      ]
     },
     "metadata": {},
     "output_type": "display_data"
    }
   ],
   "source": [
    "\"\"\"線形委回帰直線をプロットして、データにどれくらい適合しているかを確認\"\"\"\n",
    "y_hat = X*coefficient + intercept\n",
    "plt.plot(X, Y, 'bo')\n",
    "plt.plot(X, y_hat)\n",
    "plt.show()"
   ]
  }
 ],
 "metadata": {
  "kernelspec": {
   "display_name": "Python 3.8.2 32-bit",
   "language": "python",
   "name": "python3"
  },
  "language_info": {
   "codemirror_mode": {
    "name": "ipython",
    "version": 3
   },
   "file_extension": ".py",
   "mimetype": "text/x-python",
   "name": "python",
   "nbconvert_exporter": "python",
   "pygments_lexer": "ipython3",
   "version": "3.8.2"
  },
  "orig_nbformat": 4,
  "vscode": {
   "interpreter": {
    "hash": "ab346aeb941d3eb22c315bdddbcd7a9399296d9e3feea520812b7600ca0cd9c8"
   }
  }
 },
 "nbformat": 4,
 "nbformat_minor": 2
}
